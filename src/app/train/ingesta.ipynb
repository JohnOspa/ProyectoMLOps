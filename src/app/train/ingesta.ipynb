{
 "cells": [
  {
   "cell_type": "markdown",
   "id": "26e50a1d",
   "metadata": {},
   "source": [
    "# **Ingesta de datos**"
   ]
  },
  {
   "cell_type": "code",
   "execution_count": 1,
   "id": "1858b023",
   "metadata": {},
   "outputs": [],
   "source": [
    "import pandas as pd\n",
    "from sklearn.preprocessing import LabelEncoder\n",
    "from ucimlrepo import fetch_ucirepo "
   ]
  },
  {
   "cell_type": "code",
   "execution_count": 2,
   "id": "45b8e840",
   "metadata": {},
   "outputs": [],
   "source": [
    "adult = fetch_ucirepo(id=2) "
   ]
  },
  {
   "cell_type": "code",
   "execution_count": 3,
   "id": "62a4a988",
   "metadata": {},
   "outputs": [
    {
     "data": {
      "text/html": [
       "<div>\n",
       "<style scoped>\n",
       "    .dataframe tbody tr th:only-of-type {\n",
       "        vertical-align: middle;\n",
       "    }\n",
       "\n",
       "    .dataframe tbody tr th {\n",
       "        vertical-align: top;\n",
       "    }\n",
       "\n",
       "    .dataframe thead th {\n",
       "        text-align: right;\n",
       "    }\n",
       "</style>\n",
       "<table border=\"1\" class=\"dataframe\">\n",
       "  <thead>\n",
       "    <tr style=\"text-align: right;\">\n",
       "      <th></th>\n",
       "      <th>age</th>\n",
       "      <th>workclass</th>\n",
       "      <th>fnlwgt</th>\n",
       "      <th>education</th>\n",
       "      <th>education-num</th>\n",
       "      <th>marital-status</th>\n",
       "      <th>occupation</th>\n",
       "      <th>relationship</th>\n",
       "      <th>race</th>\n",
       "      <th>sex</th>\n",
       "      <th>capital-gain</th>\n",
       "      <th>capital-loss</th>\n",
       "      <th>hours-per-week</th>\n",
       "      <th>native-country</th>\n",
       "      <th>income</th>\n",
       "    </tr>\n",
       "  </thead>\n",
       "  <tbody>\n",
       "    <tr>\n",
       "      <th>0</th>\n",
       "      <td>39</td>\n",
       "      <td>State-gov</td>\n",
       "      <td>77516</td>\n",
       "      <td>Bachelors</td>\n",
       "      <td>13</td>\n",
       "      <td>Never-married</td>\n",
       "      <td>Adm-clerical</td>\n",
       "      <td>Not-in-family</td>\n",
       "      <td>White</td>\n",
       "      <td>Male</td>\n",
       "      <td>2174</td>\n",
       "      <td>0</td>\n",
       "      <td>40</td>\n",
       "      <td>United-States</td>\n",
       "      <td>&lt;=50K</td>\n",
       "    </tr>\n",
       "    <tr>\n",
       "      <th>1</th>\n",
       "      <td>50</td>\n",
       "      <td>Self-emp-not-inc</td>\n",
       "      <td>83311</td>\n",
       "      <td>Bachelors</td>\n",
       "      <td>13</td>\n",
       "      <td>Married-civ-spouse</td>\n",
       "      <td>Exec-managerial</td>\n",
       "      <td>Husband</td>\n",
       "      <td>White</td>\n",
       "      <td>Male</td>\n",
       "      <td>0</td>\n",
       "      <td>0</td>\n",
       "      <td>13</td>\n",
       "      <td>United-States</td>\n",
       "      <td>&lt;=50K</td>\n",
       "    </tr>\n",
       "    <tr>\n",
       "      <th>2</th>\n",
       "      <td>38</td>\n",
       "      <td>Private</td>\n",
       "      <td>215646</td>\n",
       "      <td>HS-grad</td>\n",
       "      <td>9</td>\n",
       "      <td>Divorced</td>\n",
       "      <td>Handlers-cleaners</td>\n",
       "      <td>Not-in-family</td>\n",
       "      <td>White</td>\n",
       "      <td>Male</td>\n",
       "      <td>0</td>\n",
       "      <td>0</td>\n",
       "      <td>40</td>\n",
       "      <td>United-States</td>\n",
       "      <td>&lt;=50K</td>\n",
       "    </tr>\n",
       "    <tr>\n",
       "      <th>3</th>\n",
       "      <td>53</td>\n",
       "      <td>Private</td>\n",
       "      <td>234721</td>\n",
       "      <td>11th</td>\n",
       "      <td>7</td>\n",
       "      <td>Married-civ-spouse</td>\n",
       "      <td>Handlers-cleaners</td>\n",
       "      <td>Husband</td>\n",
       "      <td>Black</td>\n",
       "      <td>Male</td>\n",
       "      <td>0</td>\n",
       "      <td>0</td>\n",
       "      <td>40</td>\n",
       "      <td>United-States</td>\n",
       "      <td>&lt;=50K</td>\n",
       "    </tr>\n",
       "    <tr>\n",
       "      <th>4</th>\n",
       "      <td>28</td>\n",
       "      <td>Private</td>\n",
       "      <td>338409</td>\n",
       "      <td>Bachelors</td>\n",
       "      <td>13</td>\n",
       "      <td>Married-civ-spouse</td>\n",
       "      <td>Prof-specialty</td>\n",
       "      <td>Wife</td>\n",
       "      <td>Black</td>\n",
       "      <td>Female</td>\n",
       "      <td>0</td>\n",
       "      <td>0</td>\n",
       "      <td>40</td>\n",
       "      <td>Cuba</td>\n",
       "      <td>&lt;=50K</td>\n",
       "    </tr>\n",
       "  </tbody>\n",
       "</table>\n",
       "</div>"
      ],
      "text/plain": [
       "   age         workclass  fnlwgt  education  education-num  \\\n",
       "0   39         State-gov   77516  Bachelors             13   \n",
       "1   50  Self-emp-not-inc   83311  Bachelors             13   \n",
       "2   38           Private  215646    HS-grad              9   \n",
       "3   53           Private  234721       11th              7   \n",
       "4   28           Private  338409  Bachelors             13   \n",
       "\n",
       "       marital-status         occupation   relationship   race     sex  \\\n",
       "0       Never-married       Adm-clerical  Not-in-family  White    Male   \n",
       "1  Married-civ-spouse    Exec-managerial        Husband  White    Male   \n",
       "2            Divorced  Handlers-cleaners  Not-in-family  White    Male   \n",
       "3  Married-civ-spouse  Handlers-cleaners        Husband  Black    Male   \n",
       "4  Married-civ-spouse     Prof-specialty           Wife  Black  Female   \n",
       "\n",
       "   capital-gain  capital-loss  hours-per-week native-country income  \n",
       "0          2174             0              40  United-States  <=50K  \n",
       "1             0             0              13  United-States  <=50K  \n",
       "2             0             0              40  United-States  <=50K  \n",
       "3             0             0              40  United-States  <=50K  \n",
       "4             0             0              40           Cuba  <=50K  "
      ]
     },
     "execution_count": 3,
     "metadata": {},
     "output_type": "execute_result"
    }
   ],
   "source": [
    "df = pd.concat([adult.data.features, adult.data.targets], axis=1)\n",
    "df.head()"
   ]
  },
  {
   "cell_type": "code",
   "execution_count": 4,
   "id": "d962f6da",
   "metadata": {},
   "outputs": [],
   "source": [
    "mapeo_sex = {'Female': 1, 'Male': 0}\n",
    "df['sex'] = df['sex'].map(mapeo_sex)"
   ]
  },
  {
   "cell_type": "code",
   "execution_count": 5,
   "id": "90061194",
   "metadata": {},
   "outputs": [],
   "source": [
    "# Columnas categóricas a codificar\n",
    "columnas_categoricas = ['workclass','education','marital-status','occupation','relationship','native-country']\n",
    "\n",
    "# Inicializar codificadores\n",
    "encoders = {}\n",
    "for col in columnas_categoricas:\n",
    "    le = LabelEncoder()\n",
    "    df[col] = le.fit_transform(df[col].astype(str))\n",
    "    encoders[col] = le  # Guardamos el encoder para posibles decodificaciones posteriores"
   ]
  },
  {
   "cell_type": "code",
   "execution_count": 6,
   "id": "1a823ad6",
   "metadata": {},
   "outputs": [
    {
     "name": "stdout",
     "output_type": "stream",
     "text": [
      "income_clean\n",
      "<=50K    37155\n",
      ">50K     11687\n",
      "Name: count, dtype: int64\n",
      "income_bin\n",
      "0    37155\n",
      "1    11687\n",
      "Name: count, dtype: int64\n"
     ]
    }
   ],
   "source": [
    "# 1) Normaliza la etiqueta: quita espacios y punto final\n",
    "df['income_clean'] = (\n",
    "    df['income']\n",
    "      .astype(str)\n",
    "      .str.strip()                 # quita espacios al inicio/fin\n",
    "      .str.replace(r'\\.$', '', regex=True)   # elimina punto final si existe\n",
    ")\n",
    "\n",
    "# Verifica\n",
    "print(df['income_clean'].value_counts(dropna=False))\n",
    "\n",
    "#Reemplazar \n",
    "df['income_bin'] = df['income_clean'].map({'>50K': 1, '<=50K': 0})\n",
    "\n",
    "# Comprueba que no queden NaN por categorías no previstas\n",
    "print(df['income_bin'].value_counts(dropna=False))"
   ]
  },
  {
   "cell_type": "code",
   "execution_count": 7,
   "id": "91c5a75a",
   "metadata": {},
   "outputs": [],
   "source": [
    "# Eliminar la columna 'income' y renombrar 'income_bin' a 'income'\n",
    "df = df.drop(columns=[\"income\"])\n",
    "df = df.drop(columns=[\"income_clean\"])\n",
    "df = df.rename(columns={\"income_bin\": \"income\"})"
   ]
  },
  {
   "cell_type": "code",
   "execution_count": 8,
   "id": "514c75d9",
   "metadata": {},
   "outputs": [],
   "source": [
    "df_tracking = df.copy()"
   ]
  },
  {
   "cell_type": "markdown",
   "id": "5c7a7118",
   "metadata": {},
   "source": [
    "# **Denifir columnas a modelar**"
   ]
  },
  {
   "cell_type": "code",
   "execution_count": 9,
   "id": "2135e335",
   "metadata": {},
   "outputs": [],
   "source": [
    "from sklearn.feature_extraction import DictVectorizer\n",
    "from sklearn.compose import ColumnTransformer\n",
    "from sklearn.preprocessing import StandardScaler\n",
    "from sklearn.impute import SimpleImputer\n",
    "from sklearn.pipeline import Pipeline\n",
    "from sklearn.model_selection import train_test_split\n",
    "from sklearn.ensemble import RandomForestClassifier\n",
    "from sklearn.metrics import confusion_matrix, ConfusionMatrixDisplay\n",
    "from sklearn.metrics import accuracy_score, classification_report, f1_score, precision_score, recall_score\n",
    "import seaborn as sns"
   ]
  },
  {
   "cell_type": "code",
   "execution_count": 10,
   "id": "85641780",
   "metadata": {},
   "outputs": [
    {
     "data": {
      "text/plain": [
       "<Axes: xlabel='income', ylabel='count'>"
      ]
     },
     "execution_count": 10,
     "metadata": {},
     "output_type": "execute_result"
    },
    {
     "data": {
      "image/png": "[encoded data removed]",
      "text/plain": [
       "<Figure size 640x480 with 1 Axes>"
      ]
     },
     "metadata": {},
     "output_type": "display_data"
    }
   ],
   "source": [
    "sns.countplot(df, x = \"income\" )"
   ]
  },
  {
   "cell_type": "markdown",
   "id": "63b35e5d",
   "metadata": {},
   "source": [
    "# **MLFLOW**"
   ]
  },
  {
   "cell_type": "code",
   "execution_count": 15,
   "id": "2a56c927",
   "metadata": {},
   "outputs": [],
   "source": [
    "from sklearn.feature_extraction import DictVectorizer\n",
    "import pickle"
   ]
  },
  {
   "cell_type": "code",
   "execution_count": 16,
   "id": "3aea5f52",
   "metadata": {},
   "outputs": [],
   "source": [
    "categorical = [\n",
    "    'workclass','marital-status','occupation',\n",
    "    'relationship','native-country'\n",
    "]\n",
    "numerical = ['age','education-num','capital-gain','capital-loss','hours-per-week']"
   ]
  },
  {
   "cell_type": "code",
   "execution_count": 17,
   "id": "84e19c99",
   "metadata": {},
   "outputs": [],
   "source": [
    "df_train, df_val = train_test_split(df, test_size=0.4, random_state=42)"
   ]
  },
  {
   "cell_type": "code",
   "execution_count": 18,
   "id": "8956018e",
   "metadata": {},
   "outputs": [],
   "source": [
    "from sklearn.feature_extraction import DictVectorizer\n",
    "from sklearn.compose import ColumnTransformer\n",
    "from sklearn.preprocessing import StandardScaler\n",
    "from sklearn.impute import SimpleImputer\n",
    "from sklearn.pipeline import Pipeline\n",
    "\n",
    "df_train = df_train.copy()\n",
    "df_val   = df_val.copy()\n",
    "df_train[\"categorical_dict\"] = df_train[categorical].to_dict(orient=\"records\")\n",
    "df_val[\"categorical_dict\"]   = df_val[categorical].to_dict(orient=\"records\")\n",
    "\n",
    "# Preprocesador: categóricas via DictVectorizer, numéricas con imputación + escala\n",
    "preprocessor = ColumnTransformer(\n",
    "    transformers=[\n",
    "        (\"cat\", DictVectorizer(), \"categorical_dict\"),\n",
    "        (\"num\", Pipeline([\n",
    "            (\"imputer\", SimpleImputer(strategy=\"median\")),\n",
    "            (\"scaler\",  StandardScaler())\n",
    "        ]), numerical),\n",
    "    ]\n",
    ")\n",
    "\n",
    "X_train = preprocessor.fit_transform(df_train)\n",
    "y_train = df_train[\"income\"].values\n",
    "X_val   = preprocessor.transform(df_val)\n",
    "y_val   = df_val[\"income\"].values"
   ]
  },
  {
   "cell_type": "markdown",
   "id": "beffc826",
   "metadata": {},
   "source": [
    "Antes ejecutar esto por terminal donde se encuentra el notebook\n",
    "\n",
    "mlflow server --backend-store-uri sqlite:///backend.db"
   ]
  },
  {
   "cell_type": "code",
   "execution_count": 19,
   "id": "f4030706",
   "metadata": {},
   "outputs": [],
   "source": [
    "import mlflow\n",
    "\n",
    "mlflow.set_tracking_uri(\"http://127.0.0.1:5000\")"
   ]
  },
  {
   "cell_type": "code",
   "execution_count": 20,
   "id": "a8858eba",
   "metadata": {},
   "outputs": [
    {
     "name": "stdout",
     "output_type": "stream",
     "text": [
      "tracking URI: 'http://127.0.0.1:5000'\n"
     ]
    }
   ],
   "source": [
    "print(f\"tracking URI: '{mlflow.get_tracking_uri()}'\")"
   ]
  },
  {
   "cell_type": "code",
   "execution_count": 21,
   "id": "2590c9fc",
   "metadata": {},
   "outputs": [
    {
     "data": {
      "text/plain": [
       "[<Experiment: artifact_location='file:///C:/Users/ASUS/Documents/6_CURSOS/ESPECIALIZACION/Semestre_II/4_APRENDIZAJE_EN_LA_NUBE/ProyectoMLOps/mlruns/8', creation_time=1759789334247, experiment_id='8', last_update_time=1759789334247, lifecycle_stage='active', name='Adult-MLFlow-Orquestacion', tags={}>,\n",
       " <Experiment: artifact_location='file:///C:/Users/ASUS/Documents/6_CURSOS/ESPECIALIZACION/Semestre_II/4_APRENDIZAJE_EN_LA_NUBE/ProyectoMLOps/mlruns/7', creation_time=1759780804538, experiment_id='7', last_update_time=1759780804538, lifecycle_stage='active', name='Ingresos-experiment', tags={}>,\n",
       " <Experiment: artifact_location='file:///C:/Users/ASUS/Documents/6_CURSOS/ESPECIALIZACION/Semestre_II/4_APRENDIZAJE_EN_LA_NUBE/ProyectoMLOps/mlruns/6', creation_time=1759779667670, experiment_id='6', last_update_time=1759779667670, lifecycle_stage='active', name='Ingresos_Optuna', tags={}>,\n",
       " <Experiment: artifact_location='file:///C:/Users/ASUS/Documents/6_CURSOS/ESPECIALIZACION/Semestre_II/4_APRENDIZAJE_EN_LA_NUBE/ProyectoMLOps/mlruns/5', creation_time=1759778128395, experiment_id='5', last_update_time=1759778128395, lifecycle_stage='active', name='Ingresos_autolog', tags={}>,\n",
       " <Experiment: artifact_location='file:///C:/Users/ASUS/Documents/6_CURSOS/ESPECIALIZACION/Semestre_II/4_APRENDIZAJE_EN_LA_NUBE/ProyectoMLOps/mlruns/4', creation_time=1759775996674, experiment_id='4', last_update_time=1759775996674, lifecycle_stage='active', name='Ingresos_Logistica', tags={}>,\n",
       " <Experiment: artifact_location='file:///C:/Users/ASUS/Documents/6_CURSOS/ESPECIALIZACION/Semestre_II/4_APRENDIZAJE_EN_LA_NUBE/ProyectoMLOps/mlruns/3', creation_time=1759774654134, experiment_id='3', last_update_time=1759774654134, lifecycle_stage='active', name='Ingresos_Clasificacion_RandomForest', tags={}>,\n",
       " <Experiment: artifact_location='file:///C:/Users/ASUS/Documents/6_CURSOS/ESPECIALIZACION/Semestre_II/4_APRENDIZAJE_EN_LA_NUBE/ProyectoMLOps/mlruns/2', creation_time=1759731624770, experiment_id='2', last_update_time=1759731624770, lifecycle_stage='active', name='Ingresos_Xgboost', tags={}>,\n",
       " <Experiment: artifact_location='file:///C:/Users/ASUS/Documents/6_CURSOS/ESPECIALIZACION/Semestre_II/4_APRENDIZAJE_EN_LA_NUBE/ProyectoMLOps/mlruns/1', creation_time=1759731141224, experiment_id='1', last_update_time=1759731141224, lifecycle_stage='active', name='Ingresos_Clasificacion', tags={'mlflow.experimentKind': 'custom_model_development'}>,\n",
       " <Experiment: artifact_location='file:///C:/Users/ASUS/Documents/6_CURSOS/ESPECIALIZACION/Semestre_II/4_APRENDIZAJE_EN_LA_NUBE/ProyectoMLOps/mlruns/0', creation_time=1759730872974, experiment_id='0', last_update_time=1759730872974, lifecycle_stage='active', name='Default', tags={}>]"
      ]
     },
     "execution_count": 21,
     "metadata": {},
     "output_type": "execute_result"
    }
   ],
   "source": [
    "mlflow.search_experiments()"
   ]
  },
  {
   "cell_type": "markdown",
   "id": "45acaaa5",
   "metadata": {},
   "source": [
    "## **RANDOM FOREST**"
   ]
  },
  {
   "cell_type": "code",
   "execution_count": 23,
   "id": "715f3b8a",
   "metadata": {},
   "outputs": [
    {
     "name": "stderr",
     "output_type": "stream",
     "text": [
      "2025/10/07 06:57:51 WARNING mlflow.models.model: `artifact_path` is deprecated. Please use `name` instead.\n",
      "2025/10/07 06:58:06 WARNING mlflow.utils.environment: Failed to resolve installed pip version. ``pip`` will be added to conda.yaml environment spec without a version specifier.\n",
      "2025/10/07 06:58:06 WARNING mlflow.models.model: Model logged without a signature and input example. Please set `input_example` parameter when logging the model to auto infer the model signature.\n"
     ]
    },
    {
     "name": "stdout",
     "output_type": "stream",
     "text": [
      "🏃 View run RF_balanced at: http://127.0.0.1:5000/#/experiments/3/runs/4eaf76395d3e4ba4ad2adcaf44d454dd\n",
      "🧪 View experiment at: http://127.0.0.1:5000/#/experiments/3\n",
      "RF -> acc:0.821 f1:0.697 prec:0.589 rec:0.855 roc:0.917\n"
     ]
    }
   ],
   "source": [
    "from sklearn.ensemble import RandomForestRegressor,RandomForestClassifier\n",
    "from sklearn.metrics import mean_squared_error\n",
    "import numpy as np\n",
    "from sklearn.metrics import accuracy_score, precision_score, recall_score, f1_score, roc_auc_score\n",
    "\n",
    "experiment_name = \"Ingresos_Clasificacion_RandomForest\"\n",
    "mlflow.set_experiment(experiment_name)\n",
    "\n",
    "with mlflow.start_run(run_name=\"RF_balanced\"):\n",
    "    rf = RandomForestClassifier(\n",
    "        n_estimators=300, \n",
    "        random_state=42, \n",
    "        max_depth=12,\n",
    "        n_jobs=-1,\n",
    "        class_weight=\"balanced\")\n",
    "    rf.fit(X_train, y_train)\n",
    "    y_pred = rf.predict(X_val)\n",
    "    y_proba = rf.predict_proba(X_val)[:,1] if hasattr(rf, \"predict_proba\") else None\n",
    "    \n",
    "    acc = accuracy_score(y_val, y_pred)\n",
    "    prec = precision_score(y_val, y_pred)\n",
    "    rec  = recall_score(y_val, y_pred)\n",
    "    f1   = f1_score(y_val, y_pred)\n",
    "    roc  = roc_auc_score(y_val, y_proba) if y_proba is not None else float(\"nan\")   \n",
    "    \n",
    "    \n",
    "    mlflow.log_param(\"n_estimators\", 300)\n",
    "    mlflow.log_param(\"max_depth\", 12)\n",
    "    mlflow.log_param(\"class_weight\", \"balanced\")\n",
    "    mlflow.log_metric(\"accuracy\", acc)\n",
    "    #rmse = np.sqrt(mean_squared_error(y_val, y_pred))\n",
    "    mlflow.log_metric(\"precision\", prec)\n",
    "    mlflow.log_metric(\"recall\", rec)\n",
    "    mlflow.log_metric(\"f1_score\", f1)\n",
    "    mlflow.log_metric(\"roc_auc\", roc)\n",
    "\n",
    "    mlflow.sklearn.log_model(rf, artifact_path=\"model\")\n",
    "\n",
    "print(f\"RF -> acc:{acc:.3f} f1:{f1:.3f} prec:{prec:.3f} rec:{rec:.3f} roc:{roc:.3f}\")"
   ]
  },
  {
   "cell_type": "markdown",
   "id": "9f34c153",
   "metadata": {},
   "source": [
    "## **XGBOOST**"
   ]
  },
  {
   "cell_type": "code",
   "execution_count": 24,
   "id": "2fa2280e",
   "metadata": {},
   "outputs": [
    {
     "name": "stderr",
     "output_type": "stream",
     "text": [
      "2025/10/07 06:58:38 WARNING mlflow.models.model: `artifact_path` is deprecated. Please use `name` instead.\n",
      "2025/10/07 06:58:46 WARNING mlflow.utils.environment: Failed to resolve installed pip version. ``pip`` will be added to conda.yaml environment spec without a version specifier.\n",
      "2025/10/07 06:58:46 WARNING mlflow.models.model: Model logged without a signature and input example. Please set `input_example` parameter when logging the model to auto infer the model signature.\n"
     ]
    },
    {
     "name": "stdout",
     "output_type": "stream",
     "text": [
      "🏃 View run XGB_spw at: http://127.0.0.1:5000/#/experiments/2/runs/90fbcecaa08b417e96275328655824c0\n",
      "🧪 View experiment at: http://127.0.0.1:5000/#/experiments/2\n",
      "XGB -> acc:0.834 f1:0.711 prec:0.614 rec:0.846 roc:0.924\n"
     ]
    }
   ],
   "source": [
    "import xgboost as xgb\n",
    "\n",
    "experiment_name = \"Ingresos_Xgboost\"\n",
    "mlflow.set_experiment(experiment_name)\n",
    "\n",
    "# balanceo para XGB\n",
    "n_pos = int((y_train == 1).sum())\n",
    "n_neg = int((y_train == 0).sum())\n",
    "spw = n_neg / n_pos\n",
    "\n",
    "with mlflow.start_run(run_name=\"XGB_spw\"):\n",
    "    xgb_reg = xgb.XGBClassifier(\n",
    "        objective=\"binary:logistic\",\n",
    "        eval_metric=\"logloss\",\n",
    "        n_estimators=400,\n",
    "        max_depth=6,\n",
    "        learning_rate=0.1,\n",
    "        subsample=0.9,\n",
    "        colsample_bytree=0.9,\n",
    "        reg_lambda=1.0,\n",
    "        n_jobs=-1,\n",
    "        random_state=42,\n",
    "        scale_pos_weight=spw\n",
    "    )\n",
    "    xgb_reg.fit(X_train, y_train)\n",
    "    y_pred = xgb_reg.predict(X_val)\n",
    "    y_proba = xgb_reg.predict_proba(X_val)[:,1]\n",
    "\n",
    "    acc = accuracy_score(y_val, y_pred)\n",
    "    prec = precision_score(y_val, y_pred)\n",
    "    rec  = recall_score(y_val, y_pred)\n",
    "    f1   = f1_score(y_val, y_pred)\n",
    "    roc  = roc_auc_score(y_val, y_proba)\n",
    "\n",
    "    mlflow.log_param(\"scale_pos_weight\", round(spw,3))\n",
    "    mlflow.log_param(\"n_estimators\", 400)\n",
    "    mlflow.log_param(\"max_depth\", 6)\n",
    "    mlflow.log_metric(\"accuracy\", acc)\n",
    "    mlflow.log_metric(\"precision\", prec)\n",
    "    mlflow.log_metric(\"recall\", rec)\n",
    "    mlflow.log_metric(\"f1_score\", f1)\n",
    "    mlflow.log_metric(\"roc_auc\", roc)\n",
    "\n",
    "    mlflow.sklearn.log_model(xgb_reg, artifact_path=\"model\")\n",
    "\n",
    "print(f\"XGB -> acc:{acc:.3f} f1:{f1:.3f} prec:{prec:.3f} rec:{rec:.3f} roc:{roc:.3f}\")"
   ]
  },
  {
   "cell_type": "markdown",
   "id": "f0d36ba9",
   "metadata": {},
   "source": [
    "## **REGRESIÓN LOGISTICA**"
   ]
  },
  {
   "cell_type": "code",
   "execution_count": 25,
   "id": "d22b8412",
   "metadata": {},
   "outputs": [
    {
     "name": "stderr",
     "output_type": "stream",
     "text": [
      "2025/10/07 06:59:25 WARNING mlflow.models.model: `artifact_path` is deprecated. Please use `name` instead.\n",
      "2025/10/07 06:59:32 WARNING mlflow.utils.environment: Failed to resolve installed pip version. ``pip`` will be added to conda.yaml environment spec without a version specifier.\n",
      "2025/10/07 06:59:32 WARNING mlflow.models.model: Model logged without a signature and input example. Please set `input_example` parameter when logging the model to auto infer the model signature.\n"
     ]
    },
    {
     "name": "stdout",
     "output_type": "stream",
     "text": [
      "🏃 View run LogReg_balanced at: http://127.0.0.1:5000/#/experiments/4/runs/6b6503bde10e495991ea322a880c9f7b\n",
      "🧪 View experiment at: http://127.0.0.1:5000/#/experiments/4\n",
      "LogReg -> acc:0.834 f1:0.711 prec:0.614 rec:0.846 roc:0.850\n"
     ]
    }
   ],
   "source": [
    "from sklearn.linear_model import LogisticRegression\n",
    "\n",
    "experiment_name = \"Ingresos_Logistica\"\n",
    "mlflow.set_experiment(experiment_name)\n",
    "\n",
    "\n",
    "with mlflow.start_run(run_name=\"LogReg_balanced\"):\n",
    "    log_reg = LogisticRegression(\n",
    "        max_iter=1000,\n",
    "        class_weight=\"balanced\",\n",
    "        n_jobs=None,        \n",
    "        random_state=42\n",
    "    )\n",
    "    log_reg.fit(X_train, y_train)\n",
    "    y_pred = xgb_reg.predict(X_val)\n",
    "    if hasattr(log_reg, \"predict_proba\"):\n",
    "        y_proba = log_reg.predict_proba(X_val)[:,1]\n",
    "    else:\n",
    "        z = log_reg.decision_function(X_val)\n",
    "        y_proba = (z - z.min()) / (z.max() - z.min() + 1e-9)\n",
    "\n",
    "    acc = accuracy_score(y_val, y_pred)\n",
    "    prec = precision_score(y_val, y_pred)\n",
    "    rec  = recall_score(y_val, y_pred)\n",
    "    f1   = f1_score(y_val, y_pred)\n",
    "    roc  = roc_auc_score(y_val, y_proba)\n",
    "\n",
    "    mlflow.log_param(\"class_weight\", \"balanced\")\n",
    "    mlflow.log_param(\"max_iter\", 1000)\n",
    "    mlflow.log_metric(\"accuracy\", acc)\n",
    "    mlflow.log_metric(\"precision\", prec)\n",
    "    mlflow.log_metric(\"recall\", rec)\n",
    "    mlflow.log_metric(\"f1_score\", f1)\n",
    "    mlflow.log_metric(\"roc_auc\", roc)\n",
    "\n",
    "    mlflow.sklearn.log_model(log_reg, artifact_path=\"model\")\n",
    "\n",
    "print(f\"LogReg -> acc:{acc:.3f} f1:{f1:.3f} prec:{prec:.3f} rec:{rec:.3f} roc:{roc:.3f}\")"
   ]
  },
  {
   "cell_type": "markdown",
   "id": "e7024079",
   "metadata": {},
   "source": [
    "# **Probando autologgin**"
   ]
  },
  {
   "cell_type": "code",
   "execution_count": 27,
   "id": "507c1fd8",
   "metadata": {},
   "outputs": [
    {
     "name": "stderr",
     "output_type": "stream",
     "text": [
      "2025/10/07 07:00:05 INFO mlflow.tracking.fluent: Autologging successfully enabled for sklearn.\n",
      "2025/10/07 07:00:05 INFO mlflow.tracking.fluent: Autologging successfully enabled for xgboost.\n",
      "2025/10/07 07:00:15 WARNING mlflow.utils.environment: Failed to resolve installed pip version. ``pip`` will be added to conda.yaml environment spec without a version specifier.\n"
     ]
    },
    {
     "name": "stdout",
     "output_type": "stream",
     "text": [
      "🏃 View run treasured-wren-423 at: http://127.0.0.1:5000/#/experiments/5/runs/fa2bb159227f4b67b63b9af4af81f8ba\n",
      "🧪 View experiment at: http://127.0.0.1:5000/#/experiments/5\n"
     ]
    }
   ],
   "source": [
    "import mlflow\n",
    "\n",
    "experiment_name = \"Ingresos_autolog\"\n",
    "mlflow.set_experiment(experiment_name)\n",
    "mlflow.autolog()\n",
    "\n",
    "with mlflow.start_run():\n",
    "    rf = RandomForestRegressor(n_estimators=100, random_state=0, max_depth=10)\n",
    "    rf.fit(X_train, y_train)\n",
    "    y_pred = rf.predict(X_val)\n",
    "    mlflow.log_param(\"n_estimators\", 100)\n",
    "    mlflow.log_param(\"max_depth\", 10)\n",
    "\n",
    "    rmse = np.sqrt(mean_squared_error(y_val, y_pred))\n",
    "    mlflow.log_metric(\"rmse\", rmse)\n",
    "    mlflow.log_metric(\"accuracy\", acc)\n",
    "    mlflow.log_metric(\"f1_score\", f1)"
   ]
  },
  {
   "cell_type": "code",
   "execution_count": 28,
   "id": "f19d0edc",
   "metadata": {},
   "outputs": [
    {
     "name": "stderr",
     "output_type": "stream",
     "text": [
      "2025/10/07 07:00:25 INFO mlflow.tracking.fluent: Autologging successfully enabled for sklearn.\n",
      "2025/10/07 07:00:25 INFO mlflow.tracking.fluent: Autologging successfully enabled for xgboost.\n",
      "2025/10/07 07:00:27 WARNING mlflow.models.model: `artifact_path` is deprecated. Please use `name` instead.\n",
      "2025/10/07 07:00:27 WARNING mlflow.utils.autologging_utils: MLflow autologging encountered a warning: \"c:\\Users\\ASUS\\Documents\\6_CURSOS\\ESPECIALIZACION\\Semestre_II\\4_APRENDIZAJE_EN_LA_NUBE\\ProyectoMLOps\\.venv\\Lib\\site-packages\\xgboost\\sklearn.py:1028: UserWarning: [07:00:27] WARNING: C:\\actions-runner\\_work\\xgboost\\xgboost\\src\\c_api\\c_api.cc:1427: Saving model in the UBJSON format as default.  You can use file extension: `json`, `ubj` or `deprecated` to choose between formats.\"\n",
      "2025/10/07 07:00:33 WARNING mlflow.utils.environment: Failed to resolve installed pip version. ``pip`` will be added to conda.yaml environment spec without a version specifier.\n"
     ]
    },
    {
     "name": "stdout",
     "output_type": "stream",
     "text": [
      "🏃 View run XGBClassifier_autolog_spw at: http://127.0.0.1:5000/#/experiments/5/runs/a5cc18df2c6f4d6682c4b4d25492cde2\n",
      "🧪 View experiment at: http://127.0.0.1:5000/#/experiments/5\n",
      "XGB (autolog) -> acc:0.834 f1:0.711 prec:0.614 rec:0.846 roc:0.924\n"
     ]
    }
   ],
   "source": [
    "# ----- AUTLOG activado (XGBoost + scikit-learn) -----\n",
    "mlflow.set_experiment(\"Ingresos_autolog\")\n",
    "mlflow.autolog()               \n",
    "mlflow.xgboost.autolog()       \n",
    "\n",
    "# ----- Balanceo para la clase positiva ( >50K = 1 ) -----\n",
    "n_pos = int((y_train == 1).sum())\n",
    "n_neg = int((y_train == 0).sum())\n",
    "spw = n_neg / n_pos\n",
    "\n",
    "with mlflow.start_run(run_name=\"XGBClassifier_autolog_spw\"):\n",
    "    xgb_clf = xgb.XGBClassifier(\n",
    "        objective=\"binary:logistic\",   # clasificación binaria\n",
    "        eval_metric=\"logloss\",         # para que autolog registre esta métrica\n",
    "        n_estimators=400,\n",
    "        max_depth=6,\n",
    "        learning_rate=0.1,\n",
    "        subsample=0.9,\n",
    "        colsample_bytree=0.9,\n",
    "        reg_lambda=1.0,\n",
    "        n_jobs=-1,\n",
    "        random_state=42,\n",
    "        scale_pos_weight=spw           # balanceo de clases\n",
    "    )\n",
    "\n",
    "    # eval_set hace que MLflow autologue métricas en validación\n",
    "    xgb_clf.fit(X_train, y_train, eval_set=[(X_val, y_val)], verbose=False)\n",
    "\n",
    "    # Predicciones y métricas de CLASIFICACIÓN\n",
    "    y_pred  = xgb_clf.predict(X_val)\n",
    "    y_proba = xgb_clf.predict_proba(X_val)[:, 1]\n",
    "\n",
    "    acc  = accuracy_score(y_val, y_pred)\n",
    "    prec = precision_score(y_val, y_pred)\n",
    "    rec  = recall_score(y_val, y_pred)\n",
    "    f1   = f1_score(y_val, y_pred)\n",
    "    roc  = roc_auc_score(y_val, y_proba)\n",
    "\n",
    "    mlflow.log_metric(\"accuracy\", acc)\n",
    "    mlflow.log_metric(\"precision\", prec)\n",
    "    mlflow.log_metric(\"recall\", rec)\n",
    "    mlflow.log_metric(\"f1_score\", f1)\n",
    "    mlflow.log_metric(\"roc_auc\", roc)\n",
    "\n",
    "print(f\"XGB (autolog) -> acc:{acc:.3f} f1:{f1:.3f} prec:{prec:.3f} rec:{rec:.3f} roc:{roc:.3f}\")\n"
   ]
  },
  {
   "cell_type": "markdown",
   "id": "88191a32",
   "metadata": {},
   "source": [
    "# **OPTUNA**"
   ]
  },
  {
   "cell_type": "code",
   "execution_count": 29,
   "id": "d7b3f5ba",
   "metadata": {},
   "outputs": [
    {
     "name": "stderr",
     "output_type": "stream",
     "text": [
      "c:\\Users\\ASUS\\Documents\\6_CURSOS\\ESPECIALIZACION\\Semestre_II\\4_APRENDIZAJE_EN_LA_NUBE\\ProyectoMLOps\\.venv\\Lib\\site-packages\\tqdm\\auto.py:21: TqdmWarning: IProgress not found. Please update jupyter and ipywidgets. See https://ipywidgets.readthedocs.io/en/stable/user_install.html\n",
      "  from .autonotebook import tqdm as notebook_tqdm\n",
      "[I 2025-10-07 07:00:34,775] A new study created in memory with name: no-name-9c0d31ff-0e8c-45fe-a04d-56ef1d4ee88b\n",
      "2025/10/07 07:00:35 WARNING mlflow.models.model: `artifact_path` is deprecated. Please use `name` instead.\n",
      "2025/10/07 07:00:35 WARNING mlflow.utils.autologging_utils: MLflow autologging encountered a warning: \"c:\\Users\\ASUS\\Documents\\6_CURSOS\\ESPECIALIZACION\\Semestre_II\\4_APRENDIZAJE_EN_LA_NUBE\\ProyectoMLOps\\.venv\\Lib\\site-packages\\xgboost\\sklearn.py:1028: UserWarning: [07:00:35] WARNING: C:\\actions-runner\\_work\\xgboost\\xgboost\\src\\c_api\\c_api.cc:1427: Saving model in the UBJSON format as default.  You can use file extension: `json`, `ubj` or `deprecated` to choose between formats.\"\n",
      "2025/10/07 07:00:41 WARNING mlflow.utils.environment: Failed to resolve installed pip version. ``pip`` will be added to conda.yaml environment spec without a version specifier.\n",
      "[I 2025-10-07 07:00:41,712] Trial 0 finished with value: 0.7087840761575076 and parameters: {'n_estimators': 229, 'max_depth': 6, 'learning_rate': 0.06010450176717634, 'subsample': 0.8851659908178733, 'colsample_bytree': 0.6903237822228881, 'gamma': 4.838335569429448}. Best is trial 0 with value: 0.7087840761575076.\n"
     ]
    },
    {
     "name": "stdout",
     "output_type": "stream",
     "text": [
      "🏃 View run luxuriant-stag-382 at: http://127.0.0.1:5000/#/experiments/6/runs/105025a1a2f04f2b9ed6c9daacb117a0\n",
      "🧪 View experiment at: http://127.0.0.1:5000/#/experiments/6\n"
     ]
    },
    {
     "name": "stderr",
     "output_type": "stream",
     "text": [
      "2025/10/07 07:00:42 WARNING mlflow.models.model: `artifact_path` is deprecated. Please use `name` instead.\n",
      "2025/10/07 07:00:42 WARNING mlflow.utils.autologging_utils: MLflow autologging encountered a warning: \"c:\\Users\\ASUS\\Documents\\6_CURSOS\\ESPECIALIZACION\\Semestre_II\\4_APRENDIZAJE_EN_LA_NUBE\\ProyectoMLOps\\.venv\\Lib\\site-packages\\xgboost\\sklearn.py:1028: UserWarning: [07:00:42] WARNING: C:\\actions-runner\\_work\\xgboost\\xgboost\\src\\c_api\\c_api.cc:1427: Saving model in the UBJSON format as default.  You can use file extension: `json`, `ubj` or `deprecated` to choose between formats.\"\n",
      "2025/10/07 07:00:48 WARNING mlflow.utils.environment: Failed to resolve installed pip version. ``pip`` will be added to conda.yaml environment spec without a version specifier.\n",
      "[I 2025-10-07 07:00:48,529] Trial 1 finished with value: 0.7108328986263258 and parameters: {'n_estimators': 150, 'max_depth': 7, 'learning_rate': 0.16073325820180673, 'subsample': 0.7465710054773693, 'colsample_bytree': 0.8194187291513043, 'gamma': 4.017880604442487}. Best is trial 1 with value: 0.7108328986263258.\n"
     ]
    },
    {
     "name": "stdout",
     "output_type": "stream",
     "text": [
      "🏃 View run enthused-bass-691 at: http://127.0.0.1:5000/#/experiments/6/runs/ec092f27cad74006a53f1dcb15ae05a2\n",
      "🧪 View experiment at: http://127.0.0.1:5000/#/experiments/6\n"
     ]
    },
    {
     "name": "stderr",
     "output_type": "stream",
     "text": [
      "2025/10/07 07:00:49 WARNING mlflow.models.model: `artifact_path` is deprecated. Please use `name` instead.\n",
      "2025/10/07 07:00:49 WARNING mlflow.utils.autologging_utils: MLflow autologging encountered a warning: \"c:\\Users\\ASUS\\Documents\\6_CURSOS\\ESPECIALIZACION\\Semestre_II\\4_APRENDIZAJE_EN_LA_NUBE\\ProyectoMLOps\\.venv\\Lib\\site-packages\\xgboost\\sklearn.py:1028: UserWarning: [07:00:49] WARNING: C:\\actions-runner\\_work\\xgboost\\xgboost\\src\\c_api\\c_api.cc:1427: Saving model in the UBJSON format as default.  You can use file extension: `json`, `ubj` or `deprecated` to choose between formats.\"\n",
      "2025/10/07 07:00:55 WARNING mlflow.utils.environment: Failed to resolve installed pip version. ``pip`` will be added to conda.yaml environment spec without a version specifier.\n",
      "[I 2025-10-07 07:00:55,966] Trial 2 finished with value: 0.709530881453656 and parameters: {'n_estimators': 156, 'max_depth': 9, 'learning_rate': 0.2438672060324192, 'subsample': 0.9845574308436482, 'colsample_bytree': 0.7617958485898597, 'gamma': 2.1209659055693457}. Best is trial 1 with value: 0.7108328986263258.\n"
     ]
    },
    {
     "name": "stdout",
     "output_type": "stream",
     "text": [
      "🏃 View run judicious-shrike-354 at: http://127.0.0.1:5000/#/experiments/6/runs/a510c1d3b7c34e148f918623e2d49def\n",
      "🧪 View experiment at: http://127.0.0.1:5000/#/experiments/6\n"
     ]
    },
    {
     "name": "stderr",
     "output_type": "stream",
     "text": [
      "2025/10/07 07:00:56 WARNING mlflow.models.model: `artifact_path` is deprecated. Please use `name` instead.\n",
      "2025/10/07 07:00:56 WARNING mlflow.utils.autologging_utils: MLflow autologging encountered a warning: \"c:\\Users\\ASUS\\Documents\\6_CURSOS\\ESPECIALIZACION\\Semestre_II\\4_APRENDIZAJE_EN_LA_NUBE\\ProyectoMLOps\\.venv\\Lib\\site-packages\\xgboost\\sklearn.py:1028: UserWarning: [07:00:56] WARNING: C:\\actions-runner\\_work\\xgboost\\xgboost\\src\\c_api\\c_api.cc:1427: Saving model in the UBJSON format as default.  You can use file extension: `json`, `ubj` or `deprecated` to choose between formats.\"\n",
      "2025/10/07 07:01:02 WARNING mlflow.utils.environment: Failed to resolve installed pip version. ``pip`` will be added to conda.yaml environment spec without a version specifier.\n",
      "[I 2025-10-07 07:01:02,763] Trial 3 finished with value: 0.7138461538461538 and parameters: {'n_estimators': 387, 'max_depth': 6, 'learning_rate': 0.22467412245610074, 'subsample': 0.9800192866376121, 'colsample_bytree': 0.69066107110765, 'gamma': 0.804559590605729}. Best is trial 3 with value: 0.7138461538461538.\n"
     ]
    },
    {
     "name": "stdout",
     "output_type": "stream",
     "text": [
      "🏃 View run melodic-frog-370 at: http://127.0.0.1:5000/#/experiments/6/runs/39d8d70e89ce4735a3507c6be1ae6cd9\n",
      "🧪 View experiment at: http://127.0.0.1:5000/#/experiments/6\n"
     ]
    },
    {
     "name": "stderr",
     "output_type": "stream",
     "text": [
      "2025/10/07 07:01:03 WARNING mlflow.models.model: `artifact_path` is deprecated. Please use `name` instead.\n",
      "2025/10/07 07:01:03 WARNING mlflow.utils.autologging_utils: MLflow autologging encountered a warning: \"c:\\Users\\ASUS\\Documents\\6_CURSOS\\ESPECIALIZACION\\Semestre_II\\4_APRENDIZAJE_EN_LA_NUBE\\ProyectoMLOps\\.venv\\Lib\\site-packages\\xgboost\\sklearn.py:1028: UserWarning: [07:01:03] WARNING: C:\\actions-runner\\_work\\xgboost\\xgboost\\src\\c_api\\c_api.cc:1427: Saving model in the UBJSON format as default.  You can use file extension: `json`, `ubj` or `deprecated` to choose between formats.\"\n",
      "2025/10/07 07:01:08 WARNING mlflow.utils.environment: Failed to resolve installed pip version. ``pip`` will be added to conda.yaml environment spec without a version specifier.\n",
      "[I 2025-10-07 07:01:08,423] Trial 4 finished with value: 0.7098994656281133 and parameters: {'n_estimators': 426, 'max_depth': 7, 'learning_rate': 0.08177447571157259, 'subsample': 0.6364968244771652, 'colsample_bytree': 0.9522002915954592, 'gamma': 0.6992894180003095}. Best is trial 3 with value: 0.7138461538461538.\n"
     ]
    },
    {
     "name": "stdout",
     "output_type": "stream",
     "text": [
      "🏃 View run ambitious-pig-101 at: http://127.0.0.1:5000/#/experiments/6/runs/ebe8130d848a4d17932f904112f0a777\n",
      "🧪 View experiment at: http://127.0.0.1:5000/#/experiments/6\n"
     ]
    },
    {
     "name": "stderr",
     "output_type": "stream",
     "text": [
      "2025/10/07 07:01:09 WARNING mlflow.models.model: `artifact_path` is deprecated. Please use `name` instead.\n",
      "2025/10/07 07:01:09 WARNING mlflow.utils.autologging_utils: MLflow autologging encountered a warning: \"c:\\Users\\ASUS\\Documents\\6_CURSOS\\ESPECIALIZACION\\Semestre_II\\4_APRENDIZAJE_EN_LA_NUBE\\ProyectoMLOps\\.venv\\Lib\\site-packages\\xgboost\\sklearn.py:1028: UserWarning: [07:01:09] WARNING: C:\\actions-runner\\_work\\xgboost\\xgboost\\src\\c_api\\c_api.cc:1427: Saving model in the UBJSON format as default.  You can use file extension: `json`, `ubj` or `deprecated` to choose between formats.\"\n",
      "2025/10/07 07:01:14 WARNING mlflow.utils.environment: Failed to resolve installed pip version. ``pip`` will be added to conda.yaml environment spec without a version specifier.\n",
      "[I 2025-10-07 07:01:14,393] Trial 5 finished with value: 0.7095148078134845 and parameters: {'n_estimators': 395, 'max_depth': 7, 'learning_rate': 0.128140936534158, 'subsample': 0.7880087882871022, 'colsample_bytree': 0.7728312627883852, 'gamma': 1.4444024317287585}. Best is trial 3 with value: 0.7138461538461538.\n"
     ]
    },
    {
     "name": "stdout",
     "output_type": "stream",
     "text": [
      "🏃 View run dazzling-toad-216 at: http://127.0.0.1:5000/#/experiments/6/runs/c599d4108fa146ae9da16451b1d25076\n",
      "🧪 View experiment at: http://127.0.0.1:5000/#/experiments/6\n"
     ]
    },
    {
     "name": "stderr",
     "output_type": "stream",
     "text": [
      "2025/10/07 07:01:15 WARNING mlflow.models.model: `artifact_path` is deprecated. Please use `name` instead.\n",
      "2025/10/07 07:01:15 WARNING mlflow.utils.autologging_utils: MLflow autologging encountered a warning: \"c:\\Users\\ASUS\\Documents\\6_CURSOS\\ESPECIALIZACION\\Semestre_II\\4_APRENDIZAJE_EN_LA_NUBE\\ProyectoMLOps\\.venv\\Lib\\site-packages\\xgboost\\sklearn.py:1028: UserWarning: [07:01:15] WARNING: C:\\actions-runner\\_work\\xgboost\\xgboost\\src\\c_api\\c_api.cc:1427: Saving model in the UBJSON format as default.  You can use file extension: `json`, `ubj` or `deprecated` to choose between formats.\"\n",
      "2025/10/07 07:01:20 WARNING mlflow.utils.environment: Failed to resolve installed pip version. ``pip`` will be added to conda.yaml environment spec without a version specifier.\n",
      "[I 2025-10-07 07:01:21,152] Trial 6 finished with value: 0.7108753315649867 and parameters: {'n_estimators': 406, 'max_depth': 9, 'learning_rate': 0.2204940000871039, 'subsample': 0.6074217234176689, 'colsample_bytree': 0.6316852972476793, 'gamma': 4.3918267489509475}. Best is trial 3 with value: 0.7138461538461538.\n"
     ]
    },
    {
     "name": "stdout",
     "output_type": "stream",
     "text": [
      "🏃 View run rare-shrike-841 at: http://127.0.0.1:5000/#/experiments/6/runs/1c5dff0cb9d545e38d6598070ad26d4e\n",
      "🧪 View experiment at: http://127.0.0.1:5000/#/experiments/6\n"
     ]
    },
    {
     "name": "stderr",
     "output_type": "stream",
     "text": [
      "2025/10/07 07:01:21 WARNING mlflow.models.model: `artifact_path` is deprecated. Please use `name` instead.\n",
      "2025/10/07 07:01:21 WARNING mlflow.utils.autologging_utils: MLflow autologging encountered a warning: \"c:\\Users\\ASUS\\Documents\\6_CURSOS\\ESPECIALIZACION\\Semestre_II\\4_APRENDIZAJE_EN_LA_NUBE\\ProyectoMLOps\\.venv\\Lib\\site-packages\\xgboost\\sklearn.py:1028: UserWarning: [07:01:21] WARNING: C:\\actions-runner\\_work\\xgboost\\xgboost\\src\\c_api\\c_api.cc:1427: Saving model in the UBJSON format as default.  You can use file extension: `json`, `ubj` or `deprecated` to choose between formats.\"\n",
      "2025/10/07 07:01:27 WARNING mlflow.utils.environment: Failed to resolve installed pip version. ``pip`` will be added to conda.yaml environment spec without a version specifier.\n",
      "[I 2025-10-07 07:01:27,876] Trial 7 finished with value: 0.7075242718446602 and parameters: {'n_estimators': 433, 'max_depth': 4, 'learning_rate': 0.1027719755467907, 'subsample': 0.9138050134684133, 'colsample_bytree': 0.8901861524527332, 'gamma': 4.974036321541619}. Best is trial 3 with value: 0.7138461538461538.\n"
     ]
    },
    {
     "name": "stdout",
     "output_type": "stream",
     "text": [
      "🏃 View run marvelous-bird-984 at: http://127.0.0.1:5000/#/experiments/6/runs/a95b8e24f23e43b989d8afbf8d3efffb\n",
      "🧪 View experiment at: http://127.0.0.1:5000/#/experiments/6\n"
     ]
    },
    {
     "name": "stderr",
     "output_type": "stream",
     "text": [
      "2025/10/07 07:01:28 WARNING mlflow.models.model: `artifact_path` is deprecated. Please use `name` instead.\n",
      "2025/10/07 07:01:28 WARNING mlflow.utils.autologging_utils: MLflow autologging encountered a warning: \"c:\\Users\\ASUS\\Documents\\6_CURSOS\\ESPECIALIZACION\\Semestre_II\\4_APRENDIZAJE_EN_LA_NUBE\\ProyectoMLOps\\.venv\\Lib\\site-packages\\xgboost\\sklearn.py:1028: UserWarning: [07:01:28] WARNING: C:\\actions-runner\\_work\\xgboost\\xgboost\\src\\c_api\\c_api.cc:1427: Saving model in the UBJSON format as default.  You can use file extension: `json`, `ubj` or `deprecated` to choose between formats.\"\n",
      "2025/10/07 07:01:34 WARNING mlflow.utils.environment: Failed to resolve installed pip version. ``pip`` will be added to conda.yaml environment spec without a version specifier.\n",
      "[I 2025-10-07 07:01:34,611] Trial 8 finished with value: 0.711985377317434 and parameters: {'n_estimators': 145, 'max_depth': 6, 'learning_rate': 0.08177929812688059, 'subsample': 0.7567738017378397, 'colsample_bytree': 0.8699678549411121, 'gamma': 1.520298680696165}. Best is trial 3 with value: 0.7138461538461538.\n"
     ]
    },
    {
     "name": "stdout",
     "output_type": "stream",
     "text": [
      "🏃 View run hilarious-bear-210 at: http://127.0.0.1:5000/#/experiments/6/runs/f6f5496841d5449b9bc378d8f39ee7f5\n",
      "🧪 View experiment at: http://127.0.0.1:5000/#/experiments/6\n"
     ]
    },
    {
     "name": "stderr",
     "output_type": "stream",
     "text": [
      "2025/10/07 07:01:35 WARNING mlflow.models.model: `artifact_path` is deprecated. Please use `name` instead.\n",
      "2025/10/07 07:01:35 WARNING mlflow.utils.autologging_utils: MLflow autologging encountered a warning: \"c:\\Users\\ASUS\\Documents\\6_CURSOS\\ESPECIALIZACION\\Semestre_II\\4_APRENDIZAJE_EN_LA_NUBE\\ProyectoMLOps\\.venv\\Lib\\site-packages\\xgboost\\sklearn.py:1028: UserWarning: [07:01:35] WARNING: C:\\actions-runner\\_work\\xgboost\\xgboost\\src\\c_api\\c_api.cc:1427: Saving model in the UBJSON format as default.  You can use file extension: `json`, `ubj` or `deprecated` to choose between formats.\"\n",
      "2025/10/07 07:01:40 WARNING mlflow.utils.environment: Failed to resolve installed pip version. ``pip`` will be added to conda.yaml environment spec without a version specifier.\n",
      "[I 2025-10-07 07:01:40,708] Trial 9 finished with value: 0.6933811050348859 and parameters: {'n_estimators': 490, 'max_depth': 7, 'learning_rate': 0.20291196316129465, 'subsample': 0.8415336065414277, 'colsample_bytree': 0.9615421143567715, 'gamma': 0.4608373176548325}. Best is trial 3 with value: 0.7138461538461538.\n"
     ]
    },
    {
     "name": "stdout",
     "output_type": "stream",
     "text": [
      "🏃 View run tasteful-donkey-148 at: http://127.0.0.1:5000/#/experiments/6/runs/e8230068db364ceb8d914bb7db5f163e\n",
      "🧪 View experiment at: http://127.0.0.1:5000/#/experiments/6\n"
     ]
    },
    {
     "name": "stderr",
     "output_type": "stream",
     "text": [
      "2025/10/07 07:01:41 WARNING mlflow.models.model: `artifact_path` is deprecated. Please use `name` instead.\n",
      "2025/10/07 07:01:41 WARNING mlflow.utils.autologging_utils: MLflow autologging encountered a warning: \"c:\\Users\\ASUS\\Documents\\6_CURSOS\\ESPECIALIZACION\\Semestre_II\\4_APRENDIZAJE_EN_LA_NUBE\\ProyectoMLOps\\.venv\\Lib\\site-packages\\xgboost\\sklearn.py:1028: UserWarning: [07:01:41] WARNING: C:\\actions-runner\\_work\\xgboost\\xgboost\\src\\c_api\\c_api.cc:1427: Saving model in the UBJSON format as default.  You can use file extension: `json`, `ubj` or `deprecated` to choose between formats.\"\n",
      "2025/10/07 07:01:45 WARNING mlflow.utils.environment: Failed to resolve installed pip version. ``pip`` will be added to conda.yaml environment spec without a version specifier.\n",
      "[I 2025-10-07 07:01:46,267] Trial 10 finished with value: 0.7065047701647875 and parameters: {'n_estimators': 317, 'max_depth': 3, 'learning_rate': 0.2920271626642027, 'subsample': 0.9748716290647099, 'colsample_bytree': 0.6220077009530878, 'gamma': 3.20917085438659}. Best is trial 3 with value: 0.7138461538461538.\n"
     ]
    },
    {
     "name": "stdout",
     "output_type": "stream",
     "text": [
      "🏃 View run upbeat-bird-600 at: http://127.0.0.1:5000/#/experiments/6/runs/c1c1081d385f4cf2ad3a5e0d41bb8675\n",
      "🧪 View experiment at: http://127.0.0.1:5000/#/experiments/6\n"
     ]
    },
    {
     "name": "stderr",
     "output_type": "stream",
     "text": [
      "2025/10/07 07:01:46 WARNING mlflow.models.model: `artifact_path` is deprecated. Please use `name` instead.\n",
      "2025/10/07 07:01:47 WARNING mlflow.utils.autologging_utils: MLflow autologging encountered a warning: \"c:\\Users\\ASUS\\Documents\\6_CURSOS\\ESPECIALIZACION\\Semestre_II\\4_APRENDIZAJE_EN_LA_NUBE\\ProyectoMLOps\\.venv\\Lib\\site-packages\\xgboost\\sklearn.py:1028: UserWarning: [07:01:47] WARNING: C:\\actions-runner\\_work\\xgboost\\xgboost\\src\\c_api\\c_api.cc:1427: Saving model in the UBJSON format as default.  You can use file extension: `json`, `ubj` or `deprecated` to choose between formats.\"\n",
      "2025/10/07 07:01:51 WARNING mlflow.utils.environment: Failed to resolve installed pip version. ``pip`` will be added to conda.yaml environment spec without a version specifier.\n",
      "[I 2025-10-07 07:01:52,072] Trial 11 finished with value: 0.7081745756841011 and parameters: {'n_estimators': 288, 'max_depth': 5, 'learning_rate': 0.03609394383858637, 'subsample': 0.7115300368041794, 'colsample_bytree': 0.8653857803550096, 'gamma': 1.4716275448536875}. Best is trial 3 with value: 0.7138461538461538.\n"
     ]
    },
    {
     "name": "stdout",
     "output_type": "stream",
     "text": [
      "🏃 View run receptive-cow-985 at: http://127.0.0.1:5000/#/experiments/6/runs/798d022c13264de282c22bf70c1b035b\n",
      "🧪 View experiment at: http://127.0.0.1:5000/#/experiments/6\n"
     ]
    },
    {
     "name": "stderr",
     "output_type": "stream",
     "text": [
      "2025/10/07 07:01:56 WARNING mlflow.models.model: `artifact_path` is deprecated. Please use `name` instead.\n",
      "2025/10/07 07:01:56 WARNING mlflow.utils.autologging_utils: MLflow autologging encountered a warning: \"c:\\Users\\ASUS\\Documents\\6_CURSOS\\ESPECIALIZACION\\Semestre_II\\4_APRENDIZAJE_EN_LA_NUBE\\ProyectoMLOps\\.venv\\Lib\\site-packages\\xgboost\\sklearn.py:1028: UserWarning: [07:01:56] WARNING: C:\\actions-runner\\_work\\xgboost\\xgboost\\src\\c_api\\c_api.cc:1427: Saving model in the UBJSON format as default.  You can use file extension: `json`, `ubj` or `deprecated` to choose between formats.\"\n",
      "2025/10/07 07:02:02 WARNING mlflow.utils.environment: Failed to resolve installed pip version. ``pip`` will be added to conda.yaml environment spec without a version specifier.\n",
      "[I 2025-10-07 07:02:03,279] Trial 12 finished with value: 0.6865 and parameters: {'n_estimators': 323, 'max_depth': 5, 'learning_rate': 0.010295868595768629, 'subsample': 0.6955948924940074, 'colsample_bytree': 0.709408056314113, 'gamma': 0.16761377041083547}. Best is trial 3 with value: 0.7138461538461538.\n"
     ]
    },
    {
     "name": "stdout",
     "output_type": "stream",
     "text": [
      "🏃 View run secretive-asp-895 at: http://127.0.0.1:5000/#/experiments/6/runs/a8794539e3c742a2ac0b19dd078c7f54\n",
      "🧪 View experiment at: http://127.0.0.1:5000/#/experiments/6\n"
     ]
    },
    {
     "name": "stderr",
     "output_type": "stream",
     "text": [
      "2025/10/07 07:02:06 WARNING mlflow.models.model: `artifact_path` is deprecated. Please use `name` instead.\n",
      "2025/10/07 07:02:07 WARNING mlflow.utils.autologging_utils: MLflow autologging encountered a warning: \"c:\\Users\\ASUS\\Documents\\6_CURSOS\\ESPECIALIZACION\\Semestre_II\\4_APRENDIZAJE_EN_LA_NUBE\\ProyectoMLOps\\.venv\\Lib\\site-packages\\xgboost\\sklearn.py:1028: UserWarning: [07:02:07] WARNING: C:\\actions-runner\\_work\\xgboost\\xgboost\\src\\c_api\\c_api.cc:1427: Saving model in the UBJSON format as default.  You can use file extension: `json`, `ubj` or `deprecated` to choose between formats.\"\n",
      "2025/10/07 07:02:12 WARNING mlflow.utils.environment: Failed to resolve installed pip version. ``pip`` will be added to conda.yaml environment spec without a version specifier.\n",
      "[I 2025-10-07 07:02:13,290] Trial 13 finished with value: 0.7121993878443376 and parameters: {'n_estimators': 111, 'max_depth': 5, 'learning_rate': 0.16168854230232232, 'subsample': 0.8056813195903157, 'colsample_bytree': 0.8711958461005763, 'gamma': 1.4167905153933527}. Best is trial 3 with value: 0.7138461538461538.\n"
     ]
    },
    {
     "name": "stdout",
     "output_type": "stream",
     "text": [
      "🏃 View run unequaled-smelt-276 at: http://127.0.0.1:5000/#/experiments/6/runs/108066c6ae8847b2a6ff4d763cd72425\n",
      "🧪 View experiment at: http://127.0.0.1:5000/#/experiments/6\n"
     ]
    },
    {
     "name": "stderr",
     "output_type": "stream",
     "text": [
      "2025/10/07 07:02:13 WARNING mlflow.models.model: `artifact_path` is deprecated. Please use `name` instead.\n",
      "2025/10/07 07:02:13 WARNING mlflow.utils.autologging_utils: MLflow autologging encountered a warning: \"c:\\Users\\ASUS\\Documents\\6_CURSOS\\ESPECIALIZACION\\Semestre_II\\4_APRENDIZAJE_EN_LA_NUBE\\ProyectoMLOps\\.venv\\Lib\\site-packages\\xgboost\\sklearn.py:1028: UserWarning: [07:02:13] WARNING: C:\\actions-runner\\_work\\xgboost\\xgboost\\src\\c_api\\c_api.cc:1427: Saving model in the UBJSON format as default.  You can use file extension: `json`, `ubj` or `deprecated` to choose between formats.\"\n",
      "2025/10/07 07:02:19 WARNING mlflow.utils.environment: Failed to resolve installed pip version. ``pip`` will be added to conda.yaml environment spec without a version specifier.\n",
      "[I 2025-10-07 07:02:20,277] Trial 14 finished with value: 0.7056989433570068 and parameters: {'n_estimators': 101, 'max_depth': 3, 'learning_rate': 0.1717761507745405, 'subsample': 0.9164688973243746, 'colsample_bytree': 0.7029592498091837, 'gamma': 2.401048325072822}. Best is trial 3 with value: 0.7138461538461538.\n"
     ]
    },
    {
     "name": "stdout",
     "output_type": "stream",
     "text": [
      "🏃 View run sassy-shrew-460 at: http://127.0.0.1:5000/#/experiments/6/runs/aecbb0586c0f4fb0bc8841ed7d1c585e\n",
      "🧪 View experiment at: http://127.0.0.1:5000/#/experiments/6\n"
     ]
    },
    {
     "name": "stderr",
     "output_type": "stream",
     "text": [
      "2025/10/07 07:02:21 WARNING mlflow.models.model: `artifact_path` is deprecated. Please use `name` instead.\n",
      "2025/10/07 07:02:21 WARNING mlflow.utils.autologging_utils: MLflow autologging encountered a warning: \"c:\\Users\\ASUS\\Documents\\6_CURSOS\\ESPECIALIZACION\\Semestre_II\\4_APRENDIZAJE_EN_LA_NUBE\\ProyectoMLOps\\.venv\\Lib\\site-packages\\xgboost\\sklearn.py:1028: UserWarning: [07:02:21] WARNING: C:\\actions-runner\\_work\\xgboost\\xgboost\\src\\c_api\\c_api.cc:1427: Saving model in the UBJSON format as default.  You can use file extension: `json`, `ubj` or `deprecated` to choose between formats.\"\n",
      "2025/10/07 07:02:27 WARNING mlflow.utils.environment: Failed to resolve installed pip version. ``pip`` will be added to conda.yaml environment spec without a version specifier.\n",
      "[I 2025-10-07 07:02:27,405] Trial 15 finished with value: 0.7068359902728992 and parameters: {'n_estimators': 359, 'max_depth': 5, 'learning_rate': 0.27838849512056274, 'subsample': 0.838398889655495, 'colsample_bytree': 0.8153065572692085, 'gamma': 1.051739305918757}. Best is trial 3 with value: 0.7138461538461538.\n"
     ]
    },
    {
     "name": "stdout",
     "output_type": "stream",
     "text": [
      "🏃 View run learned-rat-74 at: http://127.0.0.1:5000/#/experiments/6/runs/79afcfe93139417388eb4a5c9c77d3a0\n",
      "🧪 View experiment at: http://127.0.0.1:5000/#/experiments/6\n"
     ]
    },
    {
     "name": "stderr",
     "output_type": "stream",
     "text": [
      "2025/10/07 07:02:28 WARNING mlflow.models.model: `artifact_path` is deprecated. Please use `name` instead.\n",
      "2025/10/07 07:02:28 WARNING mlflow.utils.autologging_utils: MLflow autologging encountered a warning: \"c:\\Users\\ASUS\\Documents\\6_CURSOS\\ESPECIALIZACION\\Semestre_II\\4_APRENDIZAJE_EN_LA_NUBE\\ProyectoMLOps\\.venv\\Lib\\site-packages\\xgboost\\sklearn.py:1028: UserWarning: [07:02:28] WARNING: C:\\actions-runner\\_work\\xgboost\\xgboost\\src\\c_api\\c_api.cc:1427: Saving model in the UBJSON format as default.  You can use file extension: `json`, `ubj` or `deprecated` to choose between formats.\"\n",
      "2025/10/07 07:02:32 WARNING mlflow.utils.environment: Failed to resolve installed pip version. ``pip`` will be added to conda.yaml environment spec without a version specifier.\n",
      "[I 2025-10-07 07:02:33,238] Trial 16 finished with value: 0.7076089805189133 and parameters: {'n_estimators': 255, 'max_depth': 10, 'learning_rate': 0.19805719946965103, 'subsample': 0.9486423609647829, 'colsample_bytree': 0.9261293116545097, 'gamma': 3.0302035892599664}. Best is trial 3 with value: 0.7138461538461538.\n"
     ]
    },
    {
     "name": "stdout",
     "output_type": "stream",
     "text": [
      "🏃 View run resilient-sponge-454 at: http://127.0.0.1:5000/#/experiments/6/runs/4641c990a4c04f47b5a64b613a83c348\n",
      "🧪 View experiment at: http://127.0.0.1:5000/#/experiments/6\n"
     ]
    },
    {
     "name": "stderr",
     "output_type": "stream",
     "text": [
      "2025/10/07 07:02:33 WARNING mlflow.models.model: `artifact_path` is deprecated. Please use `name` instead.\n",
      "2025/10/07 07:02:33 WARNING mlflow.utils.autologging_utils: MLflow autologging encountered a warning: \"c:\\Users\\ASUS\\Documents\\6_CURSOS\\ESPECIALIZACION\\Semestre_II\\4_APRENDIZAJE_EN_LA_NUBE\\ProyectoMLOps\\.venv\\Lib\\site-packages\\xgboost\\sklearn.py:1028: UserWarning: [07:02:33] WARNING: C:\\actions-runner\\_work\\xgboost\\xgboost\\src\\c_api\\c_api.cc:1427: Saving model in the UBJSON format as default.  You can use file extension: `json`, `ubj` or `deprecated` to choose between formats.\"\n",
      "2025/10/07 07:02:38 WARNING mlflow.utils.environment: Failed to resolve installed pip version. ``pip`` will be added to conda.yaml environment spec without a version specifier.\n",
      "[I 2025-10-07 07:02:39,028] Trial 17 finished with value: 0.7133556220306176 and parameters: {'n_estimators': 224, 'max_depth': 4, 'learning_rate': 0.2532695924866287, 'subsample': 0.8580772231435678, 'colsample_bytree': 0.7358014861973461, 'gamma': 2.05292634501865}. Best is trial 3 with value: 0.7138461538461538.\n"
     ]
    },
    {
     "name": "stdout",
     "output_type": "stream",
     "text": [
      "🏃 View run auspicious-snail-513 at: http://127.0.0.1:5000/#/experiments/6/runs/252cc4f223a743428dfb82522c3ed352\n",
      "🧪 View experiment at: http://127.0.0.1:5000/#/experiments/6\n"
     ]
    },
    {
     "name": "stderr",
     "output_type": "stream",
     "text": [
      "2025/10/07 07:02:39 WARNING mlflow.models.model: `artifact_path` is deprecated. Please use `name` instead.\n",
      "2025/10/07 07:02:39 WARNING mlflow.utils.autologging_utils: MLflow autologging encountered a warning: \"c:\\Users\\ASUS\\Documents\\6_CURSOS\\ESPECIALIZACION\\Semestre_II\\4_APRENDIZAJE_EN_LA_NUBE\\ProyectoMLOps\\.venv\\Lib\\site-packages\\xgboost\\sklearn.py:1028: UserWarning: [07:02:39] WARNING: C:\\actions-runner\\_work\\xgboost\\xgboost\\src\\c_api\\c_api.cc:1427: Saving model in the UBJSON format as default.  You can use file extension: `json`, `ubj` or `deprecated` to choose between formats.\"\n",
      "2025/10/07 07:02:43 WARNING mlflow.utils.environment: Failed to resolve installed pip version. ``pip`` will be added to conda.yaml environment spec without a version specifier.\n",
      "[I 2025-10-07 07:02:44,157] Trial 18 finished with value: 0.7146862951279355 and parameters: {'n_estimators': 224, 'max_depth': 4, 'learning_rate': 0.25529854365628424, 'subsample': 0.8702140449065688, 'colsample_bytree': 0.6619039743747405, 'gamma': 2.136064468682056}. Best is trial 18 with value: 0.7146862951279355.\n"
     ]
    },
    {
     "name": "stdout",
     "output_type": "stream",
     "text": [
      "🏃 View run rogue-pug-269 at: http://127.0.0.1:5000/#/experiments/6/runs/8616a73956194ea599c848f517ba67a3\n",
      "🧪 View experiment at: http://127.0.0.1:5000/#/experiments/6\n"
     ]
    },
    {
     "name": "stderr",
     "output_type": "stream",
     "text": [
      "2025/10/07 07:02:44 WARNING mlflow.models.model: `artifact_path` is deprecated. Please use `name` instead.\n",
      "2025/10/07 07:02:44 WARNING mlflow.utils.autologging_utils: MLflow autologging encountered a warning: \"c:\\Users\\ASUS\\Documents\\6_CURSOS\\ESPECIALIZACION\\Semestre_II\\4_APRENDIZAJE_EN_LA_NUBE\\ProyectoMLOps\\.venv\\Lib\\site-packages\\xgboost\\sklearn.py:1028: UserWarning: [07:02:44] WARNING: C:\\actions-runner\\_work\\xgboost\\xgboost\\src\\c_api\\c_api.cc:1427: Saving model in the UBJSON format as default.  You can use file extension: `json`, `ubj` or `deprecated` to choose between formats.\"\n",
      "2025/10/07 07:02:48 WARNING mlflow.utils.environment: Failed to resolve installed pip version. ``pip`` will be added to conda.yaml environment spec without a version specifier.\n",
      "[I 2025-10-07 07:02:49,062] Trial 19 finished with value: 0.7102183406113537 and parameters: {'n_estimators': 474, 'max_depth': 4, 'learning_rate': 0.25481654647305724, 'subsample': 0.9341618103795618, 'colsample_bytree': 0.6529985490118528, 'gamma': 2.991972791668472}. Best is trial 18 with value: 0.7146862951279355.\n"
     ]
    },
    {
     "name": "stdout",
     "output_type": "stream",
     "text": [
      "🏃 View run peaceful-flea-506 at: http://127.0.0.1:5000/#/experiments/6/runs/de349b422cba4c9cb4c1ab59c187ec59\n",
      "🧪 View experiment at: http://127.0.0.1:5000/#/experiments/6\n"
     ]
    },
    {
     "name": "stderr",
     "output_type": "stream",
     "text": [
      "2025/10/07 07:02:49 WARNING mlflow.models.model: `artifact_path` is deprecated. Please use `name` instead.\n",
      "2025/10/07 07:02:49 WARNING mlflow.utils.autologging_utils: MLflow autologging encountered a warning: \"c:\\Users\\ASUS\\Documents\\6_CURSOS\\ESPECIALIZACION\\Semestre_II\\4_APRENDIZAJE_EN_LA_NUBE\\ProyectoMLOps\\.venv\\Lib\\site-packages\\xgboost\\sklearn.py:1028: UserWarning: [07:02:49] WARNING: C:\\actions-runner\\_work\\xgboost\\xgboost\\src\\c_api\\c_api.cc:1427: Saving model in the UBJSON format as default.  You can use file extension: `json`, `ubj` or `deprecated` to choose between formats.\"\n",
      "2025/10/07 07:02:53 WARNING mlflow.utils.environment: Failed to resolve installed pip version. ``pip`` will be added to conda.yaml environment spec without a version specifier.\n",
      "[I 2025-10-07 07:02:54,053] Trial 20 finished with value: 0.7095196506550219 and parameters: {'n_estimators': 360, 'max_depth': 8, 'learning_rate': 0.22733394070342797, 'subsample': 0.8825899231443305, 'colsample_bytree': 0.6829251921519552, 'gamma': 3.4820671655235227}. Best is trial 18 with value: 0.7146862951279355.\n"
     ]
    },
    {
     "name": "stdout",
     "output_type": "stream",
     "text": [
      "🏃 View run loud-hog-544 at: http://127.0.0.1:5000/#/experiments/6/runs/4ead5a66e6174f57aa0fbb5f77a56b64\n",
      "🧪 View experiment at: http://127.0.0.1:5000/#/experiments/6\n"
     ]
    },
    {
     "name": "stderr",
     "output_type": "stream",
     "text": [
      "2025/10/07 07:02:54 WARNING mlflow.models.model: `artifact_path` is deprecated. Please use `name` instead.\n",
      "2025/10/07 07:02:54 WARNING mlflow.utils.autologging_utils: MLflow autologging encountered a warning: \"c:\\Users\\ASUS\\Documents\\6_CURSOS\\ESPECIALIZACION\\Semestre_II\\4_APRENDIZAJE_EN_LA_NUBE\\ProyectoMLOps\\.venv\\Lib\\site-packages\\xgboost\\sklearn.py:1028: UserWarning: [07:02:54] WARNING: C:\\actions-runner\\_work\\xgboost\\xgboost\\src\\c_api\\c_api.cc:1427: Saving model in the UBJSON format as default.  You can use file extension: `json`, `ubj` or `deprecated` to choose between formats.\"\n",
      "2025/10/07 07:02:58 WARNING mlflow.utils.environment: Failed to resolve installed pip version. ``pip`` will be added to conda.yaml environment spec without a version specifier.\n",
      "[I 2025-10-07 07:02:59,200] Trial 21 finished with value: 0.7105907025515554 and parameters: {'n_estimators': 211, 'max_depth': 4, 'learning_rate': 0.26681766804001955, 'subsample': 0.8608235852189848, 'colsample_bytree': 0.7370177638118897, 'gamma': 2.050525560723172}. Best is trial 18 with value: 0.7146862951279355.\n"
     ]
    },
    {
     "name": "stdout",
     "output_type": "stream",
     "text": [
      "🏃 View run debonair-panda-387 at: http://127.0.0.1:5000/#/experiments/6/runs/2c1f54e9415345528a40b2c346a9034c\n",
      "🧪 View experiment at: http://127.0.0.1:5000/#/experiments/6\n"
     ]
    },
    {
     "name": "stderr",
     "output_type": "stream",
     "text": [
      "2025/10/07 07:02:59 WARNING mlflow.models.model: `artifact_path` is deprecated. Please use `name` instead.\n",
      "2025/10/07 07:02:59 WARNING mlflow.utils.autologging_utils: MLflow autologging encountered a warning: \"c:\\Users\\ASUS\\Documents\\6_CURSOS\\ESPECIALIZACION\\Semestre_II\\4_APRENDIZAJE_EN_LA_NUBE\\ProyectoMLOps\\.venv\\Lib\\site-packages\\xgboost\\sklearn.py:1028: UserWarning: [07:02:59] WARNING: C:\\actions-runner\\_work\\xgboost\\xgboost\\src\\c_api\\c_api.cc:1427: Saving model in the UBJSON format as default.  You can use file extension: `json`, `ubj` or `deprecated` to choose between formats.\"\n",
      "2025/10/07 07:03:04 WARNING mlflow.utils.environment: Failed to resolve installed pip version. ``pip`` will be added to conda.yaml environment spec without a version specifier.\n",
      "[I 2025-10-07 07:03:04,340] Trial 22 finished with value: 0.7083042568039079 and parameters: {'n_estimators': 207, 'max_depth': 3, 'learning_rate': 0.2979010542969198, 'subsample': 0.9985726101571334, 'colsample_bytree': 0.6002108443023302, 'gamma': 1.9999091658903647}. Best is trial 18 with value: 0.7146862951279355.\n"
     ]
    },
    {
     "name": "stdout",
     "output_type": "stream",
     "text": [
      "🏃 View run merciful-zebra-855 at: http://127.0.0.1:5000/#/experiments/6/runs/8f75540dc66848c098058e9de918d83f\n",
      "🧪 View experiment at: http://127.0.0.1:5000/#/experiments/6\n"
     ]
    },
    {
     "name": "stderr",
     "output_type": "stream",
     "text": [
      "2025/10/07 07:03:04 WARNING mlflow.models.model: `artifact_path` is deprecated. Please use `name` instead.\n",
      "2025/10/07 07:03:04 WARNING mlflow.utils.autologging_utils: MLflow autologging encountered a warning: \"c:\\Users\\ASUS\\Documents\\6_CURSOS\\ESPECIALIZACION\\Semestre_II\\4_APRENDIZAJE_EN_LA_NUBE\\ProyectoMLOps\\.venv\\Lib\\site-packages\\xgboost\\sklearn.py:1028: UserWarning: [07:03:04] WARNING: C:\\actions-runner\\_work\\xgboost\\xgboost\\src\\c_api\\c_api.cc:1427: Saving model in the UBJSON format as default.  You can use file extension: `json`, `ubj` or `deprecated` to choose between formats.\"\n",
      "2025/10/07 07:03:08 WARNING mlflow.utils.environment: Failed to resolve installed pip version. ``pip`` will be added to conda.yaml environment spec without a version specifier.\n",
      "[I 2025-10-07 07:03:08,962] Trial 23 finished with value: 0.7092037409317368 and parameters: {'n_estimators': 266, 'max_depth': 4, 'learning_rate': 0.23786104216975867, 'subsample': 0.7996770946074151, 'colsample_bytree': 0.6545586192687357, 'gamma': 2.5377618386241148}. Best is trial 18 with value: 0.7146862951279355.\n"
     ]
    },
    {
     "name": "stdout",
     "output_type": "stream",
     "text": [
      "🏃 View run colorful-mule-748 at: http://127.0.0.1:5000/#/experiments/6/runs/cd28c9afff97422086b60eb69ca4d5f6\n",
      "🧪 View experiment at: http://127.0.0.1:5000/#/experiments/6\n"
     ]
    },
    {
     "name": "stderr",
     "output_type": "stream",
     "text": [
      "2025/10/07 07:03:09 WARNING mlflow.models.model: `artifact_path` is deprecated. Please use `name` instead.\n",
      "2025/10/07 07:03:09 WARNING mlflow.utils.autologging_utils: MLflow autologging encountered a warning: \"c:\\Users\\ASUS\\Documents\\6_CURSOS\\ESPECIALIZACION\\Semestre_II\\4_APRENDIZAJE_EN_LA_NUBE\\ProyectoMLOps\\.venv\\Lib\\site-packages\\xgboost\\sklearn.py:1028: UserWarning: [07:03:09] WARNING: C:\\actions-runner\\_work\\xgboost\\xgboost\\src\\c_api\\c_api.cc:1427: Saving model in the UBJSON format as default.  You can use file extension: `json`, `ubj` or `deprecated` to choose between formats.\"\n",
      "2025/10/07 07:03:13 WARNING mlflow.utils.environment: Failed to resolve installed pip version. ``pip`` will be added to conda.yaml environment spec without a version specifier.\n",
      "[I 2025-10-07 07:03:15,213] Trial 24 finished with value: 0.7108870611125852 and parameters: {'n_estimators': 193, 'max_depth': 6, 'learning_rate': 0.20651346201582538, 'subsample': 0.8894893780262787, 'colsample_bytree': 0.7289344676236796, 'gamma': 0.9864556640956187}. Best is trial 18 with value: 0.7146862951279355.\n"
     ]
    },
    {
     "name": "stdout",
     "output_type": "stream",
     "text": [
      "🏃 View run whimsical-chimp-959 at: http://127.0.0.1:5000/#/experiments/6/runs/a8816365409f427081ea92fb933fdc64\n",
      "🧪 View experiment at: http://127.0.0.1:5000/#/experiments/6\n",
      "Mejores parámetros encontrados:\n",
      "{'n_estimators': 224, 'max_depth': 4, 'learning_rate': 0.25529854365628424, 'subsample': 0.8702140449065688, 'colsample_bytree': 0.6619039743747405, 'gamma': 2.136064468682056}\n",
      "Mejor F1 Score: 0.7147\n"
     ]
    },
    {
     "name": "stderr",
     "output_type": "stream",
     "text": [
      "2025/10/07 07:03:15 WARNING mlflow.models.model: `artifact_path` is deprecated. Please use `name` instead.\n",
      "2025/10/07 07:03:15 WARNING mlflow.utils.autologging_utils: MLflow autologging encountered a warning: \"c:\\Users\\ASUS\\Documents\\6_CURSOS\\ESPECIALIZACION\\Semestre_II\\4_APRENDIZAJE_EN_LA_NUBE\\ProyectoMLOps\\.venv\\Lib\\site-packages\\xgboost\\sklearn.py:1028: UserWarning: [07:03:15] WARNING: C:\\actions-runner\\_work\\xgboost\\xgboost\\src\\c_api\\c_api.cc:1427: Saving model in the UBJSON format as default.  You can use file extension: `json`, `ubj` or `deprecated` to choose between formats.\"\n",
      "2025/10/07 07:03:20 WARNING mlflow.utils.environment: Failed to resolve installed pip version. ``pip`` will be added to conda.yaml environment spec without a version specifier.\n",
      "2025/10/07 07:03:20 WARNING mlflow.models.model: `artifact_path` is deprecated. Please use `name` instead.\n",
      "c:\\Users\\ASUS\\Documents\\6_CURSOS\\ESPECIALIZACION\\Semestre_II\\4_APRENDIZAJE_EN_LA_NUBE\\ProyectoMLOps\\.venv\\Lib\\site-packages\\xgboost\\sklearn.py:1028: UserWarning: [07:03:20] WARNING: C:\\actions-runner\\_work\\xgboost\\xgboost\\src\\c_api\\c_api.cc:1427: Saving model in the UBJSON format as default.  You can use file extension: `json`, `ubj` or `deprecated` to choose between formats.\n",
      "  self.get_booster().save_model(fname)\n",
      "2025/10/07 07:03:24 WARNING mlflow.utils.environment: Failed to resolve installed pip version. ``pip`` will be added to conda.yaml environment spec without a version specifier.\n",
      "2025/10/07 07:03:24 WARNING mlflow.models.model: Model logged without a signature and input example. Please set `input_example` parameter when logging the model to auto infer the model signature.\n"
     ]
    },
    {
     "name": "stdout",
     "output_type": "stream",
     "text": [
      "🏃 View run XGB_Optuna_best at: http://127.0.0.1:5000/#/experiments/6/runs/06bf52a2a2564f65a5a94ce6c68722f3\n",
      "🧪 View experiment at: http://127.0.0.1:5000/#/experiments/6\n"
     ]
    }
   ],
   "source": [
    "import optuna\n",
    "\n",
    "mlflow.set_experiment(\"Ingresos_Optuna\")\n",
    "\n",
    "\n",
    "def objective(trial):\n",
    "    n_pos = np.sum(y_train == 1)\n",
    "    n_neg = np.sum(y_train == 0)\n",
    "\n",
    "    # Hiperparámetros que Optuna explorará\n",
    "    param = {\n",
    "        \"objective\": \"binary:logistic\",\n",
    "        \"eval_metric\": \"logloss\",\n",
    "        \"n_estimators\": trial.suggest_int(\"n_estimators\", 100, 500),\n",
    "        \"max_depth\": trial.suggest_int(\"max_depth\", 3, 10),\n",
    "        \"learning_rate\": trial.suggest_float(\"learning_rate\", 0.01, 0.3),\n",
    "        \"subsample\": trial.suggest_float(\"subsample\", 0.6, 1.0),\n",
    "        \"colsample_bytree\": trial.suggest_float(\"colsample_bytree\", 0.6, 1.0),\n",
    "        \"gamma\": trial.suggest_float(\"gamma\", 0, 5),\n",
    "        \"scale_pos_weight\": n_neg / n_pos\n",
    "    }\n",
    "\n",
    "    # MLflow registra cada intento como un run\n",
    "    with mlflow.start_run(nested=True):\n",
    "        xgb_clf = xgb.XGBClassifier(**param, random_state=42, n_jobs=-1)\n",
    "        xgb_clf.fit(X_train, y_train)\n",
    "        y_pred = xgb_clf.predict(X_val)\n",
    "\n",
    "        f1 = f1_score(y_val, y_pred)\n",
    "        mlflow.log_metrics({\"f1_score\": f1})\n",
    "        mlflow.log_params(param)\n",
    "    \n",
    "    return f1  # queremos maximizar F1\n",
    "\n",
    "# Ejecutar la optimización\n",
    "study = optuna.create_study(direction=\"maximize\")\n",
    "study.optimize(objective, n_trials=25)  \n",
    "\n",
    "# 🔹 Resultados\n",
    "print(\"Mejores parámetros encontrados:\")\n",
    "print(study.best_params)\n",
    "print(f\"Mejor F1 Score: {study.best_value:.4f}\")\n",
    "\n",
    "# Guardar el mejor modelo en MLflow\n",
    "with mlflow.start_run(run_name=\"XGB_Optuna_best\"):\n",
    "    best_model = xgb.XGBClassifier(**study.best_params, random_state=42)\n",
    "    best_model.fit(X_train, y_train)\n",
    "    mlflow.xgboost.log_model(best_model, \"model_best\")\n"
   ]
  },
  {
   "cell_type": "code",
   "execution_count": 30,
   "id": "9f31a6d6",
   "metadata": {},
   "outputs": [
    {
     "data": {
      "text/plain": [
       "{'n_estimators': 224,\n",
       " 'max_depth': 4,\n",
       " 'learning_rate': 0.25529854365628424,\n",
       " 'subsample': 0.8702140449065688,\n",
       " 'colsample_bytree': 0.6619039743747405,\n",
       " 'gamma': 2.136064468682056}"
      ]
     },
     "execution_count": 30,
     "metadata": {},
     "output_type": "execute_result"
    }
   ],
   "source": [
    "study.best_params"
   ]
  },
  {
   "cell_type": "markdown",
   "id": "f6adcb9e",
   "metadata": {},
   "source": [
    "# **SERVIDOR TRACKING**"
   ]
  },
  {
   "cell_type": "markdown",
   "id": "018bf7db",
   "metadata": {},
   "source": [
    "duration-prediction"
   ]
  },
  {
   "cell_type": "markdown",
   "id": "b60c0500",
   "metadata": {},
   "source": [
    "mlflow server --backend-store-uri sqlite:///mlflow.db --default-artifact-root ./mlruns --host 0.0.0.0 --port 5000"
   ]
  },
  {
   "cell_type": "code",
   "execution_count": 31,
   "id": "84f25ca9",
   "metadata": {},
   "outputs": [
    {
     "data": {
      "text/plain": [
       "<Experiment: artifact_location='file:///C:/Users/ASUS/Documents/6_CURSOS/ESPECIALIZACION/Semestre_II/4_APRENDIZAJE_EN_LA_NUBE/ProyectoMLOps/mlruns/7', creation_time=1759780804538, experiment_id='7', last_update_time=1759780804538, lifecycle_stage='active', name='Ingresos-experiment', tags={}>"
      ]
     },
     "execution_count": 31,
     "metadata": {},
     "output_type": "execute_result"
    }
   ],
   "source": [
    "mlflow.set_tracking_uri(\"http://localhost:5000\")\n",
    "mlflow.set_experiment(\"Ingresos-experiment\")"
   ]
  },
  {
   "cell_type": "code",
   "execution_count": 32,
   "id": "4d95f419",
   "metadata": {},
   "outputs": [
    {
     "name": "stderr",
     "output_type": "stream",
     "text": [
      "2025/10/07 07:03:32 WARNING mlflow.models.model: `artifact_path` is deprecated. Please use `name` instead.\n",
      "2025/10/07 07:03:33 WARNING mlflow.utils.autologging_utils: MLflow autologging encountered a warning: \"c:\\Users\\ASUS\\Documents\\6_CURSOS\\ESPECIALIZACION\\Semestre_II\\4_APRENDIZAJE_EN_LA_NUBE\\ProyectoMLOps\\.venv\\Lib\\site-packages\\xgboost\\sklearn.py:1028: UserWarning: [07:03:33] WARNING: C:\\actions-runner\\_work\\xgboost\\xgboost\\src\\c_api\\c_api.cc:1427: Saving model in the UBJSON format as default.  You can use file extension: `json`, `ubj` or `deprecated` to choose between formats.\"\n",
      "2025/10/07 07:03:38 WARNING mlflow.utils.environment: Failed to resolve installed pip version. ``pip`` will be added to conda.yaml environment spec without a version specifier.\n",
      "2025/10/07 07:03:42 WARNING mlflow.models.model: `artifact_path` is deprecated. Please use `name` instead.\n",
      "c:\\Users\\ASUS\\Documents\\6_CURSOS\\ESPECIALIZACION\\Semestre_II\\4_APRENDIZAJE_EN_LA_NUBE\\ProyectoMLOps\\.venv\\Lib\\site-packages\\xgboost\\sklearn.py:1028: UserWarning: [07:03:42] WARNING: C:\\actions-runner\\_work\\xgboost\\xgboost\\src\\c_api\\c_api.cc:1427: Saving model in the UBJSON format as default.  You can use file extension: `json`, `ubj` or `deprecated` to choose between formats.\n",
      "  self.get_booster().save_model(fname)\n",
      "2025/10/07 07:03:48 WARNING mlflow.utils.environment: Failed to resolve installed pip version. ``pip`` will be added to conda.yaml environment spec without a version specifier.\n",
      "2025/10/07 07:03:48 WARNING mlflow.models.model: Model logged without a signature and input example. Please set `input_example` parameter when logging the model to auto infer the model signature.\n"
     ]
    },
    {
     "name": "stdout",
     "output_type": "stream",
     "text": [
      "🏃 View run xgb_classifier_dictvec at: http://localhost:5000/#/experiments/8/runs/c95b177611e74c8a9330a6655556fc62\n",
      "🧪 View experiment at: http://localhost:5000/#/experiments/8\n",
      "XGB | acc:0.835 f1:0.712 prec:0.612 rec:0.851 roc:0.929\n"
     ]
    }
   ],
   "source": [
    "import pickle\n",
    "from pathlib import Path\n",
    "import numpy as np\n",
    "import mlflow\n",
    "import mlflow.xgboost\n",
    "from sklearn.feature_extraction import DictVectorizer\n",
    "from sklearn.model_selection import train_test_split\n",
    "from sklearn.metrics import accuracy_score, precision_score, recall_score, f1_score, roc_auc_score\n",
    "import xgboost as xgb\n",
    "\n",
    "# 1) Tracking (apunta al server ya levantado)\n",
    "#mlflow.set_tracking_uri(\"http://127.0.0.1:5000\")\n",
    "mlflow.set_experiment(\"Adult-MLFlow-Orquestacion\")\n",
    "\n",
    "# 2) Definir features correctamente\n",
    "categorical = ['workclass','marital-status','occupation',\n",
    "               'relationship','native-country']  # categóricas\n",
    "numerical   = ['age','education-num','capital-gain','capital-loss','hours-per-week']  # numéricas\n",
    "\n",
    "# 3) Split estratificado\n",
    "df_train_orq, df_val_orq = train_test_split(df, test_size=0.4, random_state=42, stratify=df['income'])\n",
    "\n",
    "# 4) DictVectorizer \n",
    "dv = DictVectorizer()\n",
    "\n",
    "train_dicts = (df_train_orq[categorical].astype(str)\n",
    "               .assign(**df_train_orq[numerical])\n",
    "               .to_dict(orient='records'))\n",
    "X_train = dv.fit_transform(train_dicts)\n",
    "y_train = df_train_orq['income'].values  # 0/1\n",
    "\n",
    "val_dicts = (df_val_orq[categorical].astype(str)\n",
    "             .assign(**df_val_orq[numerical])\n",
    "             .to_dict(orient='records'))\n",
    "X_val = dv.transform(val_dicts)\n",
    "y_val = df_val_orq['income'].values\n",
    "\n",
    "# 5) Balanceo para XGBoost\n",
    "n_pos = int((y_train == 1).sum())\n",
    "n_neg = int((y_train == 0).sum())\n",
    "spw = n_neg / n_pos\n",
    "\n",
    "# 6) Entrenar XGBClassifier y registrar en MLflow\n",
    "models_folder = Path('models')\n",
    "models_folder.mkdir(exist_ok=True)\n",
    "\n",
    "with mlflow.start_run(run_name=\"xgb_classifier_dictvec\"):\n",
    "    params = {\n",
    "        'n_estimators': 333,\n",
    "        'max_depth': 9,\n",
    "        'learning_rate': 0.06927659202446733,\n",
    "        'subsample': 0.7384018543749307,\n",
    "        'colsample_bytree': 0.7456148148748957,\n",
    "        'gamma': 3.131133258823818,\n",
    "        #modelo binario\n",
    "        'objective': 'binary:logistic',\n",
    "        'eval_metric': 'logloss',\n",
    "        'scale_pos_weight': spw,\n",
    "        'n_jobs': -1,\n",
    "        'random_state': 42,\n",
    "    }\n",
    "\n",
    "    xgb_clf = xgb.XGBClassifier(**params)\n",
    "    # opcional: eval_set para que autolog registre métricas de validación si activas mlflow.xgboost.autolog()\n",
    "    xgb_clf.fit(X_train, \n",
    "                y_train, \n",
    "                eval_set=[(X_val, y_val)], \n",
    "                verbose=False\n",
    "    )\n",
    "\n",
    "    # 7) Métricas de clasificación\n",
    "    y_pred  = xgb_clf.predict(X_val)\n",
    "    y_proba = xgb_clf.predict_proba(X_val)[:, 1]\n",
    "\n",
    "    acc  = accuracy_score(y_val, y_pred)\n",
    "    prec = precision_score(y_val, y_pred)\n",
    "    rec  = recall_score(y_val, y_pred)\n",
    "    f1   = f1_score(y_val, y_pred)\n",
    "    roc  = roc_auc_score(y_val, y_proba)\n",
    "\n",
    "    # 8) Log en MLflow\n",
    "    mlflow.log_params(params)\n",
    "    mlflow.log_metric(\"accuracy\", acc)\n",
    "    mlflow.log_metric(\"precision\", prec)\n",
    "    mlflow.log_metric(\"recall\", rec)\n",
    "    mlflow.log_metric(\"f1_score\", f1)\n",
    "    mlflow.log_metric(\"roc_auc\", roc)\n",
    "\n",
    "    # 9) Guardar y loguear el preprocesador (DictVectorizer)\n",
    "    with open(models_folder / \"preprocessor.b\", \"wb\") as f_out:\n",
    "        pickle.dump(dv, f_out)\n",
    "    mlflow.log_artifact(str(models_folder / \"preprocessor.b\"), artifact_path=\"preprocessor\")\n",
    "\n",
    "    # 10) Guardar el modelo\n",
    "    mlflow.xgboost.log_model(xgb_clf, artifact_path=\"model_mlflow\")\n",
    "\n",
    "print(f\"XGB | acc:{acc:.3f} f1:{f1:.3f} prec:{prec:.3f} rec:{rec:.3f} roc:{roc:.3f}\")\n"
   ]
  }
 ],
 "metadata": {
  "kernelspec": {
   "display_name": "proyectomlops",
   "language": "python",
   "name": "python3"
  },
  "language_info": {
   "codemirror_mode": {
    "name": "ipython",
    "version": 3
   },
   "file_extension": ".py",
   "mimetype": "text/x-python",
   "name": "python",
   "nbconvert_exporter": "python",
   "pygments_lexer": "ipython3",
   "version": "3.11.9"
  }
 },
 "nbformat": 4,
 "nbformat_minor": 5
}
