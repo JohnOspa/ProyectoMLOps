{
 "cells": [
  {
   "cell_type": "markdown",
   "id": "26e50a1d",
   "metadata": {},
   "source": [
    "Ingesta de datos"
   ]
  },
  {
   "cell_type": "code",
   "execution_count": 1,
   "id": "1858b023",
   "metadata": {},
   "outputs": [],
   "source": [
    "import pandas as pd\n",
    "from sklearn.preprocessing import LabelEncoder\n",
    "from ucimlrepo import fetch_ucirepo "
   ]
  },
  {
   "cell_type": "code",
   "execution_count": 2,
   "id": "45b8e840",
   "metadata": {},
   "outputs": [],
   "source": [
    "adult = fetch_ucirepo(id=2) "
   ]
  },
  {
   "cell_type": "code",
   "execution_count": 3,
   "id": "62a4a988",
   "metadata": {},
   "outputs": [
    {
     "data": {
      "text/html": [
       "<div>\n",
       "<style scoped>\n",
       "    .dataframe tbody tr th:only-of-type {\n",
       "        vertical-align: middle;\n",
       "    }\n",
       "\n",
       "    .dataframe tbody tr th {\n",
       "        vertical-align: top;\n",
       "    }\n",
       "\n",
       "    .dataframe thead th {\n",
       "        text-align: right;\n",
       "    }\n",
       "</style>\n",
       "<table border=\"1\" class=\"dataframe\">\n",
       "  <thead>\n",
       "    <tr style=\"text-align: right;\">\n",
       "      <th></th>\n",
       "      <th>age</th>\n",
       "      <th>workclass</th>\n",
       "      <th>fnlwgt</th>\n",
       "      <th>education</th>\n",
       "      <th>education-num</th>\n",
       "      <th>marital-status</th>\n",
       "      <th>occupation</th>\n",
       "      <th>relationship</th>\n",
       "      <th>race</th>\n",
       "      <th>sex</th>\n",
       "      <th>capital-gain</th>\n",
       "      <th>capital-loss</th>\n",
       "      <th>hours-per-week</th>\n",
       "      <th>native-country</th>\n",
       "      <th>income</th>\n",
       "    </tr>\n",
       "  </thead>\n",
       "  <tbody>\n",
       "    <tr>\n",
       "      <th>0</th>\n",
       "      <td>39</td>\n",
       "      <td>State-gov</td>\n",
       "      <td>77516</td>\n",
       "      <td>Bachelors</td>\n",
       "      <td>13</td>\n",
       "      <td>Never-married</td>\n",
       "      <td>Adm-clerical</td>\n",
       "      <td>Not-in-family</td>\n",
       "      <td>White</td>\n",
       "      <td>Male</td>\n",
       "      <td>2174</td>\n",
       "      <td>0</td>\n",
       "      <td>40</td>\n",
       "      <td>United-States</td>\n",
       "      <td>&lt;=50K</td>\n",
       "    </tr>\n",
       "    <tr>\n",
       "      <th>1</th>\n",
       "      <td>50</td>\n",
       "      <td>Self-emp-not-inc</td>\n",
       "      <td>83311</td>\n",
       "      <td>Bachelors</td>\n",
       "      <td>13</td>\n",
       "      <td>Married-civ-spouse</td>\n",
       "      <td>Exec-managerial</td>\n",
       "      <td>Husband</td>\n",
       "      <td>White</td>\n",
       "      <td>Male</td>\n",
       "      <td>0</td>\n",
       "      <td>0</td>\n",
       "      <td>13</td>\n",
       "      <td>United-States</td>\n",
       "      <td>&lt;=50K</td>\n",
       "    </tr>\n",
       "    <tr>\n",
       "      <th>2</th>\n",
       "      <td>38</td>\n",
       "      <td>Private</td>\n",
       "      <td>215646</td>\n",
       "      <td>HS-grad</td>\n",
       "      <td>9</td>\n",
       "      <td>Divorced</td>\n",
       "      <td>Handlers-cleaners</td>\n",
       "      <td>Not-in-family</td>\n",
       "      <td>White</td>\n",
       "      <td>Male</td>\n",
       "      <td>0</td>\n",
       "      <td>0</td>\n",
       "      <td>40</td>\n",
       "      <td>United-States</td>\n",
       "      <td>&lt;=50K</td>\n",
       "    </tr>\n",
       "    <tr>\n",
       "      <th>3</th>\n",
       "      <td>53</td>\n",
       "      <td>Private</td>\n",
       "      <td>234721</td>\n",
       "      <td>11th</td>\n",
       "      <td>7</td>\n",
       "      <td>Married-civ-spouse</td>\n",
       "      <td>Handlers-cleaners</td>\n",
       "      <td>Husband</td>\n",
       "      <td>Black</td>\n",
       "      <td>Male</td>\n",
       "      <td>0</td>\n",
       "      <td>0</td>\n",
       "      <td>40</td>\n",
       "      <td>United-States</td>\n",
       "      <td>&lt;=50K</td>\n",
       "    </tr>\n",
       "    <tr>\n",
       "      <th>4</th>\n",
       "      <td>28</td>\n",
       "      <td>Private</td>\n",
       "      <td>338409</td>\n",
       "      <td>Bachelors</td>\n",
       "      <td>13</td>\n",
       "      <td>Married-civ-spouse</td>\n",
       "      <td>Prof-specialty</td>\n",
       "      <td>Wife</td>\n",
       "      <td>Black</td>\n",
       "      <td>Female</td>\n",
       "      <td>0</td>\n",
       "      <td>0</td>\n",
       "      <td>40</td>\n",
       "      <td>Cuba</td>\n",
       "      <td>&lt;=50K</td>\n",
       "    </tr>\n",
       "  </tbody>\n",
       "</table>\n",
       "</div>"
      ],
      "text/plain": [
       "   age         workclass  fnlwgt  education  education-num  \\\n",
       "0   39         State-gov   77516  Bachelors             13   \n",
       "1   50  Self-emp-not-inc   83311  Bachelors             13   \n",
       "2   38           Private  215646    HS-grad              9   \n",
       "3   53           Private  234721       11th              7   \n",
       "4   28           Private  338409  Bachelors             13   \n",
       "\n",
       "       marital-status         occupation   relationship   race     sex  \\\n",
       "0       Never-married       Adm-clerical  Not-in-family  White    Male   \n",
       "1  Married-civ-spouse    Exec-managerial        Husband  White    Male   \n",
       "2            Divorced  Handlers-cleaners  Not-in-family  White    Male   \n",
       "3  Married-civ-spouse  Handlers-cleaners        Husband  Black    Male   \n",
       "4  Married-civ-spouse     Prof-specialty           Wife  Black  Female   \n",
       "\n",
       "   capital-gain  capital-loss  hours-per-week native-country income  \n",
       "0          2174             0              40  United-States  <=50K  \n",
       "1             0             0              13  United-States  <=50K  \n",
       "2             0             0              40  United-States  <=50K  \n",
       "3             0             0              40  United-States  <=50K  \n",
       "4             0             0              40           Cuba  <=50K  "
      ]
     },
     "execution_count": 3,
     "metadata": {},
     "output_type": "execute_result"
    }
   ],
   "source": [
    "df = pd.concat([adult.data.features, adult.data.targets], axis=1)\n",
    "df.head()"
   ]
  },
  {
   "cell_type": "code",
   "execution_count": 4,
   "id": "d962f6da",
   "metadata": {},
   "outputs": [],
   "source": [
    "mapeo_sex = {'Female': 1, 'Male': 0}\n",
    "df['sex'] = df['sex'].map(mapeo_sex)"
   ]
  },
  {
   "cell_type": "code",
   "execution_count": null,
   "id": "90061194",
   "metadata": {},
   "outputs": [],
   "source": [
    "# Columnas categóricas a codificar\n",
    "columnas_categoricas = ['workclass','education','marital-status','occupation','relationship','native-country']\n",
    "\n",
    "# Inicializar codificadores\n",
    "encoders = {}\n",
    "for col in columnas_categoricas:\n",
    "    le = LabelEncoder()\n",
    "    df[col] = le.fit_transform(df[col].astype(str))\n",
    "    encoders[col] = le  # Guardamos el encoder para posibles decodificaciones posteriores"
   ]
  },
  {
   "cell_type": "code",
   "execution_count": 6,
   "id": "1a823ad6",
   "metadata": {},
   "outputs": [
    {
     "name": "stdout",
     "output_type": "stream",
     "text": [
      "income_clean\n",
      "<=50K    37155\n",
      ">50K     11687\n",
      "Name: count, dtype: int64\n",
      "income_bin\n",
      "0    37155\n",
      "1    11687\n",
      "Name: count, dtype: int64\n"
     ]
    }
   ],
   "source": [
    "# 1) Normaliza la etiqueta: quita espacios y punto final\n",
    "df['income_clean'] = (\n",
    "    df['income']\n",
    "      .astype(str)\n",
    "      .str.strip()                 # quita espacios al inicio/fin\n",
    "      .str.replace(r'\\.$', '', regex=True)   # elimina punto final si existe\n",
    ")\n",
    "\n",
    "# Verifica\n",
    "print(df['income_clean'].value_counts(dropna=False))\n",
    "\n",
    "#Reemplazar \n",
    "df['income_bin'] = df['income_clean'].map({'>50K': 1, '<=50K': 0})\n",
    "\n",
    "# Comprueba que no queden NaN por categorías no previstas\n",
    "print(df['income_bin'].value_counts(dropna=False))"
   ]
  },
  {
   "cell_type": "code",
   "execution_count": 7,
   "id": "91c5a75a",
   "metadata": {},
   "outputs": [],
   "source": [
    "# Eliminar la columna 'income' y renombrar 'income_bin' a 'income'\n",
    "df = df.drop(columns=[\"income\"])\n",
    "df = df.drop(columns=[\"income_clean\"])\n",
    "df = df.rename(columns={\"income_bin\": \"income\"})"
   ]
  },
  {
   "cell_type": "code",
   "execution_count": 8,
   "id": "a8d3603c",
   "metadata": {},
   "outputs": [
    {
     "data": {
      "text/html": [
       "<div>\n",
       "<style scoped>\n",
       "    .dataframe tbody tr th:only-of-type {\n",
       "        vertical-align: middle;\n",
       "    }\n",
       "\n",
       "    .dataframe tbody tr th {\n",
       "        vertical-align: top;\n",
       "    }\n",
       "\n",
       "    .dataframe thead th {\n",
       "        text-align: right;\n",
       "    }\n",
       "</style>\n",
       "<table border=\"1\" class=\"dataframe\">\n",
       "  <thead>\n",
       "    <tr style=\"text-align: right;\">\n",
       "      <th></th>\n",
       "      <th>age</th>\n",
       "      <th>workclass</th>\n",
       "      <th>fnlwgt</th>\n",
       "      <th>education</th>\n",
       "      <th>education-num</th>\n",
       "      <th>marital-status</th>\n",
       "      <th>occupation</th>\n",
       "      <th>relationship</th>\n",
       "      <th>race</th>\n",
       "      <th>sex</th>\n",
       "      <th>capital-gain</th>\n",
       "      <th>capital-loss</th>\n",
       "      <th>hours-per-week</th>\n",
       "      <th>native-country</th>\n",
       "      <th>income</th>\n",
       "    </tr>\n",
       "  </thead>\n",
       "  <tbody>\n",
       "    <tr>\n",
       "      <th>0</th>\n",
       "      <td>39</td>\n",
       "      <td>7</td>\n",
       "      <td>77516</td>\n",
       "      <td>9</td>\n",
       "      <td>13</td>\n",
       "      <td>4</td>\n",
       "      <td>1</td>\n",
       "      <td>1</td>\n",
       "      <td>4</td>\n",
       "      <td>0</td>\n",
       "      <td>2174</td>\n",
       "      <td>0</td>\n",
       "      <td>40</td>\n",
       "      <td>39</td>\n",
       "      <td>0</td>\n",
       "    </tr>\n",
       "    <tr>\n",
       "      <th>1</th>\n",
       "      <td>50</td>\n",
       "      <td>6</td>\n",
       "      <td>83311</td>\n",
       "      <td>9</td>\n",
       "      <td>13</td>\n",
       "      <td>2</td>\n",
       "      <td>4</td>\n",
       "      <td>0</td>\n",
       "      <td>4</td>\n",
       "      <td>0</td>\n",
       "      <td>0</td>\n",
       "      <td>0</td>\n",
       "      <td>13</td>\n",
       "      <td>39</td>\n",
       "      <td>0</td>\n",
       "    </tr>\n",
       "    <tr>\n",
       "      <th>2</th>\n",
       "      <td>38</td>\n",
       "      <td>4</td>\n",
       "      <td>215646</td>\n",
       "      <td>11</td>\n",
       "      <td>9</td>\n",
       "      <td>0</td>\n",
       "      <td>6</td>\n",
       "      <td>1</td>\n",
       "      <td>4</td>\n",
       "      <td>0</td>\n",
       "      <td>0</td>\n",
       "      <td>0</td>\n",
       "      <td>40</td>\n",
       "      <td>39</td>\n",
       "      <td>0</td>\n",
       "    </tr>\n",
       "    <tr>\n",
       "      <th>3</th>\n",
       "      <td>53</td>\n",
       "      <td>4</td>\n",
       "      <td>234721</td>\n",
       "      <td>1</td>\n",
       "      <td>7</td>\n",
       "      <td>2</td>\n",
       "      <td>6</td>\n",
       "      <td>0</td>\n",
       "      <td>2</td>\n",
       "      <td>0</td>\n",
       "      <td>0</td>\n",
       "      <td>0</td>\n",
       "      <td>40</td>\n",
       "      <td>39</td>\n",
       "      <td>0</td>\n",
       "    </tr>\n",
       "    <tr>\n",
       "      <th>4</th>\n",
       "      <td>28</td>\n",
       "      <td>4</td>\n",
       "      <td>338409</td>\n",
       "      <td>9</td>\n",
       "      <td>13</td>\n",
       "      <td>2</td>\n",
       "      <td>10</td>\n",
       "      <td>5</td>\n",
       "      <td>2</td>\n",
       "      <td>1</td>\n",
       "      <td>0</td>\n",
       "      <td>0</td>\n",
       "      <td>40</td>\n",
       "      <td>5</td>\n",
       "      <td>0</td>\n",
       "    </tr>\n",
       "    <tr>\n",
       "      <th>...</th>\n",
       "      <td>...</td>\n",
       "      <td>...</td>\n",
       "      <td>...</td>\n",
       "      <td>...</td>\n",
       "      <td>...</td>\n",
       "      <td>...</td>\n",
       "      <td>...</td>\n",
       "      <td>...</td>\n",
       "      <td>...</td>\n",
       "      <td>...</td>\n",
       "      <td>...</td>\n",
       "      <td>...</td>\n",
       "      <td>...</td>\n",
       "      <td>...</td>\n",
       "      <td>...</td>\n",
       "    </tr>\n",
       "    <tr>\n",
       "      <th>48837</th>\n",
       "      <td>39</td>\n",
       "      <td>4</td>\n",
       "      <td>215419</td>\n",
       "      <td>9</td>\n",
       "      <td>13</td>\n",
       "      <td>0</td>\n",
       "      <td>10</td>\n",
       "      <td>1</td>\n",
       "      <td>4</td>\n",
       "      <td>1</td>\n",
       "      <td>0</td>\n",
       "      <td>0</td>\n",
       "      <td>36</td>\n",
       "      <td>39</td>\n",
       "      <td>0</td>\n",
       "    </tr>\n",
       "    <tr>\n",
       "      <th>48838</th>\n",
       "      <td>64</td>\n",
       "      <td>9</td>\n",
       "      <td>321403</td>\n",
       "      <td>11</td>\n",
       "      <td>9</td>\n",
       "      <td>6</td>\n",
       "      <td>15</td>\n",
       "      <td>2</td>\n",
       "      <td>2</td>\n",
       "      <td>0</td>\n",
       "      <td>0</td>\n",
       "      <td>0</td>\n",
       "      <td>40</td>\n",
       "      <td>39</td>\n",
       "      <td>0</td>\n",
       "    </tr>\n",
       "    <tr>\n",
       "      <th>48839</th>\n",
       "      <td>38</td>\n",
       "      <td>4</td>\n",
       "      <td>374983</td>\n",
       "      <td>9</td>\n",
       "      <td>13</td>\n",
       "      <td>2</td>\n",
       "      <td>10</td>\n",
       "      <td>0</td>\n",
       "      <td>4</td>\n",
       "      <td>0</td>\n",
       "      <td>0</td>\n",
       "      <td>0</td>\n",
       "      <td>50</td>\n",
       "      <td>39</td>\n",
       "      <td>0</td>\n",
       "    </tr>\n",
       "    <tr>\n",
       "      <th>48840</th>\n",
       "      <td>44</td>\n",
       "      <td>4</td>\n",
       "      <td>83891</td>\n",
       "      <td>9</td>\n",
       "      <td>13</td>\n",
       "      <td>0</td>\n",
       "      <td>1</td>\n",
       "      <td>3</td>\n",
       "      <td>1</td>\n",
       "      <td>0</td>\n",
       "      <td>5455</td>\n",
       "      <td>0</td>\n",
       "      <td>40</td>\n",
       "      <td>39</td>\n",
       "      <td>0</td>\n",
       "    </tr>\n",
       "    <tr>\n",
       "      <th>48841</th>\n",
       "      <td>35</td>\n",
       "      <td>5</td>\n",
       "      <td>182148</td>\n",
       "      <td>9</td>\n",
       "      <td>13</td>\n",
       "      <td>2</td>\n",
       "      <td>4</td>\n",
       "      <td>0</td>\n",
       "      <td>4</td>\n",
       "      <td>0</td>\n",
       "      <td>0</td>\n",
       "      <td>0</td>\n",
       "      <td>60</td>\n",
       "      <td>39</td>\n",
       "      <td>1</td>\n",
       "    </tr>\n",
       "  </tbody>\n",
       "</table>\n",
       "<p>48842 rows × 15 columns</p>\n",
       "</div>"
      ],
      "text/plain": [
       "       age  workclass  fnlwgt  education  education-num  marital-status  \\\n",
       "0       39          7   77516          9             13               4   \n",
       "1       50          6   83311          9             13               2   \n",
       "2       38          4  215646         11              9               0   \n",
       "3       53          4  234721          1              7               2   \n",
       "4       28          4  338409          9             13               2   \n",
       "...    ...        ...     ...        ...            ...             ...   \n",
       "48837   39          4  215419          9             13               0   \n",
       "48838   64          9  321403         11              9               6   \n",
       "48839   38          4  374983          9             13               2   \n",
       "48840   44          4   83891          9             13               0   \n",
       "48841   35          5  182148          9             13               2   \n",
       "\n",
       "       occupation  relationship  race  sex  capital-gain  capital-loss  \\\n",
       "0               1             1     4    0          2174             0   \n",
       "1               4             0     4    0             0             0   \n",
       "2               6             1     4    0             0             0   \n",
       "3               6             0     2    0             0             0   \n",
       "4              10             5     2    1             0             0   \n",
       "...           ...           ...   ...  ...           ...           ...   \n",
       "48837          10             1     4    1             0             0   \n",
       "48838          15             2     2    0             0             0   \n",
       "48839          10             0     4    0             0             0   \n",
       "48840           1             3     1    0          5455             0   \n",
       "48841           4             0     4    0             0             0   \n",
       "\n",
       "       hours-per-week  native-country  income  \n",
       "0                  40              39       0  \n",
       "1                  13              39       0  \n",
       "2                  40              39       0  \n",
       "3                  40              39       0  \n",
       "4                  40               5       0  \n",
       "...               ...             ...     ...  \n",
       "48837              36              39       0  \n",
       "48838              40              39       0  \n",
       "48839              50              39       0  \n",
       "48840              40              39       0  \n",
       "48841              60              39       1  \n",
       "\n",
       "[48842 rows x 15 columns]"
      ]
     },
     "execution_count": 8,
     "metadata": {},
     "output_type": "execute_result"
    }
   ],
   "source": [
    "df"
   ]
  },
  {
   "cell_type": "code",
   "execution_count": 8,
   "id": "514c75d9",
   "metadata": {},
   "outputs": [],
   "source": [
    "df_tracking = df.copy()"
   ]
  },
  {
   "cell_type": "code",
   "execution_count": 10,
   "id": "9e6d6fcd",
   "metadata": {},
   "outputs": [],
   "source": [
    "#valores_unicos = df[\"workclass\"].unique()\n",
    "#print(valores_unicos)\n"
   ]
  },
  {
   "cell_type": "markdown",
   "id": "5c7a7118",
   "metadata": {},
   "source": [
    "Denifir columnas a modelar"
   ]
  },
  {
   "cell_type": "code",
   "execution_count": 9,
   "id": "2135e335",
   "metadata": {},
   "outputs": [],
   "source": [
    "from sklearn.feature_extraction import DictVectorizer\n",
    "from sklearn.compose import ColumnTransformer\n",
    "from sklearn.preprocessing import StandardScaler\n",
    "from sklearn.impute import SimpleImputer\n",
    "from sklearn.pipeline import Pipeline\n",
    "from sklearn.model_selection import train_test_split\n",
    "from sklearn.ensemble import RandomForestClassifier\n",
    "from sklearn.metrics import confusion_matrix, ConfusionMatrixDisplay\n",
    "from sklearn.metrics import accuracy_score, classification_report, f1_score, precision_score, recall_score\n",
    "import seaborn as sns"
   ]
  },
  {
   "cell_type": "code",
   "execution_count": 12,
   "id": "85641780",
   "metadata": {},
   "outputs": [
    {
     "data": {
      "text/plain": [
       "<Axes: xlabel='income', ylabel='count'>"
      ]
     },
     "execution_count": 12,
     "metadata": {},
     "output_type": "execute_result"
    },
    {
     "data": {
      "image/png": "[encoded data removed]",
      "text/plain": [
       "<Figure size 640x480 with 1 Axes>"
      ]
     },
     "metadata": {},
     "output_type": "display_data"
    }
   ],
   "source": [
    "sns.countplot(df, x = \"income\" )"
   ]
  },
  {
   "cell_type": "code",
   "execution_count": 10,
   "id": "b0a5ea52",
   "metadata": {},
   "outputs": [],
   "source": [
    "X = df.drop([\"income\"],axis=1)\n",
    "y = df['income']"
   ]
  },
  {
   "cell_type": "code",
   "execution_count": 11,
   "id": "095a672a",
   "metadata": {},
   "outputs": [],
   "source": [
    "X_train, X_test, y_train, y_test = train_test_split(X, y, test_size=0.3, stratify=y)"
   ]
  },
  {
   "cell_type": "code",
   "execution_count": 12,
   "id": "09ce7065",
   "metadata": {},
   "outputs": [
    {
     "name": "stdout",
     "output_type": "stream",
     "text": [
      "Accuracy : 0.8550\n",
      "F1 Score :0.6699\n",
      "Precision :0.7356\n",
      "Sensitividad :0.6149\n",
      "Especificidad :0.9305\n"
     ]
    },
    {
     "data": {
      "text/plain": [
       "<sklearn.metrics._plot.confusion_matrix.ConfusionMatrixDisplay at 0x125e50091d0>"
      ]
     },
     "execution_count": 12,
     "metadata": {},
     "output_type": "execute_result"
    },
    {
     "data": {
      "image/png": "[encoded data removed]",
      "text/plain": [
       "<Figure size 640x480 with 2 Axes>"
      ]
     },
     "metadata": {},
     "output_type": "display_data"
    }
   ],
   "source": [
    "#Definir el modelo\n",
    "modelo_random = RandomForestClassifier(random_state=42)\n",
    "\n",
    "#Entrenar el modelo\n",
    "modelo_random.fit(X_train, y_train)\n",
    "\n",
    "#Predecir\n",
    "y_pred = modelo_random.predict(X_test)\n",
    "\n",
    "#Matriz de confusion\n",
    "cm = confusion_matrix(y_test, y_pred)\n",
    "tn, fp, fn, tp = cm.ravel()\n",
    "\n",
    "#Calcular metrica F1score\n",
    "accuracy = accuracy_score(y_test, y_pred)\n",
    "f1 = f1_score(y_test, y_pred)\n",
    "precision = precision_score(y_test, y_pred)\n",
    "sensitividad = recall_score(y_test, y_pred)\n",
    "especificidad = tn / (tn + fp)\n",
    "\n",
    "#Imprimir metrica\n",
    "print(f\"Accuracy : {accuracy:.4f}\")\n",
    "print(f\"F1 Score :{f1:.4f}\")\n",
    "print(f\"Precision :{precision:.4f}\")\n",
    "print(f\"Sensitividad :{sensitividad:.4f}\")\n",
    "print(f\"Especificidad :{especificidad:.4f}\")\n",
    "\n",
    "#Mostrar matriz\n",
    "disp = ConfusionMatrixDisplay(confusion_matrix=cm)\n",
    "disp.plot()"
   ]
  },
  {
   "cell_type": "markdown",
   "id": "63b35e5d",
   "metadata": {},
   "source": [
    "MLFLOW"
   ]
  },
  {
   "cell_type": "code",
   "execution_count": 13,
   "id": "2a56c927",
   "metadata": {},
   "outputs": [],
   "source": [
    "from sklearn.feature_extraction import DictVectorizer\n",
    "import pickle"
   ]
  },
  {
   "cell_type": "code",
   "execution_count": 16,
   "id": "3aea5f52",
   "metadata": {},
   "outputs": [],
   "source": [
    "categorical = [\n",
    "    'workclass','marital-status','occupation',\n",
    "    'relationship','native-country',\n",
    "]\n",
    "numerical = ['age','education-num','capital-gain','capital-loss','hours-per-week']"
   ]
  },
  {
   "cell_type": "code",
   "execution_count": 17,
   "id": "84e19c99",
   "metadata": {},
   "outputs": [],
   "source": [
    "df_train, df_val = train_test_split(df, test_size=0.4, random_state=42)"
   ]
  },
  {
   "cell_type": "code",
   "execution_count": 18,
   "id": "8956018e",
   "metadata": {},
   "outputs": [],
   "source": [
    "from sklearn.feature_extraction import DictVectorizer\n",
    "from sklearn.compose import ColumnTransformer\n",
    "from sklearn.preprocessing import StandardScaler\n",
    "from sklearn.impute import SimpleImputer\n",
    "from sklearn.pipeline import Pipeline\n",
    "\n",
    "df_train = df_train.copy()\n",
    "df_val   = df_val.copy()\n",
    "df_train[\"categorical_dict\"] = df_train[categorical].to_dict(orient=\"records\")\n",
    "df_val[\"categorical_dict\"]   = df_val[categorical].to_dict(orient=\"records\")\n",
    "\n",
    "# Preprocesador: categóricas via DictVectorizer, numéricas con imputación + escala\n",
    "preprocessor = ColumnTransformer(\n",
    "    transformers=[\n",
    "        (\"cat\", DictVectorizer(), \"categorical_dict\"),\n",
    "        (\"num\", Pipeline([\n",
    "            (\"imputer\", SimpleImputer(strategy=\"median\")),\n",
    "            (\"scaler\",  StandardScaler())\n",
    "        ]), numerical),\n",
    "    ]\n",
    ")\n",
    "\n",
    "X_train = preprocessor.fit_transform(df_train)\n",
    "y_train = df_train[\"income\"].values\n",
    "X_val   = preprocessor.transform(df_val)\n",
    "y_val   = df_val[\"income\"].values"
   ]
  },
  {
   "cell_type": "markdown",
   "id": "beffc826",
   "metadata": {},
   "source": [
    "Antes ejecutar esto por terminal donde se encuentra el notebook\n",
    "\n",
    "mlflow server --backend-store-uri sqlite:///backend.db"
   ]
  },
  {
   "cell_type": "code",
   "execution_count": 20,
   "id": "f4030706",
   "metadata": {},
   "outputs": [],
   "source": [
    "import mlflow\n",
    "\n",
    "mlflow.set_tracking_uri(\"http://127.0.0.1:5000\")"
   ]
  },
  {
   "cell_type": "code",
   "execution_count": 21,
   "id": "a8858eba",
   "metadata": {},
   "outputs": [
    {
     "name": "stdout",
     "output_type": "stream",
     "text": [
      "tracking URI: 'http://127.0.0.1:5000'\n"
     ]
    }
   ],
   "source": [
    "print(f\"tracking URI: '{mlflow.get_tracking_uri()}'\")"
   ]
  },
  {
   "cell_type": "code",
   "execution_count": 22,
   "id": "2590c9fc",
   "metadata": {},
   "outputs": [
    {
     "data": {
      "text/plain": [
       "[<Experiment: artifact_location='file:///C:/Users/ASUS/Documents/6_CURSOS/ESPECIALIZACION/Semestre_II/4_APRENDIZAJE_EN_LA_NUBE/ProyectoMLOps/mlruns/2', creation_time=1759731624770, experiment_id='2', last_update_time=1759731624770, lifecycle_stage='active', name='Ingresos_Xgboost', tags={}>,\n",
       " <Experiment: artifact_location='file:///C:/Users/ASUS/Documents/6_CURSOS/ESPECIALIZACION/Semestre_II/4_APRENDIZAJE_EN_LA_NUBE/ProyectoMLOps/mlruns/1', creation_time=1759731141224, experiment_id='1', last_update_time=1759731141224, lifecycle_stage='active', name='Ingresos_Clasificacion', tags={'mlflow.experimentKind': 'custom_model_development'}>,\n",
       " <Experiment: artifact_location='file:///C:/Users/ASUS/Documents/6_CURSOS/ESPECIALIZACION/Semestre_II/4_APRENDIZAJE_EN_LA_NUBE/ProyectoMLOps/mlruns/0', creation_time=1759730872974, experiment_id='0', last_update_time=1759730872974, lifecycle_stage='active', name='Default', tags={}>]"
      ]
     },
     "execution_count": 22,
     "metadata": {},
     "output_type": "execute_result"
    }
   ],
   "source": [
    "mlflow.search_experiments()"
   ]
  },
  {
   "cell_type": "markdown",
   "id": "45acaaa5",
   "metadata": {},
   "source": [
    "RANDOM FOREST"
   ]
  },
  {
   "cell_type": "code",
   "execution_count": 23,
   "id": "715f3b8a",
   "metadata": {},
   "outputs": [
    {
     "name": "stderr",
     "output_type": "stream",
     "text": [
      "2025/10/06 13:17:34 INFO mlflow.tracking.fluent: Experiment with name 'Ingresos_Clasificacion_RandomForest' does not exist. Creating a new experiment.\n",
      "2025/10/06 13:17:36 WARNING mlflow.models.model: `artifact_path` is deprecated. Please use `name` instead.\n",
      "2025/10/06 13:17:46 WARNING mlflow.models.model: Model logged without a signature and input example. Please set `input_example` parameter when logging the model to auto infer the model signature.\n"
     ]
    },
    {
     "name": "stdout",
     "output_type": "stream",
     "text": [
      "🏃 View run RF_balanced at: http://127.0.0.1:5000/#/experiments/3/runs/a6dca95359654f67b14e3bdbc9003cdc\n",
      "🧪 View experiment at: http://127.0.0.1:5000/#/experiments/3\n",
      "RF -> acc:0.821 f1:0.697 prec:0.589 rec:0.855 roc:0.917\n"
     ]
    }
   ],
   "source": [
    "from sklearn.ensemble import RandomForestRegressor,RandomForestClassifier\n",
    "from sklearn.metrics import mean_squared_error\n",
    "import numpy as np\n",
    "from sklearn.metrics import accuracy_score, precision_score, recall_score, f1_score, roc_auc_score\n",
    "\n",
    "experiment_name = \"Ingresos_Clasificacion_RandomForest\"\n",
    "mlflow.set_experiment(experiment_name)\n",
    "\n",
    "with mlflow.start_run(run_name=\"RF_balanced\"):\n",
    "    rf = RandomForestClassifier(\n",
    "        n_estimators=300, \n",
    "        random_state=42, \n",
    "        max_depth=12,\n",
    "        n_jobs=-1,\n",
    "        class_weight=\"balanced\")\n",
    "    rf.fit(X_train, y_train)\n",
    "    y_pred = rf.predict(X_val)\n",
    "    y_proba = rf.predict_proba(X_val)[:,1] if hasattr(rf, \"predict_proba\") else None\n",
    "    \n",
    "    acc = accuracy_score(y_val, y_pred)\n",
    "    prec = precision_score(y_val, y_pred)\n",
    "    rec  = recall_score(y_val, y_pred)\n",
    "    f1   = f1_score(y_val, y_pred)\n",
    "    roc  = roc_auc_score(y_val, y_proba) if y_proba is not None else float(\"nan\")   \n",
    "    \n",
    "    \n",
    "    mlflow.log_param(\"n_estimators\", 300)\n",
    "    mlflow.log_param(\"max_depth\", 12)\n",
    "    mlflow.log_param(\"class_weight\", \"balanced\")\n",
    "    mlflow.log_metric(\"accuracy\", accuracy)\n",
    "    #rmse = np.sqrt(mean_squared_error(y_val, y_pred))\n",
    "    mlflow.log_metric(\"precision\", prec)\n",
    "    mlflow.log_metric(\"recall\", rec)\n",
    "    mlflow.log_metric(\"f1_score\", f1)\n",
    "    mlflow.log_metric(\"roc_auc\", roc)\n",
    "\n",
    "    mlflow.sklearn.log_model(rf, artifact_path=\"model\")\n",
    "\n",
    "print(f\"RF -> acc:{acc:.3f} f1:{f1:.3f} prec:{prec:.3f} rec:{rec:.3f} roc:{roc:.3f}\")"
   ]
  },
  {
   "cell_type": "markdown",
   "id": "9f34c153",
   "metadata": {},
   "source": [
    "XGBOOST"
   ]
  },
  {
   "cell_type": "code",
   "execution_count": 26,
   "id": "2fa2280e",
   "metadata": {},
   "outputs": [
    {
     "name": "stderr",
     "output_type": "stream",
     "text": [
      "2025/10/06 13:30:49 WARNING mlflow.models.model: `artifact_path` is deprecated. Please use `name` instead.\n",
      "2025/10/06 13:30:54 WARNING mlflow.models.model: Model logged without a signature and input example. Please set `input_example` parameter when logging the model to auto infer the model signature.\n"
     ]
    },
    {
     "name": "stdout",
     "output_type": "stream",
     "text": [
      "🏃 View run XGB_spw at: http://127.0.0.1:5000/#/experiments/2/runs/74f8ffa534954fe9be8f66ce601b22f9\n",
      "🧪 View experiment at: http://127.0.0.1:5000/#/experiments/2\n",
      "XGB -> acc:0.834 f1:0.711 prec:0.614 rec:0.846 roc:0.924\n"
     ]
    }
   ],
   "source": [
    "import xgboost as xgb\n",
    "\n",
    "experiment_name = \"Ingresos_Xgboost\"\n",
    "mlflow.set_experiment(experiment_name)\n",
    "\n",
    "# balanceo para XGB\n",
    "n_pos = int((y_train == 1).sum())\n",
    "n_neg = int((y_train == 0).sum())\n",
    "spw = n_neg / n_pos\n",
    "\n",
    "with mlflow.start_run(run_name=\"XGB_spw\"):\n",
    "    xgb_reg = xgb.XGBClassifier(\n",
    "        objective=\"binary:logistic\",\n",
    "        eval_metric=\"logloss\",\n",
    "        n_estimators=400,\n",
    "        max_depth=6,\n",
    "        learning_rate=0.1,\n",
    "        subsample=0.9,\n",
    "        colsample_bytree=0.9,\n",
    "        reg_lambda=1.0,\n",
    "        n_jobs=-1,\n",
    "        random_state=42,\n",
    "        scale_pos_weight=spw\n",
    "    )\n",
    "    xgb_reg.fit(X_train, y_train)\n",
    "    y_pred = xgb_reg.predict(X_val)\n",
    "    y_proba = xgb_reg.predict_proba(X_val)[:,1]\n",
    "\n",
    "    acc = accuracy_score(y_val, y_pred)\n",
    "    prec = precision_score(y_val, y_pred)\n",
    "    rec  = recall_score(y_val, y_pred)\n",
    "    f1   = f1_score(y_val, y_pred)\n",
    "    roc  = roc_auc_score(y_val, y_proba)\n",
    "\n",
    "    mlflow.log_param(\"scale_pos_weight\", round(spw,3))\n",
    "    mlflow.log_param(\"n_estimators\", 400)\n",
    "    mlflow.log_param(\"max_depth\", 6)\n",
    "    mlflow.log_metric(\"accuracy\", acc)\n",
    "    mlflow.log_metric(\"precision\", prec)\n",
    "    mlflow.log_metric(\"recall\", rec)\n",
    "    mlflow.log_metric(\"f1_score\", f1)\n",
    "    mlflow.log_metric(\"roc_auc\", roc)\n",
    "\n",
    "    mlflow.sklearn.log_model(xgb_reg, artifact_path=\"model\")\n",
    "\n",
    "print(f\"XGB -> acc:{acc:.3f} f1:{f1:.3f} prec:{prec:.3f} rec:{rec:.3f} roc:{roc:.3f}\")"
   ]
  },
  {
   "cell_type": "markdown",
   "id": "f0d36ba9",
   "metadata": {},
   "source": [
    "REGRESIÓN LOGISTICA"
   ]
  },
  {
   "cell_type": "code",
   "execution_count": 27,
   "id": "d22b8412",
   "metadata": {},
   "outputs": [
    {
     "name": "stderr",
     "output_type": "stream",
     "text": [
      "2025/10/06 13:39:56 INFO mlflow.tracking.fluent: Experiment with name 'Ingresos_Logistica' does not exist. Creating a new experiment.\n",
      "2025/10/06 13:39:59 WARNING mlflow.models.model: `artifact_path` is deprecated. Please use `name` instead.\n",
      "2025/10/06 13:40:06 WARNING mlflow.models.model: Model logged without a signature and input example. Please set `input_example` parameter when logging the model to auto infer the model signature.\n"
     ]
    },
    {
     "name": "stdout",
     "output_type": "stream",
     "text": [
      "🏃 View run LogReg_balanced at: http://127.0.0.1:5000/#/experiments/4/runs/42e14027bad0444a8361f5a71a2b1fc9\n",
      "🧪 View experiment at: http://127.0.0.1:5000/#/experiments/4\n",
      "LogReg -> acc:0.834 f1:0.711 prec:0.614 rec:0.846 roc:0.850\n"
     ]
    }
   ],
   "source": [
    "from sklearn.linear_model import LogisticRegression\n",
    "\n",
    "experiment_name = \"Ingresos_Logistica\"\n",
    "mlflow.set_experiment(experiment_name)\n",
    "\n",
    "\n",
    "with mlflow.start_run(run_name=\"LogReg_balanced\"):\n",
    "    log_reg = LogisticRegression(\n",
    "        max_iter=1000,\n",
    "        class_weight=\"balanced\",\n",
    "        n_jobs=None,        \n",
    "        random_state=42\n",
    "    )\n",
    "    log_reg.fit(X_train, y_train)\n",
    "    y_pred = xgb_reg.predict(X_val)\n",
    "    if hasattr(log_reg, \"predict_proba\"):\n",
    "        y_proba = log_reg.predict_proba(X_val)[:,1]\n",
    "    else:\n",
    "        z = log_reg.decision_function(X_val)\n",
    "        y_proba = (z - z.min()) / (z.max() - z.min() + 1e-9)\n",
    "\n",
    "    acc = accuracy_score(y_val, y_pred)\n",
    "    prec = precision_score(y_val, y_pred)\n",
    "    rec  = recall_score(y_val, y_pred)\n",
    "    f1   = f1_score(y_val, y_pred)\n",
    "    roc  = roc_auc_score(y_val, y_proba)\n",
    "\n",
    "    mlflow.log_param(\"class_weight\", \"balanced\")\n",
    "    mlflow.log_param(\"max_iter\", 1000)\n",
    "    mlflow.log_metric(\"accuracy\", acc)\n",
    "    mlflow.log_metric(\"precision\", prec)\n",
    "    mlflow.log_metric(\"recall\", rec)\n",
    "    mlflow.log_metric(\"f1_score\", f1)\n",
    "    mlflow.log_metric(\"roc_auc\", roc)\n",
    "\n",
    "    mlflow.sklearn.log_model(log_reg, artifact_path=\"model\")\n",
    "\n",
    "print(f\"LogReg -> acc:{acc:.3f} f1:{f1:.3f} prec:{prec:.3f} rec:{rec:.3f} roc:{roc:.3f}\")"
   ]
  },
  {
   "cell_type": "markdown",
   "id": "e7024079",
   "metadata": {},
   "source": [
    "Probando autologgin"
   ]
  },
  {
   "cell_type": "code",
   "execution_count": 35,
   "id": "507c1fd8",
   "metadata": {},
   "outputs": [
    {
     "name": "stderr",
     "output_type": "stream",
     "text": [
      "2025/10/04 14:58:39 INFO mlflow.tracking.fluent: Experiment with name 'Ingresos_autolog' does not exist. Creating a new experiment.\n",
      "2025/10/04 14:58:43 INFO mlflow.tracking.fluent: Autologging successfully enabled for sklearn.\n",
      "2025/10/04 14:58:43 INFO mlflow.tracking.fluent: Autologging successfully enabled for xgboost.\n",
      "2025/10/04 14:58:54 WARNING mlflow.utils.environment: Failed to resolve installed pip version. ``pip`` will be added to conda.yaml environment spec without a version specifier.\n"
     ]
    },
    {
     "name": "stdout",
     "output_type": "stream",
     "text": [
      "🏃 View run spiffy-grub-297 at: http://127.0.0.1:5000/#/experiments/4/runs/c0de723e9876430487f322ba07c8360e\n",
      "🧪 View experiment at: http://127.0.0.1:5000/#/experiments/4\n"
     ]
    }
   ],
   "source": [
    "import mlflow\n",
    "\n",
    "experiment_name = \"Ingresos_autolog\"\n",
    "mlflow.set_experiment(experiment_name)\n",
    "mlflow.autolog()\n",
    "\n",
    "with mlflow.start_run():\n",
    "    rf = RandomForestRegressor(n_estimators=100, random_state=0, max_depth=10)\n",
    "    rf.fit(X_train, y_train)\n",
    "    y_pred = rf.predict(X_val)\n",
    "    mlflow.log_param(\"n_estimators\", 100)\n",
    "    mlflow.log_param(\"max_depth\", 10)\n",
    "\n",
    "    rmse = np.sqrt(mean_squared_error(y_val, y_pred))\n",
    "    mlflow.log_metric(\"rmse\", rmse)\n",
    "    mlflow.log_metric(\"accuracy\", accuracy)\n",
    "    mlflow.log_metric(\"f1_score\", f1)"
   ]
  },
  {
   "cell_type": "code",
   "execution_count": 28,
   "id": "f19d0edc",
   "metadata": {},
   "outputs": [
    {
     "name": "stderr",
     "output_type": "stream",
     "text": [
      "2025/10/06 14:15:28 INFO mlflow.tracking.fluent: Experiment with name 'Ingresos_autolog' does not exist. Creating a new experiment.\n",
      "2025/10/06 14:15:32 INFO mlflow.tracking.fluent: Autologging successfully enabled for sklearn.\n",
      "2025/10/06 14:15:35 INFO mlflow.tracking.fluent: Autologging successfully enabled for statsmodels.\n",
      "2025/10/06 14:15:36 INFO mlflow.tracking.fluent: Autologging successfully enabled for xgboost.\n",
      "2025/10/06 14:15:38 WARNING mlflow.models.model: `artifact_path` is deprecated. Please use `name` instead.\n",
      "2025/10/06 14:15:39 WARNING mlflow.utils.autologging_utils: MLflow autologging encountered a warning: \"c:\\Users\\ASUS\\Documents\\6_CURSOS\\ESPECIALIZACION\\Semestre_II\\4_APRENDIZAJE_EN_LA_NUBE\\ProyectoMLOps\\.venv\\Lib\\site-packages\\xgboost\\sklearn.py:1028: UserWarning: [14:15:39] WARNING: C:\\actions-runner\\_work\\xgboost\\xgboost\\src\\c_api\\c_api.cc:1427: Saving model in the UBJSON format as default.  You can use file extension: `json`, `ubj` or `deprecated` to choose between formats.\"\n"
     ]
    },
    {
     "name": "stdout",
     "output_type": "stream",
     "text": [
      "🏃 View run XGBClassifier_autolog_spw at: http://127.0.0.1:5000/#/experiments/5/runs/de754150c01548e6a19654df10acaed2\n",
      "🧪 View experiment at: http://127.0.0.1:5000/#/experiments/5\n",
      "XGB (autolog) -> acc:0.834 f1:0.711 prec:0.614 rec:0.846 roc:0.924\n"
     ]
    }
   ],
   "source": [
    "# ----- AUTLOG activado (XGBoost + scikit-learn) -----\n",
    "mlflow.set_experiment(\"Ingresos_autolog\")\n",
    "mlflow.autolog()               \n",
    "mlflow.xgboost.autolog()       \n",
    "\n",
    "# ----- Balanceo para la clase positiva ( >50K = 1 ) -----\n",
    "n_pos = int((y_train == 1).sum())\n",
    "n_neg = int((y_train == 0).sum())\n",
    "spw = n_neg / n_pos\n",
    "\n",
    "with mlflow.start_run(run_name=\"XGBClassifier_autolog_spw\"):\n",
    "    xgb_clf = xgb.XGBClassifier(\n",
    "        objective=\"binary:logistic\",   # clasificación binaria\n",
    "        eval_metric=\"logloss\",         # para que autolog registre esta métrica\n",
    "        n_estimators=400,\n",
    "        max_depth=6,\n",
    "        learning_rate=0.1,\n",
    "        subsample=0.9,\n",
    "        colsample_bytree=0.9,\n",
    "        reg_lambda=1.0,\n",
    "        n_jobs=-1,\n",
    "        random_state=42,\n",
    "        scale_pos_weight=spw           # balanceo de clases\n",
    "    )\n",
    "\n",
    "    # eval_set hace que MLflow autologue métricas en validación\n",
    "    xgb_clf.fit(X_train, y_train, eval_set=[(X_val, y_val)], verbose=False)\n",
    "\n",
    "    # Predicciones y métricas de CLASIFICACIÓN\n",
    "    y_pred  = xgb_clf.predict(X_val)\n",
    "    y_proba = xgb_clf.predict_proba(X_val)[:, 1]\n",
    "\n",
    "    acc  = accuracy_score(y_val, y_pred)\n",
    "    prec = precision_score(y_val, y_pred)\n",
    "    rec  = recall_score(y_val, y_pred)\n",
    "    f1   = f1_score(y_val, y_pred)\n",
    "    roc  = roc_auc_score(y_val, y_proba)\n",
    "\n",
    "    mlflow.log_metric(\"accuracy\", acc)\n",
    "    mlflow.log_metric(\"precision\", prec)\n",
    "    mlflow.log_metric(\"recall\", rec)\n",
    "    mlflow.log_metric(\"f1_score\", f1)\n",
    "    mlflow.log_metric(\"roc_auc\", roc)\n",
    "\n",
    "print(f\"XGB (autolog) -> acc:{acc:.3f} f1:{f1:.3f} prec:{prec:.3f} rec:{rec:.3f} roc:{roc:.3f}\")\n"
   ]
  },
  {
   "cell_type": "markdown",
   "id": "88191a32",
   "metadata": {},
   "source": [
    "# **OPTUNA**"
   ]
  },
  {
   "cell_type": "code",
   "execution_count": 31,
   "id": "d7b3f5ba",
   "metadata": {},
   "outputs": [
    {
     "name": "stderr",
     "output_type": "stream",
     "text": [
      "[I 2025-10-06 14:46:04,773] A new study created in memory with name: no-name-7fbcb748-a6eb-45b3-84a2-67736149cde7\n",
      "2025/10/06 14:46:05 WARNING mlflow.models.model: `artifact_path` is deprecated. Please use `name` instead.\n",
      "2025/10/06 14:46:06 WARNING mlflow.utils.autologging_utils: MLflow autologging encountered a warning: \"c:\\Users\\ASUS\\Documents\\6_CURSOS\\ESPECIALIZACION\\Semestre_II\\4_APRENDIZAJE_EN_LA_NUBE\\ProyectoMLOps\\.venv\\Lib\\site-packages\\xgboost\\sklearn.py:1028: UserWarning: [14:46:06] WARNING: C:\\actions-runner\\_work\\xgboost\\xgboost\\src\\c_api\\c_api.cc:1427: Saving model in the UBJSON format as default.  You can use file extension: `json`, `ubj` or `deprecated` to choose between formats.\"\n",
      "[I 2025-10-06 14:46:15,512] Trial 0 finished with value: 0.6933871103268633 and parameters: {'n_estimators': 105, 'max_depth': 9, 'learning_rate': 0.015846099638056232, 'subsample': 0.8515002203711728, 'colsample_bytree': 0.7179796270120851, 'gamma': 3.592946007959001}. Best is trial 0 with value: 0.6933871103268633.\n"
     ]
    },
    {
     "name": "stdout",
     "output_type": "stream",
     "text": [
      "🏃 View run shivering-doe-94 at: http://127.0.0.1:5000/#/experiments/6/runs/d11095bae1ac41c5ab56367264c550f3\n",
      "🧪 View experiment at: http://127.0.0.1:5000/#/experiments/6\n"
     ]
    },
    {
     "name": "stderr",
     "output_type": "stream",
     "text": [
      "2025/10/06 14:46:16 WARNING mlflow.models.model: `artifact_path` is deprecated. Please use `name` instead.\n",
      "2025/10/06 14:46:16 WARNING mlflow.utils.autologging_utils: MLflow autologging encountered a warning: \"c:\\Users\\ASUS\\Documents\\6_CURSOS\\ESPECIALIZACION\\Semestre_II\\4_APRENDIZAJE_EN_LA_NUBE\\ProyectoMLOps\\.venv\\Lib\\site-packages\\xgboost\\sklearn.py:1028: UserWarning: [14:46:16] WARNING: C:\\actions-runner\\_work\\xgboost\\xgboost\\src\\c_api\\c_api.cc:1427: Saving model in the UBJSON format as default.  You can use file extension: `json`, `ubj` or `deprecated` to choose between formats.\"\n",
      "[I 2025-10-06 14:46:24,739] Trial 1 finished with value: 0.7112546930935126 and parameters: {'n_estimators': 383, 'max_depth': 7, 'learning_rate': 0.02479464663153516, 'subsample': 0.7690025303216553, 'colsample_bytree': 0.654546965339687, 'gamma': 2.6650991214210453}. Best is trial 1 with value: 0.7112546930935126.\n"
     ]
    },
    {
     "name": "stdout",
     "output_type": "stream",
     "text": [
      "🏃 View run unleashed-stoat-658 at: http://127.0.0.1:5000/#/experiments/6/runs/ec36edfe2d3f47ceabaeb06e211ed8bb\n",
      "🧪 View experiment at: http://127.0.0.1:5000/#/experiments/6\n"
     ]
    },
    {
     "name": "stderr",
     "output_type": "stream",
     "text": [
      "2025/10/06 14:46:25 WARNING mlflow.models.model: `artifact_path` is deprecated. Please use `name` instead.\n",
      "2025/10/06 14:46:25 WARNING mlflow.utils.autologging_utils: MLflow autologging encountered a warning: \"c:\\Users\\ASUS\\Documents\\6_CURSOS\\ESPECIALIZACION\\Semestre_II\\4_APRENDIZAJE_EN_LA_NUBE\\ProyectoMLOps\\.venv\\Lib\\site-packages\\xgboost\\sklearn.py:1028: UserWarning: [14:46:25] WARNING: C:\\actions-runner\\_work\\xgboost\\xgboost\\src\\c_api\\c_api.cc:1427: Saving model in the UBJSON format as default.  You can use file extension: `json`, `ubj` or `deprecated` to choose between formats.\"\n",
      "[I 2025-10-06 14:46:33,215] Trial 2 finished with value: 0.7124890829694324 and parameters: {'n_estimators': 499, 'max_depth': 6, 'learning_rate': 0.024567995817913087, 'subsample': 0.6195712721245177, 'colsample_bytree': 0.8020451997999477, 'gamma': 0.8576044253983917}. Best is trial 2 with value: 0.7124890829694324.\n"
     ]
    },
    {
     "name": "stdout",
     "output_type": "stream",
     "text": [
      "🏃 View run nosy-wasp-672 at: http://127.0.0.1:5000/#/experiments/6/runs/fc55f3ef03314623bacf70c3a3cad43f\n",
      "🧪 View experiment at: http://127.0.0.1:5000/#/experiments/6\n"
     ]
    },
    {
     "name": "stderr",
     "output_type": "stream",
     "text": [
      "2025/10/06 14:46:33 WARNING mlflow.models.model: `artifact_path` is deprecated. Please use `name` instead.\n",
      "2025/10/06 14:46:33 WARNING mlflow.utils.autologging_utils: MLflow autologging encountered a warning: \"c:\\Users\\ASUS\\Documents\\6_CURSOS\\ESPECIALIZACION\\Semestre_II\\4_APRENDIZAJE_EN_LA_NUBE\\ProyectoMLOps\\.venv\\Lib\\site-packages\\xgboost\\sklearn.py:1028: UserWarning: [14:46:33] WARNING: C:\\actions-runner\\_work\\xgboost\\xgboost\\src\\c_api\\c_api.cc:1427: Saving model in the UBJSON format as default.  You can use file extension: `json`, `ubj` or `deprecated` to choose between formats.\"\n",
      "[I 2025-10-06 14:46:39,341] Trial 3 finished with value: 0.701821006300164 and parameters: {'n_estimators': 202, 'max_depth': 3, 'learning_rate': 0.07509093429994067, 'subsample': 0.7645063846525696, 'colsample_bytree': 0.7444028116489061, 'gamma': 2.0628184834724523}. Best is trial 2 with value: 0.7124890829694324.\n"
     ]
    },
    {
     "name": "stdout",
     "output_type": "stream",
     "text": [
      "🏃 View run popular-fish-568 at: http://127.0.0.1:5000/#/experiments/6/runs/0345b5fe999f48a4b1fb6eac2b523f25\n",
      "🧪 View experiment at: http://127.0.0.1:5000/#/experiments/6\n"
     ]
    },
    {
     "name": "stderr",
     "output_type": "stream",
     "text": [
      "2025/10/06 14:46:39 WARNING mlflow.models.model: `artifact_path` is deprecated. Please use `name` instead.\n",
      "2025/10/06 14:46:40 WARNING mlflow.utils.autologging_utils: MLflow autologging encountered a warning: \"c:\\Users\\ASUS\\Documents\\6_CURSOS\\ESPECIALIZACION\\Semestre_II\\4_APRENDIZAJE_EN_LA_NUBE\\ProyectoMLOps\\.venv\\Lib\\site-packages\\xgboost\\sklearn.py:1028: UserWarning: [14:46:40] WARNING: C:\\actions-runner\\_work\\xgboost\\xgboost\\src\\c_api\\c_api.cc:1427: Saving model in the UBJSON format as default.  You can use file extension: `json`, `ubj` or `deprecated` to choose between formats.\"\n",
      "[I 2025-10-06 14:46:45,427] Trial 4 finished with value: 0.7112970711297071 and parameters: {'n_estimators': 391, 'max_depth': 4, 'learning_rate': 0.0952967932586251, 'subsample': 0.8869459472068546, 'colsample_bytree': 0.7033839566686588, 'gamma': 2.9322215191921286}. Best is trial 2 with value: 0.7124890829694324.\n"
     ]
    },
    {
     "name": "stdout",
     "output_type": "stream",
     "text": [
      "🏃 View run trusting-cub-464 at: http://127.0.0.1:5000/#/experiments/6/runs/d9a52f36e88044fcb1e686d2fbed0e7c\n",
      "🧪 View experiment at: http://127.0.0.1:5000/#/experiments/6\n"
     ]
    },
    {
     "name": "stderr",
     "output_type": "stream",
     "text": [
      "2025/10/06 14:46:45 WARNING mlflow.models.model: `artifact_path` is deprecated. Please use `name` instead.\n",
      "2025/10/06 14:46:45 WARNING mlflow.utils.autologging_utils: MLflow autologging encountered a warning: \"c:\\Users\\ASUS\\Documents\\6_CURSOS\\ESPECIALIZACION\\Semestre_II\\4_APRENDIZAJE_EN_LA_NUBE\\ProyectoMLOps\\.venv\\Lib\\site-packages\\xgboost\\sklearn.py:1028: UserWarning: [14:46:45] WARNING: C:\\actions-runner\\_work\\xgboost\\xgboost\\src\\c_api\\c_api.cc:1427: Saving model in the UBJSON format as default.  You can use file extension: `json`, `ubj` or `deprecated` to choose between formats.\"\n",
      "[I 2025-10-06 14:46:51,778] Trial 5 finished with value: 0.6984670720219235 and parameters: {'n_estimators': 127, 'max_depth': 3, 'learning_rate': 0.08881193860165451, 'subsample': 0.9126392295624473, 'colsample_bytree': 0.6258331344513757, 'gamma': 1.9769012652462092}. Best is trial 2 with value: 0.7124890829694324.\n"
     ]
    },
    {
     "name": "stdout",
     "output_type": "stream",
     "text": [
      "🏃 View run flawless-goose-374 at: http://127.0.0.1:5000/#/experiments/6/runs/74e6564fb893413d9fb0533b29b743a4\n",
      "🧪 View experiment at: http://127.0.0.1:5000/#/experiments/6\n"
     ]
    },
    {
     "name": "stderr",
     "output_type": "stream",
     "text": [
      "2025/10/06 14:46:52 WARNING mlflow.models.model: `artifact_path` is deprecated. Please use `name` instead.\n",
      "2025/10/06 14:46:52 WARNING mlflow.utils.autologging_utils: MLflow autologging encountered a warning: \"c:\\Users\\ASUS\\Documents\\6_CURSOS\\ESPECIALIZACION\\Semestre_II\\4_APRENDIZAJE_EN_LA_NUBE\\ProyectoMLOps\\.venv\\Lib\\site-packages\\xgboost\\sklearn.py:1028: UserWarning: [14:46:52] WARNING: C:\\actions-runner\\_work\\xgboost\\xgboost\\src\\c_api\\c_api.cc:1427: Saving model in the UBJSON format as default.  You can use file extension: `json`, `ubj` or `deprecated` to choose between formats.\"\n",
      "[I 2025-10-06 14:46:57,804] Trial 6 finished with value: 0.7081636267044449 and parameters: {'n_estimators': 206, 'max_depth': 7, 'learning_rate': 0.29165751227788805, 'subsample': 0.675746625922184, 'colsample_bytree': 0.9687798468036536, 'gamma': 3.4978407017245776}. Best is trial 2 with value: 0.7124890829694324.\n"
     ]
    },
    {
     "name": "stdout",
     "output_type": "stream",
     "text": [
      "🏃 View run bald-goat-619 at: http://127.0.0.1:5000/#/experiments/6/runs/31e9150a4c114fb99dd7be2b7552a6c5\n",
      "🧪 View experiment at: http://127.0.0.1:5000/#/experiments/6\n"
     ]
    },
    {
     "name": "stderr",
     "output_type": "stream",
     "text": [
      "2025/10/06 14:46:58 WARNING mlflow.models.model: `artifact_path` is deprecated. Please use `name` instead.\n",
      "2025/10/06 14:46:58 WARNING mlflow.utils.autologging_utils: MLflow autologging encountered a warning: \"c:\\Users\\ASUS\\Documents\\6_CURSOS\\ESPECIALIZACION\\Semestre_II\\4_APRENDIZAJE_EN_LA_NUBE\\ProyectoMLOps\\.venv\\Lib\\site-packages\\xgboost\\sklearn.py:1028: UserWarning: [14:46:58] WARNING: C:\\actions-runner\\_work\\xgboost\\xgboost\\src\\c_api\\c_api.cc:1427: Saving model in the UBJSON format as default.  You can use file extension: `json`, `ubj` or `deprecated` to choose between formats.\"\n",
      "[I 2025-10-06 14:47:04,027] Trial 7 finished with value: 0.7066381156316917 and parameters: {'n_estimators': 281, 'max_depth': 7, 'learning_rate': 0.26366176440041744, 'subsample': 0.7216676080069762, 'colsample_bytree': 0.7881151694026338, 'gamma': 2.381666956142915}. Best is trial 2 with value: 0.7124890829694324.\n"
     ]
    },
    {
     "name": "stdout",
     "output_type": "stream",
     "text": [
      "🏃 View run glamorous-dog-417 at: http://127.0.0.1:5000/#/experiments/6/runs/782b0a13d2d84f5cac96c2dd89cfe9ba\n",
      "🧪 View experiment at: http://127.0.0.1:5000/#/experiments/6\n"
     ]
    },
    {
     "name": "stderr",
     "output_type": "stream",
     "text": [
      "2025/10/06 14:47:04 WARNING mlflow.models.model: `artifact_path` is deprecated. Please use `name` instead.\n",
      "2025/10/06 14:47:04 WARNING mlflow.utils.autologging_utils: MLflow autologging encountered a warning: \"c:\\Users\\ASUS\\Documents\\6_CURSOS\\ESPECIALIZACION\\Semestre_II\\4_APRENDIZAJE_EN_LA_NUBE\\ProyectoMLOps\\.venv\\Lib\\site-packages\\xgboost\\sklearn.py:1028: UserWarning: [14:47:04] WARNING: C:\\actions-runner\\_work\\xgboost\\xgboost\\src\\c_api\\c_api.cc:1427: Saving model in the UBJSON format as default.  You can use file extension: `json`, `ubj` or `deprecated` to choose between formats.\"\n",
      "[I 2025-10-06 14:47:11,328] Trial 8 finished with value: 0.7121745249824067 and parameters: {'n_estimators': 442, 'max_depth': 10, 'learning_rate': 0.05018300436658051, 'subsample': 0.7034935056400256, 'colsample_bytree': 0.6546235737701752, 'gamma': 3.6463926167614873}. Best is trial 2 with value: 0.7124890829694324.\n"
     ]
    },
    {
     "name": "stdout",
     "output_type": "stream",
     "text": [
      "🏃 View run likeable-ram-14 at: http://127.0.0.1:5000/#/experiments/6/runs/3923cf6d3e0e4de4ab59721aa0ef2c34\n",
      "🧪 View experiment at: http://127.0.0.1:5000/#/experiments/6\n"
     ]
    },
    {
     "name": "stderr",
     "output_type": "stream",
     "text": [
      "2025/10/06 14:47:12 WARNING mlflow.models.model: `artifact_path` is deprecated. Please use `name` instead.\n",
      "2025/10/06 14:47:12 WARNING mlflow.utils.autologging_utils: MLflow autologging encountered a warning: \"c:\\Users\\ASUS\\Documents\\6_CURSOS\\ESPECIALIZACION\\Semestre_II\\4_APRENDIZAJE_EN_LA_NUBE\\ProyectoMLOps\\.venv\\Lib\\site-packages\\xgboost\\sklearn.py:1028: UserWarning: [14:47:12] WARNING: C:\\actions-runner\\_work\\xgboost\\xgboost\\src\\c_api\\c_api.cc:1427: Saving model in the UBJSON format as default.  You can use file extension: `json`, `ubj` or `deprecated` to choose between formats.\"\n",
      "[I 2025-10-06 14:47:17,569] Trial 9 finished with value: 0.7121968304001401 and parameters: {'n_estimators': 395, 'max_depth': 10, 'learning_rate': 0.10645134321660511, 'subsample': 0.6996754689820898, 'colsample_bytree': 0.7081478689782595, 'gamma': 4.093745064088706}. Best is trial 2 with value: 0.7124890829694324.\n"
     ]
    },
    {
     "name": "stdout",
     "output_type": "stream",
     "text": [
      "🏃 View run capricious-ram-854 at: http://127.0.0.1:5000/#/experiments/6/runs/d3990a64baf34251a0c15913f24e55e9\n",
      "🧪 View experiment at: http://127.0.0.1:5000/#/experiments/6\n"
     ]
    },
    {
     "name": "stderr",
     "output_type": "stream",
     "text": [
      "2025/10/06 14:47:18 WARNING mlflow.models.model: `artifact_path` is deprecated. Please use `name` instead.\n",
      "2025/10/06 14:47:18 WARNING mlflow.utils.autologging_utils: MLflow autologging encountered a warning: \"c:\\Users\\ASUS\\Documents\\6_CURSOS\\ESPECIALIZACION\\Semestre_II\\4_APRENDIZAJE_EN_LA_NUBE\\ProyectoMLOps\\.venv\\Lib\\site-packages\\xgboost\\sklearn.py:1028: UserWarning: [14:47:18] WARNING: C:\\actions-runner\\_work\\xgboost\\xgboost\\src\\c_api\\c_api.cc:1427: Saving model in the UBJSON format as default.  You can use file extension: `json`, `ubj` or `deprecated` to choose between formats.\"\n",
      "[I 2025-10-06 14:47:23,993] Trial 10 finished with value: 0.7081270812708127 and parameters: {'n_estimators': 494, 'max_depth': 5, 'learning_rate': 0.17409465012365466, 'subsample': 0.6050090661617301, 'colsample_bytree': 0.8991666425285232, 'gamma': 0.2967634214669781}. Best is trial 2 with value: 0.7124890829694324.\n"
     ]
    },
    {
     "name": "stdout",
     "output_type": "stream",
     "text": [
      "🏃 View run sedate-frog-432 at: http://127.0.0.1:5000/#/experiments/6/runs/f061640b74eb47f9873ed9a5f2903534\n",
      "🧪 View experiment at: http://127.0.0.1:5000/#/experiments/6\n"
     ]
    },
    {
     "name": "stderr",
     "output_type": "stream",
     "text": [
      "2025/10/06 14:47:24 WARNING mlflow.models.model: `artifact_path` is deprecated. Please use `name` instead.\n",
      "2025/10/06 14:47:24 WARNING mlflow.utils.autologging_utils: MLflow autologging encountered a warning: \"c:\\Users\\ASUS\\Documents\\6_CURSOS\\ESPECIALIZACION\\Semestre_II\\4_APRENDIZAJE_EN_LA_NUBE\\ProyectoMLOps\\.venv\\Lib\\site-packages\\xgboost\\sklearn.py:1028: UserWarning: [14:47:24] WARNING: C:\\actions-runner\\_work\\xgboost\\xgboost\\src\\c_api\\c_api.cc:1427: Saving model in the UBJSON format as default.  You can use file extension: `json`, `ubj` or `deprecated` to choose between formats.\"\n",
      "[I 2025-10-06 14:47:30,161] Trial 11 finished with value: 0.7086197778952935 and parameters: {'n_estimators': 483, 'max_depth': 9, 'learning_rate': 0.15555995117593333, 'subsample': 0.6006376874766985, 'colsample_bytree': 0.8529464346329377, 'gamma': 4.871002801137044}. Best is trial 2 with value: 0.7124890829694324.\n"
     ]
    },
    {
     "name": "stdout",
     "output_type": "stream",
     "text": [
      "🏃 View run clumsy-owl-760 at: http://127.0.0.1:5000/#/experiments/6/runs/b90cbe209cd542a7848b83d3592519fd\n",
      "🧪 View experiment at: http://127.0.0.1:5000/#/experiments/6\n"
     ]
    },
    {
     "name": "stderr",
     "output_type": "stream",
     "text": [
      "2025/10/06 14:47:30 WARNING mlflow.models.model: `artifact_path` is deprecated. Please use `name` instead.\n",
      "2025/10/06 14:47:30 WARNING mlflow.utils.autologging_utils: MLflow autologging encountered a warning: \"c:\\Users\\ASUS\\Documents\\6_CURSOS\\ESPECIALIZACION\\Semestre_II\\4_APRENDIZAJE_EN_LA_NUBE\\ProyectoMLOps\\.venv\\Lib\\site-packages\\xgboost\\sklearn.py:1028: UserWarning: [14:47:30] WARNING: C:\\actions-runner\\_work\\xgboost\\xgboost\\src\\c_api\\c_api.cc:1427: Saving model in the UBJSON format as default.  You can use file extension: `json`, `ubj` or `deprecated` to choose between formats.\"\n",
      "[I 2025-10-06 14:47:35,936] Trial 12 finished with value: 0.7114652501106684 and parameters: {'n_estimators': 371, 'max_depth': 5, 'learning_rate': 0.12467640488401027, 'subsample': 0.6530871325743715, 'colsample_bytree': 0.8089162924340807, 'gamma': 0.7392461526804881}. Best is trial 2 with value: 0.7124890829694324.\n"
     ]
    },
    {
     "name": "stdout",
     "output_type": "stream",
     "text": [
      "🏃 View run aged-stoat-659 at: http://127.0.0.1:5000/#/experiments/6/runs/feef9efbd6434bb8927b7c6553599bf5\n",
      "🧪 View experiment at: http://127.0.0.1:5000/#/experiments/6\n"
     ]
    },
    {
     "name": "stderr",
     "output_type": "stream",
     "text": [
      "2025/10/06 14:47:36 WARNING mlflow.models.model: `artifact_path` is deprecated. Please use `name` instead.\n",
      "2025/10/06 14:47:36 WARNING mlflow.utils.autologging_utils: MLflow autologging encountered a warning: \"c:\\Users\\ASUS\\Documents\\6_CURSOS\\ESPECIALIZACION\\Semestre_II\\4_APRENDIZAJE_EN_LA_NUBE\\ProyectoMLOps\\.venv\\Lib\\site-packages\\xgboost\\sklearn.py:1028: UserWarning: [14:47:36] WARNING: C:\\actions-runner\\_work\\xgboost\\xgboost\\src\\c_api\\c_api.cc:1427: Saving model in the UBJSON format as default.  You can use file extension: `json`, `ubj` or `deprecated` to choose between formats.\"\n",
      "[I 2025-10-06 14:47:42,812] Trial 13 finished with value: 0.710826703562781 and parameters: {'n_estimators': 321, 'max_depth': 6, 'learning_rate': 0.21219744082210162, 'subsample': 0.9630456369115992, 'colsample_bytree': 0.7929402946803307, 'gamma': 4.808650911412562}. Best is trial 2 with value: 0.7124890829694324.\n"
     ]
    },
    {
     "name": "stdout",
     "output_type": "stream",
     "text": [
      "🏃 View run lyrical-frog-607 at: http://127.0.0.1:5000/#/experiments/6/runs/1f03857e8cfa43209fadf898b57814f4\n",
      "🧪 View experiment at: http://127.0.0.1:5000/#/experiments/6\n"
     ]
    },
    {
     "name": "stderr",
     "output_type": "stream",
     "text": [
      "2025/10/06 14:47:44 WARNING mlflow.models.model: `artifact_path` is deprecated. Please use `name` instead.\n",
      "2025/10/06 14:47:44 WARNING mlflow.utils.autologging_utils: MLflow autologging encountered a warning: \"c:\\Users\\ASUS\\Documents\\6_CURSOS\\ESPECIALIZACION\\Semestre_II\\4_APRENDIZAJE_EN_LA_NUBE\\ProyectoMLOps\\.venv\\Lib\\site-packages\\xgboost\\sklearn.py:1028: UserWarning: [14:47:44] WARNING: C:\\actions-runner\\_work\\xgboost\\xgboost\\src\\c_api\\c_api.cc:1427: Saving model in the UBJSON format as default.  You can use file extension: `json`, `ubj` or `deprecated` to choose between formats.\"\n",
      "[I 2025-10-06 14:47:50,628] Trial 14 finished with value: 0.7031539888682746 and parameters: {'n_estimators': 437, 'max_depth': 8, 'learning_rate': 0.1240900329491548, 'subsample': 0.6480807549778622, 'colsample_bytree': 0.8747426601808579, 'gamma': 1.225753800230478}. Best is trial 2 with value: 0.7124890829694324.\n"
     ]
    },
    {
     "name": "stdout",
     "output_type": "stream",
     "text": [
      "🏃 View run kindly-hen-349 at: http://127.0.0.1:5000/#/experiments/6/runs/2ca03361858b4c1baca2a645a904b2ce\n",
      "🧪 View experiment at: http://127.0.0.1:5000/#/experiments/6\n"
     ]
    },
    {
     "name": "stderr",
     "output_type": "stream",
     "text": [
      "2025/10/06 14:47:52 WARNING mlflow.models.model: `artifact_path` is deprecated. Please use `name` instead.\n",
      "2025/10/06 14:47:52 WARNING mlflow.utils.autologging_utils: MLflow autologging encountered a warning: \"c:\\Users\\ASUS\\Documents\\6_CURSOS\\ESPECIALIZACION\\Semestre_II\\4_APRENDIZAJE_EN_LA_NUBE\\ProyectoMLOps\\.venv\\Lib\\site-packages\\xgboost\\sklearn.py:1028: UserWarning: [14:47:52] WARNING: C:\\actions-runner\\_work\\xgboost\\xgboost\\src\\c_api\\c_api.cc:1427: Saving model in the UBJSON format as default.  You can use file extension: `json`, `ubj` or `deprecated` to choose between formats.\"\n",
      "[I 2025-10-06 14:47:57,397] Trial 15 finished with value: 0.7103953677734551 and parameters: {'n_estimators': 438, 'max_depth': 10, 'learning_rate': 0.05636729174987297, 'subsample': 0.7327454611103645, 'colsample_bytree': 0.7516597023292445, 'gamma': 1.3264400606337468}. Best is trial 2 with value: 0.7124890829694324.\n"
     ]
    },
    {
     "name": "stdout",
     "output_type": "stream",
     "text": [
      "🏃 View run learned-trout-606 at: http://127.0.0.1:5000/#/experiments/6/runs/3c54428e8d7b481eb1f9799b671cbfd0\n",
      "🧪 View experiment at: http://127.0.0.1:5000/#/experiments/6\n"
     ]
    },
    {
     "name": "stderr",
     "output_type": "stream",
     "text": [
      "2025/10/06 14:47:57 WARNING mlflow.models.model: `artifact_path` is deprecated. Please use `name` instead.\n",
      "2025/10/06 14:47:57 WARNING mlflow.utils.autologging_utils: MLflow autologging encountered a warning: \"c:\\Users\\ASUS\\Documents\\6_CURSOS\\ESPECIALIZACION\\Semestre_II\\4_APRENDIZAJE_EN_LA_NUBE\\ProyectoMLOps\\.venv\\Lib\\site-packages\\xgboost\\sklearn.py:1028: UserWarning: [14:47:57] WARNING: C:\\actions-runner\\_work\\xgboost\\xgboost\\src\\c_api\\c_api.cc:1427: Saving model in the UBJSON format as default.  You can use file extension: `json`, `ubj` or `deprecated` to choose between formats.\"\n",
      "[I 2025-10-06 14:48:02,929] Trial 16 finished with value: 0.7111459968602826 and parameters: {'n_estimators': 324, 'max_depth': 6, 'learning_rate': 0.2195916112941566, 'subsample': 0.8224302961335953, 'colsample_bytree': 0.6967744617356447, 'gamma': 4.184773294074823}. Best is trial 2 with value: 0.7124890829694324.\n"
     ]
    },
    {
     "name": "stdout",
     "output_type": "stream",
     "text": [
      "🏃 View run spiffy-cow-248 at: http://127.0.0.1:5000/#/experiments/6/runs/54d8156037554562ad64c0b27d47ddd1\n",
      "🧪 View experiment at: http://127.0.0.1:5000/#/experiments/6\n"
     ]
    },
    {
     "name": "stderr",
     "output_type": "stream",
     "text": [
      "2025/10/06 14:48:04 WARNING mlflow.models.model: `artifact_path` is deprecated. Please use `name` instead.\n",
      "2025/10/06 14:48:04 WARNING mlflow.utils.autologging_utils: MLflow autologging encountered a warning: \"c:\\Users\\ASUS\\Documents\\6_CURSOS\\ESPECIALIZACION\\Semestre_II\\4_APRENDIZAJE_EN_LA_NUBE\\ProyectoMLOps\\.venv\\Lib\\site-packages\\xgboost\\sklearn.py:1028: UserWarning: [14:48:04] WARNING: C:\\actions-runner\\_work\\xgboost\\xgboost\\src\\c_api\\c_api.cc:1427: Saving model in the UBJSON format as default.  You can use file extension: `json`, `ubj` or `deprecated` to choose between formats.\"\n",
      "[I 2025-10-06 14:48:09,519] Trial 17 finished with value: 0.6941221228837741 and parameters: {'n_estimators': 494, 'max_depth': 8, 'learning_rate': 0.1239738736527671, 'subsample': 0.6650466834427797, 'colsample_bytree': 0.9699491301126267, 'gamma': 0.17039567641517295}. Best is trial 2 with value: 0.7124890829694324.\n"
     ]
    },
    {
     "name": "stdout",
     "output_type": "stream",
     "text": [
      "🏃 View run casual-bat-999 at: http://127.0.0.1:5000/#/experiments/6/runs/e1a02a92d71849649b355c8c7a52b66c\n",
      "🧪 View experiment at: http://127.0.0.1:5000/#/experiments/6\n"
     ]
    },
    {
     "name": "stderr",
     "output_type": "stream",
     "text": [
      "2025/10/06 14:48:10 WARNING mlflow.models.model: `artifact_path` is deprecated. Please use `name` instead.\n",
      "2025/10/06 14:48:10 WARNING mlflow.utils.autologging_utils: MLflow autologging encountered a warning: \"c:\\Users\\ASUS\\Documents\\6_CURSOS\\ESPECIALIZACION\\Semestre_II\\4_APRENDIZAJE_EN_LA_NUBE\\ProyectoMLOps\\.venv\\Lib\\site-packages\\xgboost\\sklearn.py:1028: UserWarning: [14:48:10] WARNING: C:\\actions-runner\\_work\\xgboost\\xgboost\\src\\c_api\\c_api.cc:1427: Saving model in the UBJSON format as default.  You can use file extension: `json`, `ubj` or `deprecated` to choose between formats.\"\n",
      "[I 2025-10-06 14:48:15,862] Trial 18 finished with value: 0.708878302295366 and parameters: {'n_estimators': 279, 'max_depth': 5, 'learning_rate': 0.0390013438653494, 'subsample': 0.778037760949296, 'colsample_bytree': 0.6024192367247958, 'gamma': 1.5933325928786517}. Best is trial 2 with value: 0.7124890829694324.\n"
     ]
    },
    {
     "name": "stdout",
     "output_type": "stream",
     "text": [
      "🏃 View run stately-hog-700 at: http://127.0.0.1:5000/#/experiments/6/runs/dae4f8e1fad24756832a76c7b0ab9eb9\n",
      "🧪 View experiment at: http://127.0.0.1:5000/#/experiments/6\n"
     ]
    },
    {
     "name": "stderr",
     "output_type": "stream",
     "text": [
      "2025/10/06 14:48:16 WARNING mlflow.models.model: `artifact_path` is deprecated. Please use `name` instead.\n",
      "2025/10/06 14:48:16 WARNING mlflow.utils.autologging_utils: MLflow autologging encountered a warning: \"c:\\Users\\ASUS\\Documents\\6_CURSOS\\ESPECIALIZACION\\Semestre_II\\4_APRENDIZAJE_EN_LA_NUBE\\ProyectoMLOps\\.venv\\Lib\\site-packages\\xgboost\\sklearn.py:1028: UserWarning: [14:48:16] WARNING: C:\\actions-runner\\_work\\xgboost\\xgboost\\src\\c_api\\c_api.cc:1427: Saving model in the UBJSON format as default.  You can use file extension: `json`, `ubj` or `deprecated` to choose between formats.\"\n",
      "[I 2025-10-06 14:48:22,603] Trial 19 finished with value: 0.7080734428533778 and parameters: {'n_estimators': 414, 'max_depth': 8, 'learning_rate': 0.19349456818220317, 'subsample': 0.6225594276011936, 'colsample_bytree': 0.8330472561506347, 'gamma': 4.355678055512402}. Best is trial 2 with value: 0.7124890829694324.\n"
     ]
    },
    {
     "name": "stdout",
     "output_type": "stream",
     "text": [
      "🏃 View run judicious-goat-87 at: http://127.0.0.1:5000/#/experiments/6/runs/03675632844048018df57fd9983a1ccb\n",
      "🧪 View experiment at: http://127.0.0.1:5000/#/experiments/6\n"
     ]
    },
    {
     "name": "stderr",
     "output_type": "stream",
     "text": [
      "2025/10/06 14:48:23 WARNING mlflow.models.model: `artifact_path` is deprecated. Please use `name` instead.\n",
      "2025/10/06 14:48:23 WARNING mlflow.utils.autologging_utils: MLflow autologging encountered a warning: \"c:\\Users\\ASUS\\Documents\\6_CURSOS\\ESPECIALIZACION\\Semestre_II\\4_APRENDIZAJE_EN_LA_NUBE\\ProyectoMLOps\\.venv\\Lib\\site-packages\\xgboost\\sklearn.py:1028: UserWarning: [14:48:23] WARNING: C:\\actions-runner\\_work\\xgboost\\xgboost\\src\\c_api\\c_api.cc:1427: Saving model in the UBJSON format as default.  You can use file extension: `json`, `ubj` or `deprecated` to choose between formats.\"\n",
      "[I 2025-10-06 14:48:28,574] Trial 20 finished with value: 0.7129376488226475 and parameters: {'n_estimators': 363, 'max_depth': 9, 'learning_rate': 0.09730800184798082, 'subsample': 0.6852826628241349, 'colsample_bytree': 0.7571969384863063, 'gamma': 3.0783406086028053}. Best is trial 20 with value: 0.7129376488226475.\n"
     ]
    },
    {
     "name": "stdout",
     "output_type": "stream",
     "text": [
      "🏃 View run fearless-bee-800 at: http://127.0.0.1:5000/#/experiments/6/runs/d57bb1413c5a49199203d0d2e24f65be\n",
      "🧪 View experiment at: http://127.0.0.1:5000/#/experiments/6\n"
     ]
    },
    {
     "name": "stderr",
     "output_type": "stream",
     "text": [
      "2025/10/06 14:48:29 WARNING mlflow.models.model: `artifact_path` is deprecated. Please use `name` instead.\n",
      "2025/10/06 14:48:29 WARNING mlflow.utils.autologging_utils: MLflow autologging encountered a warning: \"c:\\Users\\ASUS\\Documents\\6_CURSOS\\ESPECIALIZACION\\Semestre_II\\4_APRENDIZAJE_EN_LA_NUBE\\ProyectoMLOps\\.venv\\Lib\\site-packages\\xgboost\\sklearn.py:1028: UserWarning: [14:48:29] WARNING: C:\\actions-runner\\_work\\xgboost\\xgboost\\src\\c_api\\c_api.cc:1427: Saving model in the UBJSON format as default.  You can use file extension: `json`, `ubj` or `deprecated` to choose between formats.\"\n",
      "[I 2025-10-06 14:48:34,410] Trial 21 finished with value: 0.7125242205390171 and parameters: {'n_estimators': 339, 'max_depth': 9, 'learning_rate': 0.10680557372385001, 'subsample': 0.6846376030433582, 'colsample_bytree': 0.7524337917735099, 'gamma': 3.2380124497745877}. Best is trial 20 with value: 0.7129376488226475.\n"
     ]
    },
    {
     "name": "stdout",
     "output_type": "stream",
     "text": [
      "🏃 View run likeable-fly-360 at: http://127.0.0.1:5000/#/experiments/6/runs/229732e9b38a4959a5d0ad9b8b4f97f4\n",
      "🧪 View experiment at: http://127.0.0.1:5000/#/experiments/6\n"
     ]
    },
    {
     "name": "stderr",
     "output_type": "stream",
     "text": [
      "2025/10/06 14:48:35 WARNING mlflow.models.model: `artifact_path` is deprecated. Please use `name` instead.\n",
      "2025/10/06 14:48:35 WARNING mlflow.utils.autologging_utils: MLflow autologging encountered a warning: \"c:\\Users\\ASUS\\Documents\\6_CURSOS\\ESPECIALIZACION\\Semestre_II\\4_APRENDIZAJE_EN_LA_NUBE\\ProyectoMLOps\\.venv\\Lib\\site-packages\\xgboost\\sklearn.py:1028: UserWarning: [14:48:35] WARNING: C:\\actions-runner\\_work\\xgboost\\xgboost\\src\\c_api\\c_api.cc:1427: Saving model in the UBJSON format as default.  You can use file extension: `json`, `ubj` or `deprecated` to choose between formats.\"\n",
      "[I 2025-10-06 14:48:40,708] Trial 22 finished with value: 0.7126355700555507 and parameters: {'n_estimators': 352, 'max_depth': 9, 'learning_rate': 0.06879211308402511, 'subsample': 0.6353647941533067, 'colsample_bytree': 0.7540176664787169, 'gamma': 3.068918103823875}. Best is trial 20 with value: 0.7129376488226475.\n"
     ]
    },
    {
     "name": "stdout",
     "output_type": "stream",
     "text": [
      "🏃 View run peaceful-ant-258 at: http://127.0.0.1:5000/#/experiments/6/runs/5f30df6c50ba46cfa1838c18057b56e1\n",
      "🧪 View experiment at: http://127.0.0.1:5000/#/experiments/6\n"
     ]
    },
    {
     "name": "stderr",
     "output_type": "stream",
     "text": [
      "2025/10/06 14:48:41 WARNING mlflow.models.model: `artifact_path` is deprecated. Please use `name` instead.\n",
      "2025/10/06 14:48:41 WARNING mlflow.utils.autologging_utils: MLflow autologging encountered a warning: \"c:\\Users\\ASUS\\Documents\\6_CURSOS\\ESPECIALIZACION\\Semestre_II\\4_APRENDIZAJE_EN_LA_NUBE\\ProyectoMLOps\\.venv\\Lib\\site-packages\\xgboost\\sklearn.py:1028: UserWarning: [14:48:41] WARNING: C:\\actions-runner\\_work\\xgboost\\xgboost\\src\\c_api\\c_api.cc:1427: Saving model in the UBJSON format as default.  You can use file extension: `json`, `ubj` or `deprecated` to choose between formats.\"\n",
      "[I 2025-10-06 14:48:46,755] Trial 23 finished with value: 0.7138705416116249 and parameters: {'n_estimators': 333, 'max_depth': 9, 'learning_rate': 0.06927659202446733, 'subsample': 0.7384018543749307, 'colsample_bytree': 0.7456148148748957, 'gamma': 3.131133258823818}. Best is trial 23 with value: 0.7138705416116249.\n"
     ]
    },
    {
     "name": "stdout",
     "output_type": "stream",
     "text": [
      "🏃 View run carefree-shrike-770 at: http://127.0.0.1:5000/#/experiments/6/runs/1da7fd10c8f848eea22eeccf519f5fcd\n",
      "🧪 View experiment at: http://127.0.0.1:5000/#/experiments/6\n"
     ]
    },
    {
     "name": "stderr",
     "output_type": "stream",
     "text": [
      "2025/10/06 14:48:47 WARNING mlflow.models.model: `artifact_path` is deprecated. Please use `name` instead.\n",
      "2025/10/06 14:48:47 WARNING mlflow.utils.autologging_utils: MLflow autologging encountered a warning: \"c:\\Users\\ASUS\\Documents\\6_CURSOS\\ESPECIALIZACION\\Semestre_II\\4_APRENDIZAJE_EN_LA_NUBE\\ProyectoMLOps\\.venv\\Lib\\site-packages\\xgboost\\sklearn.py:1028: UserWarning: [14:48:47] WARNING: C:\\actions-runner\\_work\\xgboost\\xgboost\\src\\c_api\\c_api.cc:1427: Saving model in the UBJSON format as default.  You can use file extension: `json`, `ubj` or `deprecated` to choose between formats.\"\n",
      "[I 2025-10-06 14:48:52,661] Trial 24 finished with value: 0.7130450039477148 and parameters: {'n_estimators': 356, 'max_depth': 9, 'learning_rate': 0.06896956515340716, 'subsample': 0.7383104017236141, 'colsample_bytree': 0.7678448757307739, 'gamma': 3.035765880074112}. Best is trial 23 with value: 0.7138705416116249.\n"
     ]
    },
    {
     "name": "stdout",
     "output_type": "stream",
     "text": [
      "🏃 View run delicate-kit-478 at: http://127.0.0.1:5000/#/experiments/6/runs/67c5d8dcdeb541d0946ef20b95ddb568\n",
      "🧪 View experiment at: http://127.0.0.1:5000/#/experiments/6\n",
      "Mejores parámetros encontrados:\n",
      "{'n_estimators': 333, 'max_depth': 9, 'learning_rate': 0.06927659202446733, 'subsample': 0.7384018543749307, 'colsample_bytree': 0.7456148148748957, 'gamma': 3.131133258823818}\n",
      "Mejor F1 Score: 0.7139\n"
     ]
    },
    {
     "name": "stderr",
     "output_type": "stream",
     "text": [
      "2025/10/06 14:48:53 WARNING mlflow.models.model: `artifact_path` is deprecated. Please use `name` instead.\n",
      "2025/10/06 14:48:53 WARNING mlflow.utils.autologging_utils: MLflow autologging encountered a warning: \"c:\\Users\\ASUS\\Documents\\6_CURSOS\\ESPECIALIZACION\\Semestre_II\\4_APRENDIZAJE_EN_LA_NUBE\\ProyectoMLOps\\.venv\\Lib\\site-packages\\xgboost\\sklearn.py:1028: UserWarning: [14:48:53] WARNING: C:\\actions-runner\\_work\\xgboost\\xgboost\\src\\c_api\\c_api.cc:1427: Saving model in the UBJSON format as default.  You can use file extension: `json`, `ubj` or `deprecated` to choose between formats.\"\n",
      "2025/10/06 14:48:58 WARNING mlflow.models.model: `artifact_path` is deprecated. Please use `name` instead.\n",
      "c:\\Users\\ASUS\\Documents\\6_CURSOS\\ESPECIALIZACION\\Semestre_II\\4_APRENDIZAJE_EN_LA_NUBE\\ProyectoMLOps\\.venv\\Lib\\site-packages\\xgboost\\sklearn.py:1028: UserWarning: [14:48:58] WARNING: C:\\actions-runner\\_work\\xgboost\\xgboost\\src\\c_api\\c_api.cc:1427: Saving model in the UBJSON format as default.  You can use file extension: `json`, `ubj` or `deprecated` to choose between formats.\n",
      "  self.get_booster().save_model(fname)\n",
      "2025/10/06 14:49:04 WARNING mlflow.models.model: Model logged without a signature and input example. Please set `input_example` parameter when logging the model to auto infer the model signature.\n"
     ]
    },
    {
     "name": "stdout",
     "output_type": "stream",
     "text": [
      "🏃 View run XGB_Optuna_best at: http://127.0.0.1:5000/#/experiments/6/runs/8e920b3b99e24bd9a30553c32b8d4527\n",
      "🧪 View experiment at: http://127.0.0.1:5000/#/experiments/6\n"
     ]
    }
   ],
   "source": [
    "import optuna\n",
    "\n",
    "mlflow.set_experiment(\"Ingresos_Optuna\")\n",
    "\n",
    "\n",
    "def objective(trial):\n",
    "    n_pos = np.sum(y_train == 1)\n",
    "    n_neg = np.sum(y_train == 0)\n",
    "\n",
    "    # Hiperparámetros que Optuna explorará\n",
    "    param = {\n",
    "        \"objective\": \"binary:logistic\",\n",
    "        \"eval_metric\": \"logloss\",\n",
    "        \"n_estimators\": trial.suggest_int(\"n_estimators\", 100, 500),\n",
    "        \"max_depth\": trial.suggest_int(\"max_depth\", 3, 10),\n",
    "        \"learning_rate\": trial.suggest_float(\"learning_rate\", 0.01, 0.3),\n",
    "        \"subsample\": trial.suggest_float(\"subsample\", 0.6, 1.0),\n",
    "        \"colsample_bytree\": trial.suggest_float(\"colsample_bytree\", 0.6, 1.0),\n",
    "        \"gamma\": trial.suggest_float(\"gamma\", 0, 5),\n",
    "        \"scale_pos_weight\": n_neg / n_pos\n",
    "    }\n",
    "\n",
    "    # MLflow registra cada intento como un run\n",
    "    with mlflow.start_run(nested=True):\n",
    "        xgb_clf = xgb.XGBClassifier(**param, random_state=42, n_jobs=-1)\n",
    "        xgb_clf.fit(X_train, y_train)\n",
    "        y_pred = xgb_clf.predict(X_val)\n",
    "\n",
    "        f1 = f1_score(y_val, y_pred)\n",
    "        mlflow.log_metrics({\"f1_score\": f1})\n",
    "        mlflow.log_params(param)\n",
    "    \n",
    "    return f1  # queremos maximizar F1\n",
    "\n",
    "# Ejecutar la optimización\n",
    "study = optuna.create_study(direction=\"maximize\")\n",
    "study.optimize(objective, n_trials=25)  \n",
    "\n",
    "# 🔹 Resultados\n",
    "print(\"Mejores parámetros encontrados:\")\n",
    "print(study.best_params)\n",
    "print(f\"Mejor F1 Score: {study.best_value:.4f}\")\n",
    "\n",
    "# Guardar el mejor modelo en MLflow\n",
    "with mlflow.start_run(run_name=\"XGB_Optuna_best\"):\n",
    "    best_model = xgb.XGBClassifier(**study.best_params, random_state=42)\n",
    "    best_model.fit(X_train, y_train)\n",
    "    mlflow.xgboost.log_model(best_model, \"model_best\")\n"
   ]
  },
  {
   "cell_type": "code",
   "execution_count": 35,
   "id": "9f31a6d6",
   "metadata": {},
   "outputs": [
    {
     "data": {
      "text/plain": [
       "{'n_estimators': 333,\n",
       " 'max_depth': 9,\n",
       " 'learning_rate': 0.06927659202446733,\n",
       " 'subsample': 0.7384018543749307,\n",
       " 'colsample_bytree': 0.7456148148748957,\n",
       " 'gamma': 3.131133258823818}"
      ]
     },
     "execution_count": 35,
     "metadata": {},
     "output_type": "execute_result"
    }
   ],
   "source": [
    "study.best_params"
   ]
  },
  {
   "cell_type": "markdown",
   "id": "f6adcb9e",
   "metadata": {},
   "source": [
    "**SERVIDOR TRACKING**"
   ]
  },
  {
   "cell_type": "markdown",
   "id": "018bf7db",
   "metadata": {},
   "source": [
    "duration-prediction"
   ]
  },
  {
   "cell_type": "markdown",
   "id": "b60c0500",
   "metadata": {},
   "source": [
    "mlflow server --backend-store-uri sqlite:///mlflow.db --default-artifact-root ./mlruns --host 0.0.0.0 --port 5000"
   ]
  },
  {
   "cell_type": "code",
   "execution_count": 39,
   "id": "84f25ca9",
   "metadata": {},
   "outputs": [
    {
     "name": "stderr",
     "output_type": "stream",
     "text": [
      "2025/10/04 15:46:58 INFO mlflow.tracking.fluent: Experiment with name 'Ingresos-experiment' does not exist. Creating a new experiment.\n"
     ]
    },
    {
     "data": {
      "text/plain": [
       "<Experiment: artifact_location='file:///C:/Users/eaop0/OneDrive/Desktop/Especializacion/Segundo_Semestre/Aprendizaje_Nube/Clon_Entregable/ProyectoMLOps/src/notebook/mlruns/1', creation_time=1759610818041, experiment_id='1', last_update_time=1759610818041, lifecycle_stage='active', name='Ingresos-experiment', tags={}>"
      ]
     },
     "execution_count": 39,
     "metadata": {},
     "output_type": "execute_result"
    }
   ],
   "source": [
    "mlflow.set_tracking_uri(\"http://localhost:5000\")\n",
    "mlflow.set_experiment(\"Ingresos-experiment\")"
   ]
  },
  {
   "cell_type": "code",
   "execution_count": 39,
   "id": "4d95f419",
   "metadata": {},
   "outputs": [
    {
     "name": "stderr",
     "output_type": "stream",
     "text": [
      "2025/10/06 17:28:54 WARNING mlflow.models.model: `artifact_path` is deprecated. Please use `name` instead.\n",
      "2025/10/06 17:28:54 WARNING mlflow.utils.autologging_utils: MLflow autologging encountered a warning: \"c:\\Users\\ASUS\\Documents\\6_CURSOS\\ESPECIALIZACION\\Semestre_II\\4_APRENDIZAJE_EN_LA_NUBE\\ProyectoMLOps\\.venv\\Lib\\site-packages\\xgboost\\sklearn.py:1028: UserWarning: [17:28:54] WARNING: C:\\actions-runner\\_work\\xgboost\\xgboost\\src\\c_api\\c_api.cc:1427: Saving model in the UBJSON format as default.  You can use file extension: `json`, `ubj` or `deprecated` to choose between formats.\"\n",
      "2025/10/06 17:29:02 WARNING mlflow.models.model: `artifact_path` is deprecated. Please use `name` instead.\n",
      "c:\\Users\\ASUS\\Documents\\6_CURSOS\\ESPECIALIZACION\\Semestre_II\\4_APRENDIZAJE_EN_LA_NUBE\\ProyectoMLOps\\.venv\\Lib\\site-packages\\xgboost\\sklearn.py:1028: UserWarning: [17:29:02] WARNING: C:\\actions-runner\\_work\\xgboost\\xgboost\\src\\c_api\\c_api.cc:1427: Saving model in the UBJSON format as default.  You can use file extension: `json`, `ubj` or `deprecated` to choose between formats.\n",
      "  self.get_booster().save_model(fname)\n",
      "2025/10/06 17:29:09 WARNING mlflow.models.model: Model logged without a signature and input example. Please set `input_example` parameter when logging the model to auto infer the model signature.\n"
     ]
    },
    {
     "name": "stdout",
     "output_type": "stream",
     "text": [
      "🏃 View run xgb_classifier_dictvec at: http://127.0.0.1:5000/#/experiments/8/runs/a0c29fec01d547aebb71a632a934e0a3\n",
      "🧪 View experiment at: http://127.0.0.1:5000/#/experiments/8\n",
      "XGB | acc:0.835 f1:0.712 prec:0.612 rec:0.851 roc:0.929\n"
     ]
    }
   ],
   "source": [
    "import pickle\n",
    "from pathlib import Path\n",
    "import numpy as np\n",
    "import mlflow\n",
    "import mlflow.xgboost\n",
    "from sklearn.feature_extraction import DictVectorizer\n",
    "from sklearn.model_selection import train_test_split\n",
    "from sklearn.metrics import accuracy_score, precision_score, recall_score, f1_score, roc_auc_score\n",
    "import xgboost as xgb\n",
    "\n",
    "# 1) Tracking (apunta al server ya levantado)\n",
    "#mlflow.set_tracking_uri(\"http://127.0.0.1:5000\")\n",
    "mlflow.set_experiment(\"Adult-MLFlow-Orquestacion\")\n",
    "\n",
    "# 2) Definir features correctamente\n",
    "categorical = ['workclass','marital-status','occupation',\n",
    "               'relationship','native-country']  # categóricas\n",
    "numerical   = ['age','education-num','capital-gain','capital-loss','hours-per-week']  # numéricas\n",
    "\n",
    "# 3) Split estratificado\n",
    "df_train_orq, df_val_orq = train_test_split(df, test_size=0.4, random_state=42, stratify=df['income'])\n",
    "\n",
    "# 4) DictVectorizer \n",
    "dv = DictVectorizer()\n",
    "\n",
    "train_dicts = (df_train_orq[categorical].astype(str)\n",
    "               .assign(**df_train_orq[numerical])\n",
    "               .to_dict(orient='records'))\n",
    "X_train = dv.fit_transform(train_dicts)\n",
    "y_train = df_train_orq['income'].values  # 0/1\n",
    "\n",
    "val_dicts = (df_val_orq[categorical].astype(str)\n",
    "             .assign(**df_val_orq[numerical])\n",
    "             .to_dict(orient='records'))\n",
    "X_val = dv.transform(val_dicts)\n",
    "y_val = df_val_orq['income'].values\n",
    "\n",
    "# 5) Balanceo para XGBoost\n",
    "n_pos = int((y_train == 1).sum())\n",
    "n_neg = int((y_train == 0).sum())\n",
    "spw = n_neg / n_pos\n",
    "\n",
    "# 6) Entrenar XGBClassifier y registrar en MLflow\n",
    "models_folder = Path('models')\n",
    "models_folder.mkdir(exist_ok=True)\n",
    "\n",
    "with mlflow.start_run(run_name=\"xgb_classifier_dictvec\"):\n",
    "    params = {\n",
    "        'n_estimators': 333,\n",
    "        'max_depth': 9,\n",
    "        'learning_rate': 0.06927659202446733,\n",
    "        'subsample': 0.7384018543749307,\n",
    "        'colsample_bytree': 0.7456148148748957,\n",
    "        'gamma': 3.131133258823818,\n",
    "        #modelo binario\n",
    "        'objective': 'binary:logistic',\n",
    "        'eval_metric': 'logloss',\n",
    "        'scale_pos_weight': spw,\n",
    "        'n_jobs': -1,\n",
    "        'random_state': 42,\n",
    "    }\n",
    "\n",
    "    xgb_clf = xgb.XGBClassifier(**params)\n",
    "    # opcional: eval_set para que autolog registre métricas de validación si activas mlflow.xgboost.autolog()\n",
    "    xgb_clf.fit(X_train, \n",
    "                y_train, \n",
    "                eval_set=[(X_val, y_val)], \n",
    "                verbose=False\n",
    "    )\n",
    "\n",
    "    # 7) Métricas de clasificación\n",
    "    y_pred  = xgb_clf.predict(X_val)\n",
    "    y_proba = xgb_clf.predict_proba(X_val)[:, 1]\n",
    "\n",
    "    acc  = accuracy_score(y_val, y_pred)\n",
    "    prec = precision_score(y_val, y_pred)\n",
    "    rec  = recall_score(y_val, y_pred)\n",
    "    f1   = f1_score(y_val, y_pred)\n",
    "    roc  = roc_auc_score(y_val, y_proba)\n",
    "\n",
    "    # 8) Log en MLflow\n",
    "    mlflow.log_params(params)\n",
    "    mlflow.log_metric(\"accuracy\", acc)\n",
    "    mlflow.log_metric(\"precision\", prec)\n",
    "    mlflow.log_metric(\"recall\", rec)\n",
    "    mlflow.log_metric(\"f1_score\", f1)\n",
    "    mlflow.log_metric(\"roc_auc\", roc)\n",
    "\n",
    "    # 9) Guardar y loguear el preprocesador (DictVectorizer)\n",
    "    with open(models_folder / \"preprocessor.b\", \"wb\") as f_out:\n",
    "        pickle.dump(dv, f_out)\n",
    "    mlflow.log_artifact(str(models_folder / \"preprocessor.b\"), artifact_path=\"preprocessor\")\n",
    "\n",
    "    # 10) Guardar el modelo\n",
    "    mlflow.xgboost.log_model(xgb_clf, artifact_path=\"model_mlflow\")\n",
    "\n",
    "print(f\"XGB | acc:{acc:.3f} f1:{f1:.3f} prec:{prec:.3f} rec:{rec:.3f} roc:{roc:.3f}\")\n"
   ]
  },
  {
   "cell_type": "code",
   "execution_count": null,
   "id": "107d34a6",
   "metadata": {},
   "outputs": [
    {
     "name": "stdout",
     "output_type": "stream",
     "text": [
      "[0]\tvalidation-rmse:0.38678\n",
      "[1]\tvalidation-rmse:0.34970\n",
      "[2]\tvalidation-rmse:0.31618\n",
      "[3]\tvalidation-rmse:0.28588\n",
      "[4]\tvalidation-rmse:0.25847\n",
      "[5]\tvalidation-rmse:0.23370\n",
      "[6]\tvalidation-rmse:0.21130\n",
      "[7]\tvalidation-rmse:0.19104\n",
      "[8]\tvalidation-rmse:0.17273\n",
      "[9]\tvalidation-rmse:0.15618\n",
      "[10]\tvalidation-rmse:0.14121\n",
      "[11]\tvalidation-rmse:0.12767\n",
      "[12]\tvalidation-rmse:0.11543\n",
      "[13]\tvalidation-rmse:0.10437\n",
      "[14]\tvalidation-rmse:0.09436\n",
      "[15]\tvalidation-rmse:0.08532\n",
      "[16]\tvalidation-rmse:0.07714\n",
      "[17]\tvalidation-rmse:0.06975\n",
      "[18]\tvalidation-rmse:0.06306\n",
      "[19]\tvalidation-rmse:0.05702\n",
      "[20]\tvalidation-rmse:0.05155\n",
      "[21]\tvalidation-rmse:0.04661\n",
      "[22]\tvalidation-rmse:0.04214\n",
      "[23]\tvalidation-rmse:0.03810\n",
      "[24]\tvalidation-rmse:0.03445\n",
      "[25]\tvalidation-rmse:0.03115\n",
      "[26]\tvalidation-rmse:0.02816\n",
      "[27]\tvalidation-rmse:0.02546\n",
      "[28]\tvalidation-rmse:0.02302\n",
      "[29]\tvalidation-rmse:0.02082\n"
     ]
    },
    {
     "name": "stderr",
     "output_type": "stream",
     "text": [
      "c:\\Users\\eaop0\\OneDrive\\Desktop\\Especializacion\\Segundo_Semestre\\Aprendizaje_Nube\\Clon_Entregable\\ProyectoMLOps\\.venv\\Lib\\site-packages\\xgboost\\callback.py:386: UserWarning: [16:01:23] WARNING: C:\\actions-runner\\_work\\xgboost\\xgboost\\src\\objective\\regression_obj.cu:245: reg:linear is now deprecated in favor of reg:squarederror.\n",
      "  self.starting_round = model.num_boosted_rounds()\n",
      "2025/10/04 16:01:23 WARNING mlflow.models.model: `artifact_path` is deprecated. Please use `name` instead.\n",
      "2025/10/04 16:01:24 WARNING mlflow.utils.autologging_utils: MLflow autologging encountered a warning: \"c:\\Users\\eaop0\\OneDrive\\Desktop\\Especializacion\\Segundo_Semestre\\Aprendizaje_Nube\\Clon_Entregable\\ProyectoMLOps\\.venv\\Lib\\site-packages\\mlflow\\xgboost\\__init__.py:169: UserWarning: [16:01:24] WARNING: C:\\actions-runner\\_work\\xgboost\\xgboost\\src\\c_api\\c_api.cc:1427: Saving model in the UBJSON format as default.  You can use file extension: `json`, `ubj` or `deprecated` to choose between formats.\"\n",
      "2025/10/04 16:01:28 WARNING mlflow.utils.environment: Failed to resolve installed pip version. ``pip`` will be added to conda.yaml environment spec without a version specifier.\n",
      "2025/10/04 16:01:30 WARNING mlflow.models.model: `artifact_path` is deprecated. Please use `name` instead.\n",
      "c:\\Users\\eaop0\\OneDrive\\Desktop\\Especializacion\\Segundo_Semestre\\Aprendizaje_Nube\\Clon_Entregable\\ProyectoMLOps\\.venv\\Lib\\site-packages\\mlflow\\xgboost\\__init__.py:169: UserWarning: [16:01:30] WARNING: C:\\actions-runner\\_work\\xgboost\\xgboost\\src\\c_api\\c_api.cc:1427: Saving model in the UBJSON format as default.  You can use file extension: `json`, `ubj` or `deprecated` to choose between formats.\n",
      "  xgb_model.save_model(model_data_path)\n",
      "2025/10/04 16:01:35 WARNING mlflow.utils.environment: Failed to resolve installed pip version. ``pip`` will be added to conda.yaml environment spec without a version specifier.\n",
      "2025/10/04 16:01:35 WARNING mlflow.models.model: Model logged without a signature and input example. Please set `input_example` parameter when logging the model to auto infer the model signature.\n"
     ]
    },
    {
     "name": "stdout",
     "output_type": "stream",
     "text": [
      "🏃 View run colorful-koi-78 at: http://localhost:5000/#/experiments/1/runs/9180fa70d3ef442fbb2d33be480c4e3a\n",
      "🧪 View experiment at: http://localhost:5000/#/experiments/1\n"
     ]
    }
   ],
   "source": [
    "def read_dataframe(filename):\n",
    "    #TODO add docstrings in al functions\n",
    "    df = pd.read_parquet(filename)\n",
    "\n",
    "    df['income'] = df.lpep_dropoff_datetime - df.lpep_pickup_datetime\n",
    "    df.duration = df.duration.apply(lambda td: td.total_seconds() / 60)\n",
    "\n",
    "    df = df[(df.duration >= 1) & (df.duration <= 60)]\n",
    "\n",
    "    categorical = ['age', 'sex']\n",
    "    df[categorical] = df[categorical].astype(str)\n",
    "\n",
    "    df['AG_SE'] = df['age'] + '_' + df['sex']\n",
    "\n",
    "    return df\n",
    "\n",
    "df_train_orquesta, df_val_orquesta = train_test_split(df, test_size=0.4, random_state=42)\n",
    "\n",
    "categorical = ['age','sex'] \n",
    "numerical = ['income']\n",
    "\n",
    "dv = DictVectorizer()\n",
    "\n",
    "train_dicts = df_train_orquesta[categorical + numerical].to_dict(orient='records')\n",
    "X_train = dv.fit_transform(train_dicts)\n",
    "\n",
    "val_dicts = df_val_orquesta[categorical + numerical].to_dict(orient='records')\n",
    "X_val = dv.transform(val_dicts)\n",
    "\n",
    "target = 'income'\n",
    "y_train_orquesta = df_train[target].values\n",
    "y_val_orquesta = df_val[target].values\n",
    "\n",
    "from pathlib import Path\n",
    "from sklearn.metrics import root_mean_squared_error\n",
    "\n",
    "\n",
    "models_folder = Path('models')\n",
    "models_folder.mkdir(exist_ok=True)\n",
    "\n",
    "\n",
    "\n",
    "with mlflow.start_run():\n",
    "    train = xgb.DMatrix(X_train, label=y_train_orquesta)\n",
    "    valid = xgb.DMatrix(X_val, label=y_val_orquesta)\n",
    "\n",
    "    best_params = {\n",
    "        'learning_rate': 0.09585355369315604,\n",
    "        'max_depth': 30,\n",
    "        'min_child_weight': 1.060597050922164,\n",
    "        'objective': 'reg:linear',\n",
    "        'reg_alpha': 0.018060244040060163,\n",
    "        'reg_lambda': 0.011658731377413597,\n",
    "        'seed': 42\n",
    "    }\n",
    "\n",
    "    mlflow.log_params(best_params)\n",
    "\n",
    "    booster = xgb.train(\n",
    "        params=best_params,\n",
    "        dtrain=train,\n",
    "        num_boost_round=30,\n",
    "        evals=[(valid, 'validation')],\n",
    "        early_stopping_rounds=50\n",
    "    )\n",
    "\n",
    "    y_pred = booster.predict(valid)\n",
    "    rmse = root_mean_squared_error(y_val_orquesta, y_pred)\n",
    "    mlflow.log_metric(\"rmse\", rmse)\n",
    "\n",
    "    with open(\"models/preprocessor.b\", \"wb\") as f_out:\n",
    "        pickle.dump(dv, f_out)\n",
    "    mlflow.log_artifact(\"models/preprocessor.b\", artifact_path=\"preprocessor\")\n",
    "\n",
    "    mlflow.xgboost.log_model(booster, artifact_path=\"models_mlflow\")"
   ]
  }
 ],
 "metadata": {
  "kernelspec": {
   "display_name": "proyectomlops",
   "language": "python",
   "name": "python3"
  },
  "language_info": {
   "codemirror_mode": {
    "name": "ipython",
    "version": 3
   },
   "file_extension": ".py",
   "mimetype": "text/x-python",
   "name": "python",
   "nbconvert_exporter": "python",
   "pygments_lexer": "ipython3",
   "version": "3.11.9"
  }
 },
 "nbformat": 4,
 "nbformat_minor": 5
}
